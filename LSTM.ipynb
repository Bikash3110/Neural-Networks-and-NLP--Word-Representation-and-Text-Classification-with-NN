{
  "nbformat": 4,
  "nbformat_minor": 0,
  "metadata": {
    "colab": {
      "name": "Untitled4.ipynb",
      "provenance": [],
      "collapsed_sections": [],
      "machine_shape": "hm"
    },
    "kernelspec": {
      "name": "python3",
      "display_name": "Python 3"
    }
  },
  "cells": [
    {
      "cell_type": "markdown",
      "metadata": {
        "id": "Rv1MkaElL8aj",
        "colab_type": "text"
      },
      "source": [
        "\n",
        "Lab 5 - LSTM for Text Classification\n",
        "\n",
        "\n",
        "1. Getting the Dataset\n",
        "\n",
        "\n"
      ]
    },
    {
      "cell_type": "code",
      "metadata": {
        "id": "Co6eQRfvLfnj",
        "colab_type": "code",
        "colab": {}
      },
      "source": [
        "import keras\n",
        "imdb = keras.datasets.imdb"
      ],
      "execution_count": 0,
      "outputs": []
    },
    {
      "cell_type": "markdown",
      "metadata": {
        "id": "dxkF_YYMMlT_",
        "colab_type": "text"
      },
      "source": [
        "loading only the top 10000 words in the vocabulary like you did last week"
      ]
    },
    {
      "cell_type": "code",
      "metadata": {
        "id": "z4uB6YTPMl-9",
        "colab_type": "code",
        "colab": {}
      },
      "source": [
        "VOCAB_SIZE = 10000"
      ],
      "execution_count": 0,
      "outputs": []
    },
    {
      "cell_type": "markdown",
      "metadata": {
        "id": "q572pv04MYjd",
        "colab_type": "text"
      },
      "source": [
        "we reserve indices 0 for ‘<PAD ’, 1 for ‘<START’ and 2 for ‘<UNK’ i.e. words not in vocabulary"
      ]
    },
    {
      "cell_type": "code",
      "metadata": {
        "id": "_vB92J3MMNzv",
        "colab_type": "code",
        "colab": {}
      },
      "source": [
        "INDEX_FROM = 3 # EDITED\n"
      ],
      "execution_count": 0,
      "outputs": []
    },
    {
      "cell_type": "code",
      "metadata": {
        "id": "g7AQ_t1ANC5X",
        "colab_type": "code",
        "colab": {}
      },
      "source": [
        "(train_data,train_labels),(test_data,test_labels) = imdb.load_data(num_words=VOCAB_SIZE, index_from=INDEX_FROM)"
      ],
      "execution_count": 0,
      "outputs": []
    },
    {
      "cell_type": "markdown",
      "metadata": {
        "id": "wLTG73fnNNzR",
        "colab_type": "text"
      },
      "source": [
        "Sanity check:\n",
        "\n",
        "Each instance in the training data is a list of word indices representing the words in the review"
      ]
    },
    {
      "cell_type": "code",
      "metadata": {
        "id": "1npK_0j7NR1J",
        "colab_type": "code",
        "colab": {
          "base_uri": "https://localhost:8080/",
          "height": 54
        },
        "outputId": "517745b6-ec88-43c2-8834-8d7a6035b0a7"
      },
      "source": [
        "print('Sample review:', train_data[0])\n"
      ],
      "execution_count": 150,
      "outputs": [
        {
          "output_type": "stream",
          "text": [
            "Sample review: [1, 14, 22, 16, 43, 530, 973, 1622, 1385, 65, 458, 4468, 66, 3941, 4, 173, 36, 256, 5, 25, 100, 43, 838, 112, 50, 670, 2, 9, 35, 480, 284, 5, 150, 4, 172, 112, 167, 2, 336, 385, 39, 4, 172, 4536, 1111, 17, 546, 38, 13, 447, 4, 192, 50, 16, 6, 147, 2025, 19, 14, 22, 4, 1920, 4613, 469, 4, 22, 71, 87, 12, 16, 43, 530, 38, 76, 15, 13, 1247, 4, 22, 17, 515, 17, 12, 16, 626, 18, 2, 5, 62, 386, 12, 8, 316, 8, 106, 5, 4, 2223, 5244, 16, 480, 66, 3785, 33, 4, 130, 12, 16, 38, 619, 5, 25, 124, 51, 36, 135, 48, 25, 1415, 33, 6, 22, 12, 215, 28, 77, 52, 5, 14, 407, 16, 82, 2, 8, 4, 107, 117, 5952, 15, 256, 4, 2, 7, 3766, 5, 723, 36, 71, 43, 530, 476, 26, 400, 317, 46, 7, 4, 2, 1029, 13, 104, 88, 4, 381, 15, 297, 98, 32, 2071, 56, 26, 141, 6, 194, 7486, 18, 4, 226, 22, 21, 134, 476, 26, 480, 5, 144, 30, 5535, 18, 51, 36, 28, 224, 92, 25, 104, 4, 226, 65, 16, 38, 1334, 88, 12, 16, 283, 5, 16, 4472, 113, 103, 32, 15, 16, 5345, 19, 178, 32]\n"
          ],
          "name": "stdout"
        }
      ]
    },
    {
      "cell_type": "markdown",
      "metadata": {
        "id": "nQt1tgOfNXfv",
        "colab_type": "text"
      },
      "source": [
        "and each label is 1 if that review is positive, else 0"
      ]
    },
    {
      "cell_type": "code",
      "metadata": {
        "id": "U_tkqsEjNZfU",
        "colab_type": "code",
        "colab": {
          "base_uri": "https://localhost:8080/",
          "height": 50
        },
        "outputId": "77047493-3920-4472-8ff2-90b1137efd46"
      },
      "source": [
        "print('\\n Sample label:', test_labels[1])"
      ],
      "execution_count": 151,
      "outputs": [
        {
          "output_type": "stream",
          "text": [
            "\n",
            " Sample label: 1\n"
          ],
          "name": "stdout"
        }
      ]
    },
    {
      "cell_type": "markdown",
      "metadata": {
        "id": "VSOvF1MwNiZn",
        "colab_type": "text"
      },
      "source": [
        "##2. Readying the Inputs for the LSTM\n",
        "The movie reviews are of different lengths. Last week, the vectors for all the words in a given\n",
        "review were averaged so that each input to the neural network was an EMBED_SIZE vector. The\n",
        "LSTM can handle sequence data by taking input in the sequence in turn i.e. taking one review at a\n",
        "time. The standard is to feed it same sized inputs i.e. reviews of the same length. This is achieved by\n",
        "padding or truncating each review as needed to MAXIMUM_LENGTH. Keras provides a way to do\n",
        "this.\n",
        "\n",
        "Using pad_sequences from keras.preprocessing.sequence, pad the train and test data."
      ]
    },
    {
      "cell_type": "code",
      "metadata": {
        "id": "5WfqdkjDNvQa",
        "colab_type": "code",
        "colab": {}
      },
      "source": [
        "from keras.preprocessing.sequence import pad_sequences\n",
        "MAXIMUM_LENGTH = 500"
      ],
      "execution_count": 0,
      "outputs": []
    },
    {
      "cell_type": "markdown",
      "metadata": {
        "id": "DJQFyW7PN5X1",
        "colab_type": "text"
      },
      "source": [
        "Sanity Check"
      ]
    },
    {
      "cell_type": "code",
      "metadata": {
        "id": "sxVQ4siVN_2C",
        "colab_type": "code",
        "colab": {
          "base_uri": "https://localhost:8080/",
          "height": 50
        },
        "outputId": "a8d573a0-06ef-4da7-d881-964856647b99"
      },
      "source": [
        "print('Length of sample train_data before preprocessing:', len(train_data[0]))\n",
        "\n",
        "word_index = imdb.get_word_index()\n",
        "word_index = {k:(v+3) for k,v in word_index.items()}\n",
        "word_index[\"<PAD>\"] = 0\n",
        "word_index[\"<START>\"] = 1\n",
        "word_index[\"<UNK>\"] = 2  \n",
        "word_index[\"<UNUSED>\"] = 3\n",
        "\n",
        "train_data_after = keras.preprocessing.sequence.pad_sequences(train_data,\n",
        "                                                        value=word_index[\"<PAD>\"],\n",
        "                                                        padding='post',\n",
        "                                                        maxlen=MAXIMUM_LENGTH)\n",
        "\n",
        "print('Length of sample train_data after preprocessing:', len(train_data_after[0]))"
      ],
      "execution_count": 153,
      "outputs": [
        {
          "output_type": "stream",
          "text": [
            "Length of sample train_data before preprocessing: 218\n",
            "Length of sample train_data after preprocessing: 500\n"
          ],
          "name": "stdout"
        }
      ]
    },
    {
      "cell_type": "markdown",
      "metadata": {
        "id": "BzMZ8SIUQP5u",
        "colab_type": "text"
      },
      "source": [
        "##3. Building the Model\n",
        "In this section, you will use the keras Sequential or Model API to build a model"
      ]
    },
    {
      "cell_type": "code",
      "metadata": {
        "id": "fJVesVzNQWBe",
        "colab_type": "code",
        "colab": {
          "base_uri": "https://localhost:8080/",
          "height": 302
        },
        "outputId": "676e790b-ba6a-442d-b9b4-56227e119935"
      },
      "source": [
        "from keras.models import Sequential\n",
        "from keras.layers.recurrent import LSTM\n",
        "from keras.layers import Dot, Input\n",
        "from keras.layers.core import Dense, Reshape\n",
        "from keras.layers.embeddings import Embedding\n",
        "from keras.models import Model\n",
        "from keras.utils import plot_model\n",
        "\n",
        "EMBED_SIZE = 100  #FIXED \n",
        "units = 100\n",
        "\n",
        "InputLayer = Input(shape=(MAXIMUM_LENGTH,), dtype='int32')\n",
        "Embed = Embedding(VOCAB_SIZE , EMBED_SIZE, input_length=MAXIMUM_LENGTH)(InputLayer)\n",
        "LSTM = LSTM(units, activation='tanh', recurrent_activation='sigmoid', use_bias=True, kernel_initializer='glorot_uniform', recurrent_initializer='orthogonal', bias_initializer='zeros', unit_forget_bias=True)(Embed)\n",
        "dense = Dense(1, input_shape=(1,), activation='sigmoid', kernel_initializer='glorot_uniform')(LSTM)\n",
        "model = Model(inputs=[InputLayer], outputs=[dense])\n",
        "\n",
        "model.compile(loss='binary_crossentropy', optimizer='adam', metrics=['accuracy'])\n",
        "print(model.summary())"
      ],
      "execution_count": 154,
      "outputs": [
        {
          "output_type": "stream",
          "text": [
            "Model: \"model_10\"\n",
            "_________________________________________________________________\n",
            "Layer (type)                 Output Shape              Param #   \n",
            "=================================================================\n",
            "input_29 (InputLayer)        (None, 500)               0         \n",
            "_________________________________________________________________\n",
            "embedding_26 (Embedding)     (None, 500, 100)          1000000   \n",
            "_________________________________________________________________\n",
            "lstm_23 (LSTM)               (None, 100)               80400     \n",
            "_________________________________________________________________\n",
            "dense_23 (Dense)             (None, 1)                 101       \n",
            "=================================================================\n",
            "Total params: 1,080,501\n",
            "Trainable params: 1,080,501\n",
            "Non-trainable params: 0\n",
            "_________________________________________________________________\n",
            "None\n"
          ],
          "name": "stdout"
        }
      ]
    },
    {
      "cell_type": "markdown",
      "metadata": {
        "id": "C75kq7JZme92",
        "colab_type": "text"
      },
      "source": [
        "Visualizing the model Structure\n"
      ]
    },
    {
      "cell_type": "code",
      "metadata": {
        "id": "MkDEvRwTmivl",
        "colab_type": "code",
        "colab": {
          "base_uri": "https://localhost:8080/",
          "height": 561
        },
        "outputId": "4fc92d17-21fb-444a-d8f7-5f37ec939cb6"
      },
      "source": [
        "from keras.utils import plot_model\n",
        "from IPython.display import SVG\n",
        "from keras.utils import vis_utils\n",
        "SVG(vis_utils.model_to_dot(model, show_shapes=True, show_layer_names=True).create(prog='dot', format='svg'))"
      ],
      "execution_count": 155,
      "outputs": [
        {
          "output_type": "execute_result",
          "data": {
            "text/plain": [
              "<IPython.core.display.SVG object>"
            ],
            "image/svg+xml": "<svg height=\"405pt\" viewBox=\"0.00 0.00 362.00 304.00\" width=\"483pt\" xmlns=\"http://www.w3.org/2000/svg\" xmlns:xlink=\"http://www.w3.org/1999/xlink\">\n<g class=\"graph\" id=\"graph0\" transform=\"scale(1.3333 1.3333) rotate(0) translate(4 300)\">\n<title>G</title>\n<polygon fill=\"#ffffff\" points=\"-4,4 -4,-300 358,-300 358,4 -4,4\" stroke=\"transparent\"/>\n<!-- 140043555132248 -->\n<g class=\"node\" id=\"node1\">\n<title>140043555132248</title>\n<polygon fill=\"none\" points=\"34.5,-249.5 34.5,-295.5 319.5,-295.5 319.5,-249.5 34.5,-249.5\" stroke=\"#000000\"/>\n<text fill=\"#000000\" font-family=\"Times,serif\" font-size=\"14.00\" text-anchor=\"middle\" x=\"104.5\" y=\"-268.8\">input_29: InputLayer</text>\n<polyline fill=\"none\" points=\"174.5,-249.5 174.5,-295.5 \" stroke=\"#000000\"/>\n<text fill=\"#000000\" font-family=\"Times,serif\" font-size=\"14.00\" text-anchor=\"middle\" x=\"203.5\" y=\"-280.3\">input:</text>\n<polyline fill=\"none\" points=\"174.5,-272.5 232.5,-272.5 \" stroke=\"#000000\"/>\n<text fill=\"#000000\" font-family=\"Times,serif\" font-size=\"14.00\" text-anchor=\"middle\" x=\"203.5\" y=\"-257.3\">output:</text>\n<polyline fill=\"none\" points=\"232.5,-249.5 232.5,-295.5 \" stroke=\"#000000\"/>\n<text fill=\"#000000\" font-family=\"Times,serif\" font-size=\"14.00\" text-anchor=\"middle\" x=\"276\" y=\"-280.3\">(None, 500)</text>\n<polyline fill=\"none\" points=\"232.5,-272.5 319.5,-272.5 \" stroke=\"#000000\"/>\n<text fill=\"#000000\" font-family=\"Times,serif\" font-size=\"14.00\" text-anchor=\"middle\" x=\"276\" y=\"-257.3\">(None, 500)</text>\n</g>\n<!-- 140043490371904 -->\n<g class=\"node\" id=\"node2\">\n<title>140043490371904</title>\n<polygon fill=\"none\" points=\"0,-166.5 0,-212.5 354,-212.5 354,-166.5 0,-166.5\" stroke=\"#000000\"/>\n<text fill=\"#000000\" font-family=\"Times,serif\" font-size=\"14.00\" text-anchor=\"middle\" x=\"89.5\" y=\"-185.8\">embedding_26: Embedding</text>\n<polyline fill=\"none\" points=\"179,-166.5 179,-212.5 \" stroke=\"#000000\"/>\n<text fill=\"#000000\" font-family=\"Times,serif\" font-size=\"14.00\" text-anchor=\"middle\" x=\"208\" y=\"-197.3\">input:</text>\n<polyline fill=\"none\" points=\"179,-189.5 237,-189.5 \" stroke=\"#000000\"/>\n<text fill=\"#000000\" font-family=\"Times,serif\" font-size=\"14.00\" text-anchor=\"middle\" x=\"208\" y=\"-174.3\">output:</text>\n<polyline fill=\"none\" points=\"237,-166.5 237,-212.5 \" stroke=\"#000000\"/>\n<text fill=\"#000000\" font-family=\"Times,serif\" font-size=\"14.00\" text-anchor=\"middle\" x=\"295.5\" y=\"-197.3\">(None, 500)</text>\n<polyline fill=\"none\" points=\"237,-189.5 354,-189.5 \" stroke=\"#000000\"/>\n<text fill=\"#000000\" font-family=\"Times,serif\" font-size=\"14.00\" text-anchor=\"middle\" x=\"295.5\" y=\"-174.3\">(None, 500, 100)</text>\n</g>\n<!-- 140043555132248&#45;&gt;140043490371904 -->\n<g class=\"edge\" id=\"edge1\">\n<title>140043555132248-&gt;140043490371904</title>\n<path d=\"M177,-249.3799C177,-241.1745 177,-231.7679 177,-222.8786\" fill=\"none\" stroke=\"#000000\"/>\n<polygon fill=\"#000000\" points=\"180.5001,-222.784 177,-212.784 173.5001,-222.784 180.5001,-222.784\" stroke=\"#000000\"/>\n</g>\n<!-- 140043425410296 -->\n<g class=\"node\" id=\"node3\">\n<title>140043425410296</title>\n<polygon fill=\"none\" points=\"34.5,-83.5 34.5,-129.5 319.5,-129.5 319.5,-83.5 34.5,-83.5\" stroke=\"#000000\"/>\n<text fill=\"#000000\" font-family=\"Times,serif\" font-size=\"14.00\" text-anchor=\"middle\" x=\"89.5\" y=\"-102.8\">lstm_23: LSTM</text>\n<polyline fill=\"none\" points=\"144.5,-83.5 144.5,-129.5 \" stroke=\"#000000\"/>\n<text fill=\"#000000\" font-family=\"Times,serif\" font-size=\"14.00\" text-anchor=\"middle\" x=\"173.5\" y=\"-114.3\">input:</text>\n<polyline fill=\"none\" points=\"144.5,-106.5 202.5,-106.5 \" stroke=\"#000000\"/>\n<text fill=\"#000000\" font-family=\"Times,serif\" font-size=\"14.00\" text-anchor=\"middle\" x=\"173.5\" y=\"-91.3\">output:</text>\n<polyline fill=\"none\" points=\"202.5,-83.5 202.5,-129.5 \" stroke=\"#000000\"/>\n<text fill=\"#000000\" font-family=\"Times,serif\" font-size=\"14.00\" text-anchor=\"middle\" x=\"261\" y=\"-114.3\">(None, 500, 100)</text>\n<polyline fill=\"none\" points=\"202.5,-106.5 319.5,-106.5 \" stroke=\"#000000\"/>\n<text fill=\"#000000\" font-family=\"Times,serif\" font-size=\"14.00\" text-anchor=\"middle\" x=\"261\" y=\"-91.3\">(None, 100)</text>\n</g>\n<!-- 140043490371904&#45;&gt;140043425410296 -->\n<g class=\"edge\" id=\"edge2\">\n<title>140043490371904-&gt;140043425410296</title>\n<path d=\"M177,-166.3799C177,-158.1745 177,-148.7679 177,-139.8786\" fill=\"none\" stroke=\"#000000\"/>\n<polygon fill=\"#000000\" points=\"180.5001,-139.784 177,-129.784 173.5001,-139.784 180.5001,-139.784\" stroke=\"#000000\"/>\n</g>\n<!-- 140043425409288 -->\n<g class=\"node\" id=\"node4\">\n<title>140043425409288</title>\n<polygon fill=\"none\" points=\"47.5,-.5 47.5,-46.5 306.5,-46.5 306.5,-.5 47.5,-.5\" stroke=\"#000000\"/>\n<text fill=\"#000000\" font-family=\"Times,serif\" font-size=\"14.00\" text-anchor=\"middle\" x=\"104.5\" y=\"-19.8\">dense_23: Dense</text>\n<polyline fill=\"none\" points=\"161.5,-.5 161.5,-46.5 \" stroke=\"#000000\"/>\n<text fill=\"#000000\" font-family=\"Times,serif\" font-size=\"14.00\" text-anchor=\"middle\" x=\"190.5\" y=\"-31.3\">input:</text>\n<polyline fill=\"none\" points=\"161.5,-23.5 219.5,-23.5 \" stroke=\"#000000\"/>\n<text fill=\"#000000\" font-family=\"Times,serif\" font-size=\"14.00\" text-anchor=\"middle\" x=\"190.5\" y=\"-8.3\">output:</text>\n<polyline fill=\"none\" points=\"219.5,-.5 219.5,-46.5 \" stroke=\"#000000\"/>\n<text fill=\"#000000\" font-family=\"Times,serif\" font-size=\"14.00\" text-anchor=\"middle\" x=\"263\" y=\"-31.3\">(None, 100)</text>\n<polyline fill=\"none\" points=\"219.5,-23.5 306.5,-23.5 \" stroke=\"#000000\"/>\n<text fill=\"#000000\" font-family=\"Times,serif\" font-size=\"14.00\" text-anchor=\"middle\" x=\"263\" y=\"-8.3\">(None, 1)</text>\n</g>\n<!-- 140043425410296&#45;&gt;140043425409288 -->\n<g class=\"edge\" id=\"edge3\">\n<title>140043425410296-&gt;140043425409288</title>\n<path d=\"M177,-83.3799C177,-75.1745 177,-65.7679 177,-56.8786\" fill=\"none\" stroke=\"#000000\"/>\n<polygon fill=\"#000000\" points=\"180.5001,-56.784 177,-46.784 173.5001,-56.784 180.5001,-56.784\" stroke=\"#000000\"/>\n</g>\n</g>\n</svg>"
          },
          "metadata": {
            "tags": []
          },
          "execution_count": 155
        }
      ]
    },
    {
      "cell_type": "markdown",
      "metadata": {
        "id": "8T3XbEXIm99u",
        "colab_type": "text"
      },
      "source": [
        "#4. Training the Model\n",
        "First, split the training data into training and validation data. You can use 2000 samples for\n",
        "validation and the rest for training.\n",
        "\n",
        "Then, using this split dataset and the model.fit() function, train the model for 3 epochs with a batch\n",
        "size of 100. Using model.fit().history, plot the training and validation accuracy across the epochs.\n",
        "Your output should look like this.\n"
      ]
    },
    {
      "cell_type": "code",
      "metadata": {
        "id": "EjpQpynXnERR",
        "colab_type": "code",
        "colab": {}
      },
      "source": [
        "import numpy as np \n",
        "import matplotlib.pyplot as plt\n",
        "\n",
        "\n",
        "BATCH_SIZE =100\n",
        "EPOCHS =3\n",
        "\n",
        "train_val = np.array(train_data_after[:2000])\n",
        "train_d = np.array(train_data_after[2000:])\n",
        "\n",
        "label_val = np.array(train_labels[:2000])\n",
        "train_l = np.array(train_labels[2000:])\n"
      ],
      "execution_count": 0,
      "outputs": []
    },
    {
      "cell_type": "code",
      "metadata": {
        "id": "CoVXaaVqAZET",
        "colab_type": "code",
        "colab": {}
      },
      "source": [
        "#History\n",
        "\n",
        "history = model.fit(train_d, train_l, epochs=EPOCHS , batch_size=BATCH_SIZE,validation_data=(train_val, label_val))\n"
      ],
      "execution_count": 0,
      "outputs": []
    },
    {
      "cell_type": "markdown",
      "metadata": {
        "id": "LwN70kSNwulr",
        "colab_type": "text"
      },
      "source": [
        "Using model.fit().history, plot the training and validation accuracy across the epochs"
      ]
    },
    {
      "cell_type": "code",
      "metadata": {
        "id": "3Toe5uGAwvgy",
        "colab_type": "code",
        "colab": {}
      },
      "source": [
        "# PLot using model.fir().history\n",
        "def plot(history):\n",
        "  history_dict = history.history\n",
        "  #print(history_dict.keys())\n",
        "\n",
        "  acc = history_dict['acc']\n",
        "  val_acc = history_dict['val_acc']\n",
        "  loss = history_dict['loss']\n",
        "  val_loss = history_dict['val_loss']\n",
        "\n",
        "  epochs = range(1, len(acc) + 1)\n",
        "\n",
        "  plt.plot(epochs, acc, 'bo', label='Training acc')\n",
        "  plt.plot(epochs, val_acc, 'b', label='Validation acc')\n",
        "  plt.title('Training and validation accuracy')\n",
        "  plt.xlabel('Epochs')\n",
        "  plt.ylabel('Accuracy')\n",
        "  plt.legend()\n",
        "\n",
        "  plt.show()"
      ],
      "execution_count": 0,
      "outputs": []
    },
    {
      "cell_type": "code",
      "metadata": {
        "id": "4TWOFWvs_VFm",
        "colab_type": "code",
        "colab": {
          "base_uri": "https://localhost:8080/",
          "height": 295
        },
        "outputId": "f01a05f2-fef0-456b-e91d-e2b3ebcc798a"
      },
      "source": [
        "plot(history)"
      ],
      "execution_count": 161,
      "outputs": [
        {
          "output_type": "display_data",
          "data": {
            "image/png": "[encoded data removed]",
            "text/plain": [
              "<Figure size 432x288 with 1 Axes>"
            ]
          },
          "metadata": {
            "tags": []
          }
        }
      ]
    },
    {
      "cell_type": "markdown",
      "metadata": {
        "id": "NZJ7qh1huXQ1",
        "colab_type": "text"
      },
      "source": [
        "##5. Evaluating the Model on the Test Data\n",
        "\n",
        "Evaluate the model on the preprocessed test data. Print the test loss and accuracy using the line of\n",
        "code below"
      ]
    },
    {
      "cell_type": "code",
      "metadata": {
        "id": "nMp3twA3ufU1",
        "colab_type": "code",
        "colab": {
          "base_uri": "https://localhost:8080/",
          "height": 50
        },
        "outputId": "f4056d3f-5307-463f-c727-50d4a479ed56"
      },
      "source": [
        "test_data_after = keras.preprocessing.sequence.pad_sequences(test_data,\n",
        "                                                        value=word_index[\"<PAD>\"],\n",
        "                                                        padding='post',\n",
        "                                                        maxlen=MAXIMUM_LENGTH)\n",
        "\n",
        "\n",
        "results = model.evaluate(test_data_after, test_labels)\n",
        "print('test_loss:', results[0], 'test_accuracy:', results[1])"
      ],
      "execution_count": 115,
      "outputs": [
        {
          "output_type": "stream",
          "text": [
            "25000/25000 [==============================] - 95s 4ms/step\n",
            "test_loss: 0.696229334564209 test_accuracy: 0.5118\n"
          ],
          "name": "stdout"
        }
      ]
    },
    {
      "cell_type": "markdown",
      "metadata": {
        "id": "EssftHT4upUX",
        "colab_type": "text"
      },
      "source": [
        "#6. Extracting the Word Embeddings\n",
        "Extract the word embeddings from the embedding layer model using\n",
        "model.get_layer(layer_name).get_weights()[0] or model.layers[layer_number].get_weights()[0]\n",
        "where the layer number depends on the order in which the layers were added to the model. You\n",
        "can get details about the order from model.summary() or by calling model.layers.\n"
      ]
    },
    {
      "cell_type": "code",
      "metadata": {
        "id": "BFXcMxmfuvxo",
        "colab_type": "code",
        "colab": {
          "base_uri": "https://localhost:8080/",
          "height": 34
        },
        "outputId": "3bfc3445-9bc2-4aa2-e376-d56b7ebe5c91"
      },
      "source": [
        "word_embeddings = model.layers[1].get_weights()[0]\n",
        "\n",
        "print('Shape of word_embeddings:', word_embeddings.shape)"
      ],
      "execution_count": 116,
      "outputs": [
        {
          "output_type": "stream",
          "text": [
            "Shape of word_embeddings: (10000, 100)\n"
          ],
          "name": "stdout"
        }
      ]
    },
    {
      "cell_type": "markdown",
      "metadata": {
        "id": "RCFwQm9W1nBN",
        "colab_type": "text"
      },
      "source": [
        "#7. Visualizing the Reviews\n",
        "In this section, we will view the effects of preprocessing on the dataset. Keras already preprocessed\n",
        "the dataset. In this preprocessed dataset, all the words have already been mapped to indices and\n",
        "were assigned these numbers in order of their frequency such that index 2 is the 2nd most frequent\n",
        "word in the dataset, and so on."
      ]
    },
    {
      "cell_type": "code",
      "metadata": {
        "id": "v97ttvfQ1veJ",
        "colab_type": "code",
        "colab": {
          "base_uri": "https://localhost:8080/",
          "height": 54
        },
        "outputId": "d95dfd91-048c-4fd0-ed28-15c7ffdc7ce0"
      },
      "source": [
        "# Reset Data\n",
        "(train_data,train_labels),(test_data,test_labels) = imdb.load_data(num_words=VOCAB_SIZE, index_from=INDEX_FROM)\n",
        "\n",
        "word2idx = imdb.get_word_index()\n",
        "# 9998 since we only used top 1000 words of including ‘<PAD>’, ‘<START>’ and ‘<UNK>’\n",
        "word2idx = {k:(v+INDEX_FROM) for k,v in word2idx.items() if v < 9998}\n",
        "word2idx[\"<PAD>\"] = 0\n",
        "word2idx[\"<START>\"] = 1\n",
        "word2idx[\"<UNK>\"] = 2\n",
        "\n",
        "# In the next line, create the idx2word map for all the words in the dataset\n",
        "idx2word = {}\n",
        "for key, value in word2idx.items():\n",
        "  idx2word[value] = key\n",
        "\n",
        "# View a sample review text using the lines of code below\n",
        "print(' '.join(idx2word[idx] for idx in train_data[0]))"
      ],
      "execution_count": 125,
      "outputs": [
        {
          "output_type": "stream",
          "text": [
            "<START> this film was just brilliant casting location scenery story direction everyone's really suited the part they played and you could just imagine being there robert <UNK> is an amazing actor and now the same being director <UNK> father came from the same scottish island as myself so i loved the fact there was a real connection with this film the witty remarks throughout the film were great it was just brilliant so much that i bought the film as soon as it was released for <UNK> and would recommend it to everyone to watch and the fly fishing was amazing really cried at the end it was so sad and you know what they say if you cry at a film it must have been good and this definitely was also <UNK> to the two little boy's that played the <UNK> of norman and paul they were just brilliant children are often left out of the <UNK> list i think because the stars that play them all grown up are such a big profile for the whole film but these children are amazing and should be praised for what they have done don't you think the whole story was so lovely because it was true and was someone's life after all that was shared with us all\n"
          ],
          "name": "stdout"
        }
      ]
    },
    {
      "cell_type": "markdown",
      "metadata": {
        "id": "bjuJt1nl4V2V",
        "colab_type": "text"
      },
      "source": [
        "view the corresponding data"
      ]
    },
    {
      "cell_type": "code",
      "metadata": {
        "id": "42RkrhMh4X5v",
        "colab_type": "code",
        "colab": {
          "base_uri": "https://localhost:8080/",
          "height": 54
        },
        "outputId": "a3b98158-199f-4118-bf12-05565f8278e9"
      },
      "source": [
        "print(train_data[0])\n"
      ],
      "execution_count": 126,
      "outputs": [
        {
          "output_type": "stream",
          "text": [
            "[1, 14, 22, 16, 43, 530, 973, 1622, 1385, 65, 458, 4468, 66, 3941, 4, 173, 36, 256, 5, 25, 100, 43, 838, 112, 50, 670, 2, 9, 35, 480, 284, 5, 150, 4, 172, 112, 167, 2, 336, 385, 39, 4, 172, 4536, 1111, 17, 546, 38, 13, 447, 4, 192, 50, 16, 6, 147, 2025, 19, 14, 22, 4, 1920, 4613, 469, 4, 22, 71, 87, 12, 16, 43, 530, 38, 76, 15, 13, 1247, 4, 22, 17, 515, 17, 12, 16, 626, 18, 2, 5, 62, 386, 12, 8, 316, 8, 106, 5, 4, 2223, 5244, 16, 480, 66, 3785, 33, 4, 130, 12, 16, 38, 619, 5, 25, 124, 51, 36, 135, 48, 25, 1415, 33, 6, 22, 12, 215, 28, 77, 52, 5, 14, 407, 16, 82, 2, 8, 4, 107, 117, 5952, 15, 256, 4, 2, 7, 3766, 5, 723, 36, 71, 43, 530, 476, 26, 400, 317, 46, 7, 4, 2, 1029, 13, 104, 88, 4, 381, 15, 297, 98, 32, 2071, 56, 26, 141, 6, 194, 7486, 18, 4, 226, 22, 21, 134, 476, 26, 480, 5, 144, 30, 5535, 18, 51, 36, 28, 224, 92, 25, 104, 4, 226, 65, 16, 38, 1334, 88, 12, 16, 283, 5, 16, 4472, 113, 103, 32, 15, 16, 5345, 19, 178, 32]\n"
          ],
          "name": "stdout"
        }
      ]
    },
    {
      "cell_type": "markdown",
      "metadata": {
        "id": "gTkNKXEk4e02",
        "colab_type": "text"
      },
      "source": [
        "8. Visualizing the Word_Embeddings\n",
        "Visualize the word embeddings for 10 of the words using pandas DataFrame like we did in lab 3.\n"
      ]
    },
    {
      "cell_type": "code",
      "metadata": {
        "id": "n_aWWUyb4hu0",
        "colab_type": "code",
        "colab": {
          "base_uri": "https://localhost:8080/",
          "height": 235
        },
        "outputId": "9cb45f08-a2e4-4647-9f70-a5ca1840718d"
      },
      "source": [
        "from pandas import DataFrame\n",
        "print(DataFrame(word_embeddings, index=idx2word.values()).head(10))"
      ],
      "execution_count": 127,
      "outputs": [
        {
          "output_type": "stream",
          "text": [
            "                 0         1         2   ...        97        98        99\n",
            "woods      0.014584 -0.023229  0.034505  ...  0.002564  0.000413  0.003026\n",
            "hanging    0.012257  0.003929 -0.023911  ... -0.016317  0.021681  0.031446\n",
            "woody     -0.035216 -0.006086  0.008985  ...  0.037916 -0.020993 -0.029235\n",
            "arranged  -0.010463 -0.001388 -0.017231  ...  0.009159  0.007215 -0.019347\n",
            "bringing   0.002758  0.011330 -0.013720  ...  0.067569  0.038217 -0.034302\n",
            "wooden     0.050368  0.021010  0.008729  ... -0.010500 -0.061428  0.087212\n",
            "errors     0.007921  0.031989 -0.049887  ... -0.006778 -0.029282  0.007567\n",
            "dialogs    0.041077 -0.051241 -0.038249  ... -0.007028  0.033451 -0.033306\n",
            "kids      -0.064942  0.010439 -0.026839  ...  0.040594 -0.006789 -0.016402\n",
            "uplifting  0.079436  0.018429 -0.024320  ... -0.046516 -0.056419  0.075209\n",
            "\n",
            "[10 rows x 100 columns]\n"
          ],
          "name": "stdout"
        }
      ]
    },
    {
      "cell_type": "markdown",
      "metadata": {
        "id": "JD0jyljr42q0",
        "colab_type": "text"
      },
      "source": [
        "Plot the word embeddings using TSNE"
      ]
    },
    {
      "cell_type": "code",
      "metadata": {
        "id": "Xsf4_Tja45NT",
        "colab_type": "code",
        "colab": {}
      },
      "source": [
        "from sklearn.manifold import TSNE\n",
        "import matplotlib.pyplot as plt\n",
        "import numpy as np\n",
        "tsne = TSNE(perplexity=3, n_components=2, init='pca', n_iter=5000, method='exact')\n",
        "np.set_printoptions(suppress=True)"
      ],
      "execution_count": 0,
      "outputs": []
    },
    {
      "cell_type": "code",
      "metadata": {
        "id": "vAYleoch4-5o",
        "colab_type": "code",
        "colab": {
          "base_uri": "https://localhost:8080/",
          "height": 483
        },
        "outputId": "126c742b-39a8-4cf1-cde8-765165dfa4a4"
      },
      "source": [
        "# starting from the first word\n",
        "start = 3\n",
        "plot_only = 54\n",
        "T = tsne.fit_transform(word_embeddings[start:plot_only, :])\n",
        "labels = [idx2word[i+1] for i in range(start, plot_only)]\n",
        "plt.figure(figsize=(14, 8))\n",
        "plt.scatter(T[:, 0], T[:, 1])\n",
        "for label, x, y in zip(labels, T[:, 0], T[:, 1]):\n",
        "  plt.annotate(label, xy=(x+1, y+1), xytext=(0, 0), textcoords='offset points', ha='right',va='bottom')"
      ],
      "execution_count": 130,
      "outputs": [
        {
          "output_type": "display_data",
          "data": {
            "image/png": "[encoded data removed]",
            "text/plain": [
              "<Figure size 1008x576 with 1 Axes>"
            ]
          },
          "metadata": {
            "tags": []
          }
        }
      ]
    },
    {
      "cell_type": "markdown",
      "metadata": {
        "id": "ReNcRv7D5pwG",
        "colab_type": "text"
      },
      "source": [
        "**NOTE: Index pos for train_data[0] is shifted for +1 in the output when compared to the expected output in document.**\n",
        "\n",
        "**Hence, the above code block has index set to 'i+1'.**"
      ]
    },
    {
      "cell_type": "markdown",
      "metadata": {
        "id": "LgEUVPH1617t",
        "colab_type": "text"
      },
      "source": [
        "#**9. Questions**\n",
        "\n",
        "1. Create a new model that is a copy of the model step 3. To this new model, add two dropout\n",
        "layers, one between the embedding layer and the LSTM layer and another between the\n",
        "LSTM layer and the output layer. Repeat steps 4 and 5 for this model. What do you observe?\n",
        "How about if you train this new model for 6 epochs instead?\n"
      ]
    },
    {
      "cell_type": "code",
      "metadata": {
        "colab_type": "code",
        "id": "JN67PYhI98BK",
        "colab": {
          "base_uri": "https://localhost:8080/",
          "height": 370
        },
        "outputId": "7b260cd0-4859-4eec-dbb2-9849fbe72b99"
      },
      "source": [
        "# NEW MODEL ...... THIS CAN BE TREATED AS STEP 3 for this Question\n",
        "from keras.models import Sequential\n",
        "from keras.layers.recurrent import LSTM\n",
        "from keras.layers import Dot, Input\n",
        "from keras.layers.core import Dense, Reshape\n",
        "from keras.layers.embeddings import Embedding\n",
        "from keras.models import Model\n",
        "from keras.utils import plot_model\n",
        "from keras.layers import Dropout\n",
        "\n",
        "EMBED_SIZE = 100  #FIXED \n",
        "units = 100\n",
        "\n",
        "InputLayer = Input(shape=(MAXIMUM_LENGTH,), dtype='int32')\n",
        "Embed = Embedding(VOCAB_SIZE , EMBED_SIZE, input_length=MAXIMUM_LENGTH)(InputLayer)\n",
        "Dropout1 = Dropout(0.2)(Embed)\n",
        "LSTM = LSTM(units, activation='tanh', recurrent_activation='sigmoid', use_bias=True, kernel_initializer='glorot_uniform', recurrent_initializer='orthogonal', bias_initializer='zeros', unit_forget_bias=True)(Dropout1)\n",
        "Dropout2 = Dropout(0.2)(LSTM)\n",
        "dense = Dense(1, input_shape=(1,), activation='sigmoid', kernel_initializer='glorot_uniform')(Dropout2)\n",
        "NewModel = Model(inputs=[InputLayer], outputs=[dense])\n",
        "\n",
        "NewModel.compile(loss='binary_crossentropy', optimizer='adam', metrics=['accuracy'])\n",
        "print(NewModel.summary())"
      ],
      "execution_count": 158,
      "outputs": [
        {
          "output_type": "stream",
          "text": [
            "Model: \"model_11\"\n",
            "_________________________________________________________________\n",
            "Layer (type)                 Output Shape              Param #   \n",
            "=================================================================\n",
            "input_30 (InputLayer)        (None, 500)               0         \n",
            "_________________________________________________________________\n",
            "embedding_27 (Embedding)     (None, 500, 100)          1000000   \n",
            "_________________________________________________________________\n",
            "dropout_5 (Dropout)          (None, 500, 100)          0         \n",
            "_________________________________________________________________\n",
            "lstm_24 (LSTM)               (None, 100)               80400     \n",
            "_________________________________________________________________\n",
            "dropout_6 (Dropout)          (None, 100)               0         \n",
            "_________________________________________________________________\n",
            "dense_24 (Dense)             (None, 1)                 101       \n",
            "=================================================================\n",
            "Total params: 1,080,501\n",
            "Trainable params: 1,080,501\n",
            "Non-trainable params: 0\n",
            "_________________________________________________________________\n",
            "None\n"
          ],
          "name": "stdout"
        }
      ]
    },
    {
      "cell_type": "code",
      "metadata": {
        "id": "n1JltN7H-U1F",
        "colab_type": "code",
        "colab": {
          "base_uri": "https://localhost:8080/",
          "height": 413
        },
        "outputId": "d89f7189-8c9b-4252-a65d-493b92eaf5ef"
      },
      "source": [
        "# EPOCHS = 3\n",
        "EPOCHS =3\n",
        "\n",
        "history1 = model.fit(train_d, train_l, epochs=EPOCHS , batch_size=BATCH_SIZE,validation_data=(train_val, label_val))\n",
        "plot(history1)"
      ],
      "execution_count": 162,
      "outputs": [
        {
          "output_type": "stream",
          "text": [
            "Train on 23000 samples, validate on 2000 samples\n",
            "Epoch 1/3\n",
            "23000/23000 [==============================] - 224s 10ms/step - loss: 0.6428 - acc: 0.5362 - val_loss: 0.7269 - val_acc: 0.5095\n",
            "Epoch 2/3\n",
            "23000/23000 [==============================] - 224s 10ms/step - loss: 0.6362 - acc: 0.5485 - val_loss: 0.7406 - val_acc: 0.5175\n",
            "Epoch 3/3\n",
            "23000/23000 [==============================] - 225s 10ms/step - loss: 0.6355 - acc: 0.5485 - val_loss: 0.7305 - val_acc: 0.5190\n"
          ],
          "name": "stdout"
        },
        {
          "output_type": "display_data",
          "data": {
            "image/png": "[encoded data removed]",
            "text/plain": [
              "<Figure size 432x288 with 1 Axes>"
            ]
          },
          "metadata": {
            "tags": []
          }
        }
      ]
    },
    {
      "cell_type": "code",
      "metadata": {
        "id": "S05E9KhT-byS",
        "colab_type": "code",
        "colab": {
          "base_uri": "https://localhost:8080/",
          "height": 514
        },
        "outputId": "aaa68478-89b4-4cd5-e102-34b7038ae85d"
      },
      "source": [
        "#EPOCHS=6\n",
        "\n",
        "EPOCHS= 6 \n",
        "history2 = model.fit(train_d, train_l, epochs=EPOCHS , batch_size=BATCH_SIZE,validation_data=(train_val, label_val))\n",
        "plot(history2)"
      ],
      "execution_count": 163,
      "outputs": [
        {
          "output_type": "stream",
          "text": [
            "Train on 23000 samples, validate on 2000 samples\n",
            "Epoch 1/6\n",
            "23000/23000 [==============================] - 224s 10ms/step - loss: 0.6350 - acc: 0.5457 - val_loss: 0.7420 - val_acc: 0.5150\n",
            "Epoch 2/6\n",
            "23000/23000 [==============================] - 224s 10ms/step - loss: 0.6255 - acc: 0.5774 - val_loss: 0.7407 - val_acc: 0.5135\n",
            "Epoch 3/6\n",
            "23000/23000 [==============================] - 223s 10ms/step - loss: 0.5811 - acc: 0.6878 - val_loss: 0.7524 - val_acc: 0.5025\n",
            "Epoch 4/6\n",
            "23000/23000 [==============================] - 223s 10ms/step - loss: 0.5722 - acc: 0.6883 - val_loss: 0.6957 - val_acc: 0.6925\n",
            "Epoch 5/6\n",
            "23000/23000 [==============================] - 225s 10ms/step - loss: 0.5712 - acc: 0.7019 - val_loss: 0.7224 - val_acc: 0.5010\n",
            "Epoch 6/6\n",
            "23000/23000 [==============================] - 223s 10ms/step - loss: 0.6386 - acc: 0.5485 - val_loss: 0.7538 - val_acc: 0.5140\n"
          ],
          "name": "stdout"
        },
        {
          "output_type": "display_data",
          "data": {
            "image/png": "[encoded data removed]",
            "text/plain": [
              "<Figure size 432x288 with 1 Axes>"
            ]
          },
          "metadata": {
            "tags": []
          }
        }
      ]
    },
    {
      "cell_type": "markdown",
      "metadata": {
        "id": "FWOvMhQlBPfj",
        "colab_type": "text"
      },
      "source": [
        ""
      ]
    },
    {
      "cell_type": "markdown",
      "metadata": {
        "id": "gmAdJN-l7BQg",
        "colab_type": "text"
      },
      "source": [
        "2. Experiment with compiling the model with batch sizes of 1, 32, len(training_data). What do\n",
        "you observe?\n"
      ]
    },
    {
      "cell_type": "code",
      "metadata": {
        "id": "s0udCEcCAgjL",
        "colab_type": "code",
        "colab": {
          "base_uri": "https://localhost:8080/",
          "height": 892
        },
        "outputId": "4065c0cf-f6b7-4139-ff12-5bde2851a6de"
      },
      "source": [
        "# BATCH_SIZE =1\n",
        "print('---------------------BATCH_SIZE =1-------------------------')\n",
        "history2_1 = model.fit(train_d, train_l, epochs=3 , batch_size=1,validation_data=(train_val, label_val))\n",
        "plot(history2_1)\n",
        "# BATCH_SIZE = 32\n",
        "print('---------------------BATCH_SIZE =32-------------------------')\n",
        "history2_2 = model.fit(train_d, train_l, epochs=3 , batch_size=32,validation_data=(train_val, label_val))\n",
        "plot(history2_2)\n",
        "# BATCH_SIZE = len(train_data)\n",
        "print('---------------BATCH_SIZE = len(train_data)------------------')\n",
        "history2_3 = model.fit(train_d, train_l, epochs=3 , batch_size=len(train_data),validation_data=(train_val, label_val))\n",
        "plot(history2_3)"
      ],
      "execution_count": 0,
      "outputs": [
        {
          "output_type": "stream",
          "text": [
            "---------------------BATCH_SIZE =1-------------------------\n",
            "Train on 23000 samples, validate on 2000 samples\n",
            "Epoch 1/3\n",
            "23000/23000 [==============================] - 6134s 267ms/step - loss: 0.6310 - acc: 0.6135 - val_loss: 0.4664 - val_acc: 0.8080\n",
            "Epoch 2/3\n",
            "23000/23000 [==============================] - 6135s 267ms/step - loss: 0.3343 - acc: 0.8657 - val_loss: 0.2975 - val_acc: 0.8815\n",
            "Epoch 3/3\n",
            "23000/23000 [==============================] - 6137s 267ms/step - loss: 0.1991 - acc: 0.9266 - val_loss: 0.2653 - val_acc: 0.8845\n"
          ],
          "name": "stdout"
        },
        {
          "output_type": "display_data",
          "data": {
            "image/png": "[encoded data removed]",
            "text/plain": [
              "<Figure size 432x288 with 1 Axes>"
            ]
          },
          "metadata": {
            "tags": []
          }
        },
        {
          "output_type": "stream",
          "text": [
            "---------------------BATCH_SIZE =32-------------------------\n",
            "Train on 23000 samples, validate on 2000 samples\n",
            "Epoch 1/3\n",
            "23000/23000 [==============================] - 418s 18ms/step - loss: 0.1179 - acc: 0.9607 - val_loss: 0.2634 - val_acc: 0.9010\n",
            "Epoch 2/3\n",
            "23000/23000 [==============================] - 415s 18ms/step - loss: 0.0896 - acc: 0.9711 - val_loss: 0.2689 - val_acc: 0.9045\n",
            "Epoch 3/3\n",
            "23000/23000 [==============================] - 413s 18ms/step - loss: 0.0688 - acc: 0.9789 - val_loss: 0.2912 - val_acc: 0.8990\n"
          ],
          "name": "stdout"
        },
        {
          "output_type": "display_data",
          "data": {
            "image/png": "[encoded data removed]",
            "text/plain": [
              "<Figure size 432x288 with 1 Axes>"
            ]
          },
          "metadata": {
            "tags": []
          }
        },
        {
          "output_type": "stream",
          "text": [
            "---------------BATCH_SIZE = len(train_data)------------------\n",
            "Train on 23000 samples, validate on 2000 samples\n",
            "Epoch 1/3\n"
          ],
          "name": "stdout"
        }
      ]
    },
    {
      "cell_type": "markdown",
      "metadata": {
        "id": "cKaOj6e57DRU",
        "colab_type": "text"
      },
      "source": [
        ""
      ]
    }
  ]
}