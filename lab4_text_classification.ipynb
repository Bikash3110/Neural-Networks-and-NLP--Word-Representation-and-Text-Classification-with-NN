{
  "nbformat": 4,
  "nbformat_minor": 0,
  "metadata": {
    "accelerator": "GPU",
    "colab": {
      "name": "lab4_text_classification.ipynb",
      "provenance": [],
      "collapsed_sections": []
    },
    "kernelspec": {
      "display_name": "Python 3",
      "language": "python",
      "name": "python3"
    },
    "language_info": {
      "codemirror_mode": {
        "name": "ipython",
        "version": 3
      },
      "file_extension": ".py",
      "mimetype": "text/x-python",
      "name": "python",
      "nbconvert_exporter": "python",
      "pygments_lexer": "ipython3",
      "version": "3.7.3"
    }
  },
  "cells": [
    {
      "cell_type": "markdown",
      "metadata": {
        "colab_type": "text",
        "id": "hExKCzh6doIW"
      },
      "source": [
        "# Lab 4 - Neural Network Classifier Using Simple Word Embeddings\n",
        "\n",
        "\n",
        "\n",
        "---\n",
        "\n",
        "\n",
        "\n",
        "\n",
        "\n",
        "\n",
        "\n",
        "\n",
        "\n",
        "\n",
        "\n",
        "\n",
        "\n"
      ]
    },
    {
      "cell_type": "markdown",
      "metadata": {
        "colab_type": "text",
        "id": "HixoFOoCIJ7V"
      },
      "source": [
        "In this session, we demonstrate how to solve a text classification task using simple \n",
        "feedforward neural network classifier. We will use IMDB Large Movie Review Dataset to train a binary classification model, able to predict whether a review is positive or negative. First, our network takes one-hot word vectors as input, averages them to make one vector and trains a \n",
        "fully-connected layer to predict the output. In the second part, we replace the one-hot vectors with the word embeddings and add a layer to see how much that improves the performance.\n",
        "\n",
        "We are going to use Keras Sequential API in this session. The Sequential API allows you to make models layer-by-layer. But it is not straightforward to define models where layers connect to more than just the previous and next layers. "
      ]
    },
    {
      "cell_type": "code",
      "metadata": {
        "colab_type": "code",
        "id": "m8fpBfhBpupy",
        "colab": {}
      },
      "source": [
        "import keras\n",
        "import numpy as np\n",
        "from keras.layers import Lambda, GlobalAveragePooling1D, Dense, Embedding\n",
        "from keras import backend as K\n",
        "from keras.models import Sequential\n"
      ],
      "execution_count": 0,
      "outputs": []
    },
    {
      "cell_type": "markdown",
      "metadata": {
        "colab_type": "text",
        "id": "cqvPQvgvPv1W"
      },
      "source": [
        "### Downloading data"
      ]
    },
    {
      "cell_type": "markdown",
      "metadata": {
        "colab_type": "text",
        "id": "EundMtGPpCdf"
      },
      "source": [
        "The dataset we will be using is the IMDB Large Movie Review Dataset, which consists of 50000 labeled movie reviews. These are split into 25,000 reviews for training and 25,000 reviews for testing. The  dataset contains an even number of positive and negative reviews, so randomly guessing yields 50% accuracy. The data is preprocessed. For text classification, it is ususal to limit the size of the vocabulary to stop the dataset from becoming too sparse, creating possible overfitting. We keep the top 10,000 most frequently occurring words in the training data.\n"
      ]
    },
    {
      "cell_type": "code",
      "metadata": {
        "colab_type": "code",
        "id": "NyuSzkafqNca",
        "colab": {}
      },
      "source": [
        "imdb = keras.datasets.imdb\n",
        "(X_train, y_train), (X_test, y_test) = imdb.load_data(num_words=10000)"
      ],
      "execution_count": 0,
      "outputs": []
    },
    {
      "cell_type": "markdown",
      "metadata": {
        "colab_type": "text",
        "id": "6U4iCV9-rmay"
      },
      "source": [
        "We now can start playing around with the data, let’s first see the length:"
      ]
    },
    {
      "cell_type": "code",
      "metadata": {
        "colab_type": "code",
        "id": "h-gjWRAuqg5s",
        "outputId": "9ec8ed4f-5393-4add-fd1e-b30abeddbd7d",
        "colab": {
          "base_uri": "https://localhost:8080/",
          "height": 34
        }
      },
      "source": [
        "print(\"Training entries: {}, labels: {}\".format(len(X_train), len(y_train)))"
      ],
      "execution_count": 57,
      "outputs": [
        {
          "output_type": "stream",
          "text": [
            "Training entries: 25000, labels: 25000\n"
          ],
          "name": "stdout"
        }
      ]
    },
    {
      "cell_type": "markdown",
      "metadata": {
        "colab_type": "text",
        "id": "MTRZrpcyr-4x"
      },
      "source": [
        "The  reviews have been converted to integers and each integer represents a  word in a dictionary. "
      ]
    },
    {
      "cell_type": "code",
      "metadata": {
        "colab_type": "code",
        "id": "79Ev72Kgq4XL",
        "outputId": "bbec284c-709f-469e-c529-297a7bd6f621",
        "colab": {
          "base_uri": "https://localhost:8080/",
          "height": 1000
        }
      },
      "source": [
        " X_train[0]"
      ],
      "execution_count": 58,
      "outputs": [
        {
          "output_type": "execute_result",
          "data": {
            "text/plain": [
              "[1,\n",
              " 14,\n",
              " 22,\n",
              " 16,\n",
              " 43,\n",
              " 530,\n",
              " 973,\n",
              " 1622,\n",
              " 1385,\n",
              " 65,\n",
              " 458,\n",
              " 4468,\n",
              " 66,\n",
              " 3941,\n",
              " 4,\n",
              " 173,\n",
              " 36,\n",
              " 256,\n",
              " 5,\n",
              " 25,\n",
              " 100,\n",
              " 43,\n",
              " 838,\n",
              " 112,\n",
              " 50,\n",
              " 670,\n",
              " 2,\n",
              " 9,\n",
              " 35,\n",
              " 480,\n",
              " 284,\n",
              " 5,\n",
              " 150,\n",
              " 4,\n",
              " 172,\n",
              " 112,\n",
              " 167,\n",
              " 2,\n",
              " 336,\n",
              " 385,\n",
              " 39,\n",
              " 4,\n",
              " 172,\n",
              " 4536,\n",
              " 1111,\n",
              " 17,\n",
              " 546,\n",
              " 38,\n",
              " 13,\n",
              " 447,\n",
              " 4,\n",
              " 192,\n",
              " 50,\n",
              " 16,\n",
              " 6,\n",
              " 147,\n",
              " 2025,\n",
              " 19,\n",
              " 14,\n",
              " 22,\n",
              " 4,\n",
              " 1920,\n",
              " 4613,\n",
              " 469,\n",
              " 4,\n",
              " 22,\n",
              " 71,\n",
              " 87,\n",
              " 12,\n",
              " 16,\n",
              " 43,\n",
              " 530,\n",
              " 38,\n",
              " 76,\n",
              " 15,\n",
              " 13,\n",
              " 1247,\n",
              " 4,\n",
              " 22,\n",
              " 17,\n",
              " 515,\n",
              " 17,\n",
              " 12,\n",
              " 16,\n",
              " 626,\n",
              " 18,\n",
              " 2,\n",
              " 5,\n",
              " 62,\n",
              " 386,\n",
              " 12,\n",
              " 8,\n",
              " 316,\n",
              " 8,\n",
              " 106,\n",
              " 5,\n",
              " 4,\n",
              " 2223,\n",
              " 5244,\n",
              " 16,\n",
              " 480,\n",
              " 66,\n",
              " 3785,\n",
              " 33,\n",
              " 4,\n",
              " 130,\n",
              " 12,\n",
              " 16,\n",
              " 38,\n",
              " 619,\n",
              " 5,\n",
              " 25,\n",
              " 124,\n",
              " 51,\n",
              " 36,\n",
              " 135,\n",
              " 48,\n",
              " 25,\n",
              " 1415,\n",
              " 33,\n",
              " 6,\n",
              " 22,\n",
              " 12,\n",
              " 215,\n",
              " 28,\n",
              " 77,\n",
              " 52,\n",
              " 5,\n",
              " 14,\n",
              " 407,\n",
              " 16,\n",
              " 82,\n",
              " 2,\n",
              " 8,\n",
              " 4,\n",
              " 107,\n",
              " 117,\n",
              " 5952,\n",
              " 15,\n",
              " 256,\n",
              " 4,\n",
              " 2,\n",
              " 7,\n",
              " 3766,\n",
              " 5,\n",
              " 723,\n",
              " 36,\n",
              " 71,\n",
              " 43,\n",
              " 530,\n",
              " 476,\n",
              " 26,\n",
              " 400,\n",
              " 317,\n",
              " 46,\n",
              " 7,\n",
              " 4,\n",
              " 2,\n",
              " 1029,\n",
              " 13,\n",
              " 104,\n",
              " 88,\n",
              " 4,\n",
              " 381,\n",
              " 15,\n",
              " 297,\n",
              " 98,\n",
              " 32,\n",
              " 2071,\n",
              " 56,\n",
              " 26,\n",
              " 141,\n",
              " 6,\n",
              " 194,\n",
              " 7486,\n",
              " 18,\n",
              " 4,\n",
              " 226,\n",
              " 22,\n",
              " 21,\n",
              " 134,\n",
              " 476,\n",
              " 26,\n",
              " 480,\n",
              " 5,\n",
              " 144,\n",
              " 30,\n",
              " 5535,\n",
              " 18,\n",
              " 51,\n",
              " 36,\n",
              " 28,\n",
              " 224,\n",
              " 92,\n",
              " 25,\n",
              " 104,\n",
              " 4,\n",
              " 226,\n",
              " 65,\n",
              " 16,\n",
              " 38,\n",
              " 1334,\n",
              " 88,\n",
              " 12,\n",
              " 16,\n",
              " 283,\n",
              " 5,\n",
              " 16,\n",
              " 4472,\n",
              " 113,\n",
              " 103,\n",
              " 32,\n",
              " 15,\n",
              " 16,\n",
              " 5345,\n",
              " 19,\n",
              " 178,\n",
              " 32]"
            ]
          },
          "metadata": {
            "tags": []
          },
          "execution_count": 58
        }
      ]
    },
    {
      "cell_type": "markdown",
      "metadata": {
        "colab_type": "text",
        "id": "Tvuu4KhStqei"
      },
      "source": [
        "We can convert integers back to words by querying a dictionary object that contains the integer to string mapping:"
      ]
    },
    {
      "cell_type": "code",
      "metadata": {
        "colab_type": "code",
        "id": "gMCH1OoDrSNR",
        "colab": {}
      },
      "source": [
        "\n",
        "word_index = imdb.get_word_index()"
      ],
      "execution_count": 0,
      "outputs": []
    },
    {
      "cell_type": "markdown",
      "metadata": {
        "colab_type": "text",
        "id": "5IreFXgruZot"
      },
      "source": [
        "Index 1 represents the beginning of the sentence and the index 2 is assigned to all unknown tokens. Index 0 will be used for padding."
      ]
    },
    {
      "cell_type": "code",
      "metadata": {
        "colab_type": "code",
        "id": "abIb7Fe5u3GQ",
        "colab": {}
      },
      "source": [
        "\n",
        "word_index = {k:(v+3) for k,v in word_index.items()}\n",
        "word_index[\"<PAD>\"] = 0\n",
        "word_index[\"<START>\"] = 1\n",
        "word_index[\"<UNK>\"] = 2  \n",
        "word_index[\"<UNUSED>\"] = 3"
      ],
      "execution_count": 0,
      "outputs": []
    },
    {
      "cell_type": "markdown",
      "metadata": {
        "colab_type": "text",
        "id": "9TnnSuspvC5b"
      },
      "source": [
        "To reverse key and values in a dictionary:"
      ]
    },
    {
      "cell_type": "code",
      "metadata": {
        "colab_type": "code",
        "id": "nKOiVVXQu-_I",
        "colab": {}
      },
      "source": [
        "reverse_word_index = dict([(value, key) for (key, value) in word_index.items()])"
      ],
      "execution_count": 0,
      "outputs": []
    },
    {
      "cell_type": "markdown",
      "metadata": {
        "colab_type": "text",
        "id": "ZmTJEm8xvUvW"
      },
      "source": [
        "To view a word:"
      ]
    },
    {
      "cell_type": "code",
      "metadata": {
        "colab_type": "code",
        "id": "SqN5jgVKvJJZ",
        "outputId": "eb5526dd-8f65-4580-99f6-21f62d72649f",
        "colab": {
          "base_uri": "https://localhost:8080/",
          "height": 34
        }
      },
      "source": [
        "reverse_word_index[25]"
      ],
      "execution_count": 62,
      "outputs": [
        {
          "output_type": "execute_result",
          "data": {
            "text/plain": [
              "'you'"
            ]
          },
          "metadata": {
            "tags": []
          },
          "execution_count": 62
        }
      ]
    },
    {
      "cell_type": "markdown",
      "metadata": {
        "colab_type": "text",
        "id": "Q6QjrzgVvrYn"
      },
      "source": [
        "And to recreate the whole sentence from our training data we define decode_review:\n"
      ]
    },
    {
      "cell_type": "code",
      "metadata": {
        "colab_type": "code",
        "id": "wvrKeMgxvWlv",
        "colab": {}
      },
      "source": [
        "def decode_review(text):\n",
        "    return ' '.join([reverse_word_index.get(i, '?') for i in text])"
      ],
      "execution_count": 0,
      "outputs": []
    },
    {
      "cell_type": "code",
      "metadata": {
        "colab_type": "code",
        "id": "Sxg4YA_NvdRg",
        "outputId": "46cb1e48-1285-4300-b053-7e71f567c7af",
        "colab": {
          "base_uri": "https://localhost:8080/",
          "height": 54
        }
      },
      "source": [
        "decode_review(X_train[10])"
      ],
      "execution_count": 64,
      "outputs": [
        {
          "output_type": "execute_result",
          "data": {
            "text/plain": [
              "\"<START> french horror cinema has seen something of a revival over the last couple of years with great films such as inside and <UNK> romance <UNK> on to the scene <UNK> <UNK> the revival just slightly but stands head and shoulders over most modern horror titles and is surely one of the best french horror films ever made <UNK> was obviously shot on a low budget but this is made up for in far more ways than one by the originality of the film and this in turn is <UNK> by the excellent writing and acting that ensure the film is a winner the plot focuses on two main ideas prison and black magic the central character is a man named <UNK> sent to prison for fraud he is put in a cell with three others the quietly insane <UNK> body building <UNK> marcus and his retarded boyfriend daisy after a short while in the cell together they stumble upon a hiding place in the wall that contains an old <UNK> after <UNK> part of it they soon realise its magical powers and realise they may be able to use it to break through the prison walls br br black magic is a very interesting topic and i'm actually quite surprised that there aren't more films based on it as there's so much scope for things to do with it it's fair to say that <UNK> makes the best of it's <UNK> as despite it's <UNK> the film never actually feels restrained and manages to flow well throughout director eric <UNK> provides a great atmosphere for the film the fact that most of it takes place inside the central prison cell <UNK> that the film feels very claustrophobic and this immensely benefits the central idea of the prisoners wanting to use magic to break out of the cell it's very easy to get behind them it's often said that the unknown is the thing that really <UNK> people and this film proves that as the director <UNK> that we can never really be sure of exactly what is round the corner and this helps to ensure that <UNK> actually does manage to be quite frightening the film is memorable for a lot of reasons outside the central plot the characters are all very interesting in their own way and the fact that the book itself almost takes on its own character is very well done anyone worried that the film won't deliver by the end won't be disappointed either as the ending both makes sense and manages to be quite horrifying overall <UNK> is a truly great horror film and one of the best of the decade highly recommended viewing\""
            ]
          },
          "metadata": {
            "tags": []
          },
          "execution_count": 64
        }
      ]
    },
    {
      "cell_type": "markdown",
      "metadata": {
        "colab_type": "text",
        "id": "c8gIzXncfaJK"
      },
      "source": [
        "### Creating One-hot word vectors"
      ]
    },
    {
      "cell_type": "markdown",
      "metadata": {
        "colab_type": "text",
        "id": "B9W4yb3rv_E0"
      },
      "source": [
        "It is  common to use one-hot representation as input in Natural Language Processing tasks. In Keras, the Embedding layer takes an index as an input and convert it to one-hot vector with the length of the vocabulary size. Then multiplies these vectors by a normal weight matrix. But there is no way to only get a one-hot vector as the output of a layer in Keras. To solve this we use Lambda() layer and a function that creates the one-hot layer. "
      ]
    },
    {
      "cell_type": "code",
      "metadata": {
        "colab_type": "code",
        "id": "RPO_pK9zH4C5",
        "colab": {}
      },
      "source": [
        "def OneHot(input_dim=None, input_length=None):\n",
        "    \n",
        "    if input_dim is None or input_length is None:\n",
        "        raise TypeError(\"input_dim or input_length is not set\")\n",
        "\n",
        "    \n",
        "    def _one_hot(x, num_classes):\n",
        "        return K.one_hot(K.cast(x, 'uint8'),\n",
        "                          num_classes=num_classes)\n",
        "\n",
        "    return Lambda(_one_hot,\n",
        "                  arguments={'num_classes': input_dim},\n",
        "                  input_shape=(input_length,))"
      ],
      "execution_count": 0,
      "outputs": []
    },
    {
      "cell_type": "markdown",
      "metadata": {
        "colab_type": "text",
        "id": "364d3MAw0ez9"
      },
      "source": [
        "input_dim refers to the length of the one-hot vector and input_length refers to the length of the input sequence. Since the input to K.one_hot should be an integer tensor, we cast x to one (Keras passes around float tensors by default).\n",
        "\n"
      ]
    },
    {
      "cell_type": "markdown",
      "metadata": {
        "colab_type": "text",
        "id": "VHz76GNA2M4r"
      },
      "source": [
        " Each text sequence has in most cases different length of words. Here, we fill sequences with a pad token (0) to fit the size. This special tokens is then masked not to be accounted in averaging, loss calculation etc. We set the maximum length to 256."
      ]
    },
    {
      "cell_type": "markdown",
      "metadata": {
        "colab_type": "text",
        "id": "9G_o7PsvgSFt"
      },
      "source": [
        "### Preparing input data"
      ]
    },
    {
      "cell_type": "code",
      "metadata": {
        "colab_type": "code",
        "id": "jiFn7sd_wF5j",
        "colab": {}
      },
      "source": [
        "VOCAB_SIZE = 10000\n",
        "MAX_SEQUENCE_LENGTH = 256\n",
        "\n",
        "X_train_enc = keras.preprocessing.sequence.pad_sequences(X_train,\n",
        "                                                        value=word_index[\"<PAD>\"],\n",
        "                                                        padding='post',\n",
        "                                                        maxlen=256)\n",
        "\n",
        "X_test_enc = keras.preprocessing.sequence.pad_sequences(X_test,\n",
        "                                                       value=word_index[\"<PAD>\"],\n",
        "                                                       padding='post',\n",
        "                                                       maxlen=256)"
      ],
      "execution_count": 0,
      "outputs": []
    },
    {
      "cell_type": "markdown",
      "metadata": {
        "colab_type": "text",
        "id": "kcjFH1wKF_7d"
      },
      "source": [
        "And to view a padded review:"
      ]
    },
    {
      "cell_type": "code",
      "metadata": {
        "colab_type": "code",
        "id": "zwH4dcfW_a18",
        "outputId": "30c28471-e4e8-40ec-98c4-044e7f1acbfa",
        "colab": {
          "base_uri": "https://localhost:8080/",
          "height": 336
        }
      },
      "source": [
        "print(X_train_enc[1])\n"
      ],
      "execution_count": 67,
      "outputs": [
        {
          "output_type": "stream",
          "text": [
            "[   1  194 1153  194 8255   78  228    5    6 1463 4369 5012  134   26\n",
            "    4  715    8  118 1634   14  394   20   13  119  954  189  102    5\n",
            "  207  110 3103   21   14   69  188    8   30   23    7    4  249  126\n",
            "   93    4  114    9 2300 1523    5  647    4  116    9   35 8163    4\n",
            "  229    9  340 1322    4  118    9    4  130 4901   19    4 1002    5\n",
            "   89   29  952   46   37    4  455    9   45   43   38 1543 1905  398\n",
            "    4 1649   26 6853    5  163   11 3215    2    4 1153    9  194  775\n",
            "    7 8255    2  349 2637  148  605    2 8003   15  123  125   68    2\n",
            " 6853   15  349  165 4362   98    5    4  228    9   43    2 1157   15\n",
            "  299  120    5  120  174   11  220  175  136   50    9 4373  228 8255\n",
            "    5    2  656  245 2350    5    4 9837  131  152  491   18    2   32\n",
            " 7464 1212   14    9    6  371   78   22  625   64 1382    9    8  168\n",
            "  145   23    4 1690   15   16    4 1355    5   28    6   52  154  462\n",
            "   33   89   78  285   16  145   95    0    0    0    0    0    0    0\n",
            "    0    0    0    0    0    0    0    0    0    0    0    0    0    0\n",
            "    0    0    0    0    0    0    0    0    0    0    0    0    0    0\n",
            "    0    0    0    0    0    0    0    0    0    0    0    0    0    0\n",
            "    0    0    0    0    0    0    0    0    0    0    0    0    0    0\n",
            "    0    0    0    0]\n"
          ],
          "name": "stdout"
        }
      ]
    },
    {
      "cell_type": "markdown",
      "metadata": {
        "colab_type": "text",
        "id": "F1zcxFwNGepA"
      },
      "source": [
        "Now we want to build the neural network model. We  are going to have a hidden layer with 16 hidden units. \n",
        "\n",
        "First, we want to transform each index to an embedded vector and then average all vectors to a single one. It has been showed that unweighted average of word vectors outperforms many complicated networks that model semantic and syntactic compositionality. As an example you can take a look at this: (http://anthology.aclweb.org/P/P15/P15-1162.pdf)\n",
        "\n",
        "To average we need to ignore padded zeros:"
      ]
    },
    {
      "cell_type": "code",
      "metadata": {
        "colab_type": "code",
        "id": "Yi04MLIvJOGZ",
        "colab": {}
      },
      "source": [
        "class GlobalAveragePooling1DMasked(GlobalAveragePooling1D):\n",
        "    def call(self, x, mask=None):\n",
        "        if mask != None:\n",
        "            return K.sum(x, axis=1) / K.sum(mask, axis=1)\n",
        "        else:\n",
        "            return super().call(x)\n"
      ],
      "execution_count": 0,
      "outputs": []
    },
    {
      "cell_type": "markdown",
      "metadata": {
        "colab_type": "text",
        "id": "whgIIB5ggjna"
      },
      "source": [
        "### Neural Network model using one-hot vectors"
      ]
    },
    {
      "cell_type": "markdown",
      "metadata": {
        "colab_type": "text",
        "id": "jlOLnlnSJgrU"
      },
      "source": [
        "The first layer is an one-hot layer. The second layer is to compute average on all word vectors in a sentence without considering padding. The  output vector is piped through a fully-connected layer. The last layer is connected with a single output node with the sigmoid activation function. The final value is a float between 0 and 1. \n",
        "The vocabulary count of the movie reviews (10000) is used as the input shape. At the end we visualize the model summary."
      ]
    },
    {
      "cell_type": "code",
      "metadata": {
        "colab_type": "code",
        "id": "_Pn83gBbxiK7",
        "colab": {}
      },
      "source": [
        "# put your code here\n",
        "\n",
        "model = Sequential()\n",
        "model.add(OneHot(input_dim = VOCAB_SIZE, input_length = MAX_SEQUENCE_LENGTH))\n",
        "model.add(GlobalAveragePooling1DMasked())\n",
        "model.add(Dense(1, activation='sigmoid'))\n"
      ],
      "execution_count": 0,
      "outputs": []
    },
    {
      "cell_type": "markdown",
      "metadata": {
        "colab_type": "text",
        "id": "_Mz96xpCgvTj"
      },
      "source": [
        "### Training the model"
      ]
    },
    {
      "cell_type": "markdown",
      "metadata": {
        "colab_type": "text",
        "id": "F3HbW_IKLqwT"
      },
      "source": [
        "To compile the model we need a loss function and an optimizer. We use binary_crossentropy loss function which is just a special case of categorical cross entropy. We also use Adam optimizer that can be used instead of the classical stochastic gradient descent procedure to update network weights iterative based in training data. You can read more about it here:\n",
        "(https://arxiv.org/abs/1412.6980v8\n",
        ")\n"
      ]
    },
    {
      "cell_type": "code",
      "metadata": {
        "colab_type": "code",
        "id": "qh1PWTNMxjUw",
        "colab": {
          "base_uri": "https://localhost:8080/",
          "height": 252
        },
        "outputId": "a4831b67-be5c-4d84-feba-645ca1964039"
      },
      "source": [
        "model.compile(optimizer='adam',\n",
        "              loss='binary_crossentropy',\n",
        "              metrics=['accuracy'])\n",
        "\n",
        "model.summary()\n"
      ],
      "execution_count": 70,
      "outputs": [
        {
          "output_type": "stream",
          "text": [
            "Model: \"sequential_7\"\n",
            "_________________________________________________________________\n",
            "Layer (type)                 Output Shape              Param #   \n",
            "=================================================================\n",
            "lambda_4 (Lambda)            (None, 256, 10000)        0         \n",
            "_________________________________________________________________\n",
            "global_average_pooling1d_mas (None, 10000)             0         \n",
            "_________________________________________________________________\n",
            "dense_5 (Dense)              (None, 1)                 10001     \n",
            "=================================================================\n",
            "Total params: 10,001\n",
            "Trainable params: 10,001\n",
            "Non-trainable params: 0\n",
            "_________________________________________________________________\n"
          ],
          "name": "stdout"
        }
      ]
    },
    {
      "cell_type": "markdown",
      "metadata": {
        "colab_type": "text",
        "id": "E1jwQQqCN5Ia"
      },
      "source": [
        "When training, we want to check the accuracy of the model on data it hasn't seen before. So we create a validation set:"
      ]
    },
    {
      "cell_type": "code",
      "metadata": {
        "colab_type": "code",
        "id": "f5lAqzQlxjSM",
        "colab": {}
      },
      "source": [
        "X_val = np.array(X_train_enc[:10000])\n",
        "partial_X_train = np.array(X_train_enc[10000:])\n",
        "\n",
        "y_val = np.array(y_train[:10000])\n",
        "partial_y_train = np.array(y_train[10000:])"
      ],
      "execution_count": 0,
      "outputs": []
    },
    {
      "cell_type": "markdown",
      "metadata": {
        "colab_type": "text",
        "id": "E8Kpo5G3OJEY"
      },
      "source": [
        "Then we start to train the model for 40 epochs in mini-batches of 512 samples and monitor the model's loss and accuracy on the validation set."
      ]
    },
    {
      "cell_type": "code",
      "metadata": {
        "colab_type": "code",
        "id": "99_z39KAxjPi",
        "colab": {
          "base_uri": "https://localhost:8080/",
          "height": 1000
        },
        "outputId": "8b08f490-26de-4437-c7c9-c2054f85c5ee"
      },
      "source": [
        "history = model.fit(partial_X_train,\n",
        "                    partial_y_train,\n",
        "                    epochs=40,\n",
        "                    batch_size=512,\n",
        "                    validation_data=(X_val, y_val),\n",
        "                    verbose=1)\n"
      ],
      "execution_count": 72,
      "outputs": [
        {
          "output_type": "stream",
          "text": [
            "Train on 15000 samples, validate on 10000 samples\n",
            "Epoch 1/40\n",
            "15000/15000 [==============================] - 6s 427us/step - loss: 0.6930 - acc: 0.5035 - val_loss: 0.6929 - val_acc: 0.4947\n",
            "Epoch 2/40\n",
            "15000/15000 [==============================] - 6s 404us/step - loss: 0.6926 - acc: 0.5095 - val_loss: 0.6925 - val_acc: 0.5084\n",
            "Epoch 3/40\n",
            "15000/15000 [==============================] - 6s 406us/step - loss: 0.6922 - acc: 0.5486 - val_loss: 0.6921 - val_acc: 0.5439\n",
            "Epoch 4/40\n",
            "15000/15000 [==============================] - 6s 408us/step - loss: 0.6918 - acc: 0.5235 - val_loss: 0.6917 - val_acc: 0.5301\n",
            "Epoch 5/40\n",
            "15000/15000 [==============================] - 6s 409us/step - loss: 0.6913 - acc: 0.5754 - val_loss: 0.6913 - val_acc: 0.6022\n",
            "Epoch 6/40\n",
            "15000/15000 [==============================] - 6s 408us/step - loss: 0.6909 - acc: 0.6305 - val_loss: 0.6910 - val_acc: 0.6042\n",
            "Epoch 7/40\n",
            "15000/15000 [==============================] - 6s 412us/step - loss: 0.6905 - acc: 0.6095 - val_loss: 0.6906 - val_acc: 0.6086\n",
            "Epoch 8/40\n",
            "15000/15000 [==============================] - 6s 412us/step - loss: 0.6901 - acc: 0.6158 - val_loss: 0.6902 - val_acc: 0.6284\n",
            "Epoch 9/40\n",
            "15000/15000 [==============================] - 6s 413us/step - loss: 0.6897 - acc: 0.6540 - val_loss: 0.6898 - val_acc: 0.6520\n",
            "Epoch 10/40\n",
            "15000/15000 [==============================] - 6s 411us/step - loss: 0.6893 - acc: 0.6509 - val_loss: 0.6894 - val_acc: 0.6517\n",
            "Epoch 11/40\n",
            "15000/15000 [==============================] - 6s 410us/step - loss: 0.6889 - acc: 0.6661 - val_loss: 0.6891 - val_acc: 0.6550\n",
            "Epoch 12/40\n",
            "15000/15000 [==============================] - 6s 412us/step - loss: 0.6885 - acc: 0.6539 - val_loss: 0.6887 - val_acc: 0.6487\n",
            "Epoch 13/40\n",
            "15000/15000 [==============================] - 6s 414us/step - loss: 0.6881 - acc: 0.6639 - val_loss: 0.6883 - val_acc: 0.6593\n",
            "Epoch 14/40\n",
            "15000/15000 [==============================] - 6s 413us/step - loss: 0.6877 - acc: 0.6648 - val_loss: 0.6880 - val_acc: 0.6592\n",
            "Epoch 15/40\n",
            "15000/15000 [==============================] - 6s 415us/step - loss: 0.6874 - acc: 0.6667 - val_loss: 0.6876 - val_acc: 0.6594\n",
            "Epoch 16/40\n",
            "15000/15000 [==============================] - 6s 417us/step - loss: 0.6870 - acc: 0.6705 - val_loss: 0.6872 - val_acc: 0.6615\n",
            "Epoch 17/40\n",
            "15000/15000 [==============================] - 6s 415us/step - loss: 0.6866 - acc: 0.6726 - val_loss: 0.6869 - val_acc: 0.6632\n",
            "Epoch 18/40\n",
            "15000/15000 [==============================] - 6s 415us/step - loss: 0.6862 - acc: 0.6676 - val_loss: 0.6866 - val_acc: 0.6602\n",
            "Epoch 19/40\n",
            "15000/15000 [==============================] - 6s 416us/step - loss: 0.6858 - acc: 0.6659 - val_loss: 0.6862 - val_acc: 0.6623\n",
            "Epoch 20/40\n",
            "15000/15000 [==============================] - 6s 417us/step - loss: 0.6854 - acc: 0.6707 - val_loss: 0.6858 - val_acc: 0.6649\n",
            "Epoch 21/40\n",
            "15000/15000 [==============================] - 6s 418us/step - loss: 0.6850 - acc: 0.6728 - val_loss: 0.6855 - val_acc: 0.6646\n",
            "Epoch 22/40\n",
            "15000/15000 [==============================] - 6s 420us/step - loss: 0.6847 - acc: 0.6706 - val_loss: 0.6851 - val_acc: 0.6629\n",
            "Epoch 23/40\n",
            "15000/15000 [==============================] - 6s 419us/step - loss: 0.6843 - acc: 0.6743 - val_loss: 0.6847 - val_acc: 0.6661\n",
            "Epoch 24/40\n",
            "15000/15000 [==============================] - 6s 418us/step - loss: 0.6839 - acc: 0.6742 - val_loss: 0.6844 - val_acc: 0.6653\n",
            "Epoch 25/40\n",
            "15000/15000 [==============================] - 6s 419us/step - loss: 0.6835 - acc: 0.6763 - val_loss: 0.6840 - val_acc: 0.6681\n",
            "Epoch 26/40\n",
            "15000/15000 [==============================] - 6s 419us/step - loss: 0.6832 - acc: 0.6781 - val_loss: 0.6837 - val_acc: 0.6660\n",
            "Epoch 27/40\n",
            "15000/15000 [==============================] - 6s 420us/step - loss: 0.6828 - acc: 0.6792 - val_loss: 0.6833 - val_acc: 0.6673\n",
            "Epoch 28/40\n",
            "15000/15000 [==============================] - 6s 421us/step - loss: 0.6824 - acc: 0.6761 - val_loss: 0.6830 - val_acc: 0.6669\n",
            "Epoch 29/40\n",
            "15000/15000 [==============================] - 6s 420us/step - loss: 0.6820 - acc: 0.6769 - val_loss: 0.6827 - val_acc: 0.6678\n",
            "Epoch 30/40\n",
            "15000/15000 [==============================] - 6s 420us/step - loss: 0.6817 - acc: 0.6761 - val_loss: 0.6824 - val_acc: 0.6680\n",
            "Epoch 31/40\n",
            "15000/15000 [==============================] - 6s 420us/step - loss: 0.6813 - acc: 0.6773 - val_loss: 0.6820 - val_acc: 0.6676\n",
            "Epoch 32/40\n",
            "15000/15000 [==============================] - 6s 421us/step - loss: 0.6809 - acc: 0.6781 - val_loss: 0.6816 - val_acc: 0.6706\n",
            "Epoch 33/40\n",
            "15000/15000 [==============================] - 6s 421us/step - loss: 0.6806 - acc: 0.6796 - val_loss: 0.6813 - val_acc: 0.6703\n",
            "Epoch 34/40\n",
            "15000/15000 [==============================] - 6s 423us/step - loss: 0.6802 - acc: 0.6793 - val_loss: 0.6810 - val_acc: 0.6698\n",
            "Epoch 35/40\n",
            "15000/15000 [==============================] - 6s 423us/step - loss: 0.6798 - acc: 0.6771 - val_loss: 0.6807 - val_acc: 0.6675\n",
            "Epoch 36/40\n",
            "15000/15000 [==============================] - 6s 423us/step - loss: 0.6795 - acc: 0.6793 - val_loss: 0.6803 - val_acc: 0.6703\n",
            "Epoch 37/40\n",
            "15000/15000 [==============================] - 6s 422us/step - loss: 0.6791 - acc: 0.6796 - val_loss: 0.6799 - val_acc: 0.6716\n",
            "Epoch 38/40\n",
            "15000/15000 [==============================] - 6s 422us/step - loss: 0.6788 - acc: 0.6800 - val_loss: 0.6796 - val_acc: 0.6710\n",
            "Epoch 39/40\n",
            "15000/15000 [==============================] - 6s 423us/step - loss: 0.6784 - acc: 0.6798 - val_loss: 0.6792 - val_acc: 0.6713\n",
            "Epoch 40/40\n",
            "15000/15000 [==============================] - 6s 424us/step - loss: 0.6780 - acc: 0.6807 - val_loss: 0.6789 - val_acc: 0.6722\n"
          ],
          "name": "stdout"
        }
      ]
    },
    {
      "cell_type": "markdown",
      "metadata": {
        "colab_type": "text",
        "id": "i_9a_rybhG5J"
      },
      "source": [
        "### Evaluating the model"
      ]
    },
    {
      "cell_type": "markdown",
      "metadata": {
        "colab_type": "text",
        "id": "EYLH8kOgOo9W"
      },
      "source": [
        "To evaulate the model on test data:"
      ]
    },
    {
      "cell_type": "code",
      "metadata": {
        "colab_type": "code",
        "id": "CFMt2Q7b3taP",
        "colab": {
          "base_uri": "https://localhost:8080/",
          "height": 34
        },
        "outputId": "0f40a208-5471-46de-a3a9-11d8e6f95e5c"
      },
      "source": [
        "results = model.evaluate(X_test_enc, y_test)"
      ],
      "execution_count": 46,
      "outputs": [
        {
          "output_type": "stream",
          "text": [
            "25000/25000 [==============================] - 7s 276us/step\n"
          ],
          "name": "stdout"
        }
      ]
    },
    {
      "cell_type": "code",
      "metadata": {
        "colab_type": "code",
        "id": "9RrKiPHcAmQU",
        "colab": {
          "base_uri": "https://localhost:8080/",
          "height": 34
        },
        "outputId": "2fe0fb71-1271-46f7-f30d-a8cd7b5c7b5c"
      },
      "source": [
        "print(results)\n",
        "# loss, accuracay "
      ],
      "execution_count": 47,
      "outputs": [
        {
          "output_type": "stream",
          "text": [
            "[0.6785520486068726, 0.67244]\n"
          ],
          "name": "stdout"
        }
      ]
    },
    {
      "cell_type": "markdown",
      "metadata": {
        "colab_type": "text",
        "id": "pW7IpHxMO6qp"
      },
      "source": [
        "Our first model accuracy using one-hot vectors is \n",
        "\n",
        "\n",
        "\n"
      ]
    },
    {
      "cell_type": "markdown",
      "metadata": {
        "colab_type": "text",
        "id": "OwZk_yoWhPJB"
      },
      "source": [
        "### Plotting the accuracy graph"
      ]
    },
    {
      "cell_type": "markdown",
      "metadata": {
        "colab_type": "text",
        "id": "JIDPH1J7PMzN"
      },
      "source": [
        "To plot a graph of accuracy and loss over time we can use Matplotlib:"
      ]
    },
    {
      "cell_type": "code",
      "metadata": {
        "colab_type": "code",
        "id": "LS9k2vvSAqB7",
        "colab": {
          "base_uri": "https://localhost:8080/",
          "height": 295
        },
        "outputId": "183e5859-c39b-4f50-9c0d-6fbd5c5da11a"
      },
      "source": [
        "import matplotlib.pyplot as plt\n",
        "\n",
        "history_dict = history.history\n",
        "\n",
        "acc = history_dict['acc']\n",
        "val_acc = history_dict['val_acc']\n",
        "loss = history_dict['loss']\n",
        "val_loss = history_dict['val_loss']\n",
        "\n",
        "epochs = range(1, len(acc) + 1)\n",
        "\n",
        "plt.plot(epochs, acc, 'bo', label='Training acc')\n",
        "plt.plot(epochs, val_acc, 'b', label='Validation acc')\n",
        "plt.title('Training and validation accuracy')\n",
        "plt.xlabel('Epochs')\n",
        "plt.ylabel('Accuracy')\n",
        "plt.legend()\n",
        "\n",
        "plt.show()"
      ],
      "execution_count": 48,
      "outputs": [
        {
          "output_type": "display_data",
          "data": {
            "image/png": "[encoded data removed]",
            "text/plain": [
              "<Figure size 432x288 with 1 Axes>"
            ]
          },
          "metadata": {
            "tags": []
          }
        }
      ]
    },
    {
      "cell_type": "markdown",
      "metadata": {
        "colab_type": "text",
        "id": "a7OwOQw4h8RX"
      },
      "source": [
        "### Neural Network model using word embeddings"
      ]
    },
    {
      "cell_type": "markdown",
      "metadata": {
        "colab_type": "text",
        "id": "l-QzOMO_P4jc"
      },
      "source": [
        "Now instead of one-hot vectors, we want to use embedding. We change our first layer in model1 to an Embedding layer. This layer takes the integer-encoded vocabulary and looks up the embedding vector for each word-index. These vectors are learned as the model trains. The vectors add a dimension to the output array. The resulting dimensions are: (batch, sequence, embedding)."
      ]
    },
    {
      "cell_type": "code",
      "metadata": {
        "colab_type": "code",
        "id": "MFrCsL-NBFVL",
        "colab": {
          "base_uri": "https://localhost:8080/",
          "height": 1000
        },
        "outputId": "315bc8c8-141c-4d14-cac9-aa209b2b8101"
      },
      "source": [
        "VOCAB_SIZE= 10000\n",
        "\n",
        "# put the code here\n",
        "\n",
        "model2 = Sequential()\n",
        "model2.add(Embedding(VOCAB_SIZE , MAX_SEQUENCE_LENGTH))\n",
        "model2.add(GlobalAveragePooling1DMasked())\n",
        "model2.add(Dense(1, activation='sigmoid'))\n",
        "\n",
        "\n",
        "model2.compile(optimizer='adam',\n",
        "              loss='binary_crossentropy',\n",
        "              metrics=['accuracy'])\n",
        "# model2 summary\n",
        "model2.summary()\n",
        "\n",
        "\n",
        "X_val = np.array(X_train_enc[:10000])\n",
        "partial_X_train = np.array(X_train_enc[10000:])\n",
        "\n",
        "history2 = model2.fit(partial_X_train,\n",
        "                    partial_y_train,\n",
        "                    epochs=40,\n",
        "                    batch_size=512,\n",
        "                    validation_data=(X_val, y_val),\n",
        "                    verbose=1)\n",
        "\n",
        "results = model2.evaluate(X_test_enc, y_test)\n",
        "print(results)"
      ],
      "execution_count": 49,
      "outputs": [
        {
          "output_type": "stream",
          "text": [
            "Model: \"sequential_6\"\n",
            "_________________________________________________________________\n",
            "Layer (type)                 Output Shape              Param #   \n",
            "=================================================================\n",
            "embedding_1 (Embedding)      (None, None, 256)         2560000   \n",
            "_________________________________________________________________\n",
            "global_average_pooling1d_mas (None, 256)               0         \n",
            "_________________________________________________________________\n",
            "dense_4 (Dense)              (None, 1)                 257       \n",
            "=================================================================\n",
            "Total params: 2,560,257\n",
            "Trainable params: 2,560,257\n",
            "Non-trainable params: 0\n",
            "_________________________________________________________________\n",
            "Train on 15000 samples, validate on 10000 samples\n",
            "Epoch 1/40\n",
            "15000/15000 [==============================] - 1s 65us/step - loss: 0.6874 - acc: 0.6300 - val_loss: 0.6799 - val_acc: 0.7166\n",
            "Epoch 2/40\n",
            "15000/15000 [==============================] - 1s 40us/step - loss: 0.6674 - acc: 0.7202 - val_loss: 0.6557 - val_acc: 0.7252\n",
            "Epoch 3/40\n",
            "15000/15000 [==============================] - 1s 41us/step - loss: 0.6346 - acc: 0.7489 - val_loss: 0.6198 - val_acc: 0.7462\n",
            "Epoch 4/40\n",
            "15000/15000 [==============================] - 1s 40us/step - loss: 0.5923 - acc: 0.7702 - val_loss: 0.5784 - val_acc: 0.7723\n",
            "Epoch 5/40\n",
            "15000/15000 [==============================] - 1s 40us/step - loss: 0.5460 - acc: 0.7977 - val_loss: 0.5362 - val_acc: 0.7973\n",
            "Epoch 6/40\n",
            "15000/15000 [==============================] - 1s 41us/step - loss: 0.5007 - acc: 0.8219 - val_loss: 0.4963 - val_acc: 0.8138\n",
            "Epoch 7/40\n",
            "15000/15000 [==============================] - 1s 41us/step - loss: 0.4593 - acc: 0.8431 - val_loss: 0.4618 - val_acc: 0.8316\n",
            "Epoch 8/40\n",
            "15000/15000 [==============================] - 1s 40us/step - loss: 0.4232 - acc: 0.8563 - val_loss: 0.4324 - val_acc: 0.8415\n",
            "Epoch 9/40\n",
            "15000/15000 [==============================] - 1s 40us/step - loss: 0.3923 - acc: 0.8689 - val_loss: 0.4086 - val_acc: 0.8496\n",
            "Epoch 10/40\n",
            "15000/15000 [==============================] - 1s 41us/step - loss: 0.3666 - acc: 0.8768 - val_loss: 0.3886 - val_acc: 0.8551\n",
            "Epoch 11/40\n",
            "15000/15000 [==============================] - 1s 40us/step - loss: 0.3440 - acc: 0.8849 - val_loss: 0.3727 - val_acc: 0.8589\n",
            "Epoch 12/40\n",
            "15000/15000 [==============================] - 1s 41us/step - loss: 0.3245 - acc: 0.8903 - val_loss: 0.3587 - val_acc: 0.8650\n",
            "Epoch 13/40\n",
            "15000/15000 [==============================] - 1s 41us/step - loss: 0.3075 - acc: 0.8958 - val_loss: 0.3477 - val_acc: 0.8685\n",
            "Epoch 14/40\n",
            "15000/15000 [==============================] - 1s 40us/step - loss: 0.2926 - acc: 0.9009 - val_loss: 0.3378 - val_acc: 0.8696\n",
            "Epoch 15/40\n",
            "15000/15000 [==============================] - 1s 41us/step - loss: 0.2786 - acc: 0.9065 - val_loss: 0.3291 - val_acc: 0.8734\n",
            "Epoch 16/40\n",
            "15000/15000 [==============================] - 1s 42us/step - loss: 0.2664 - acc: 0.9097 - val_loss: 0.3222 - val_acc: 0.8762\n",
            "Epoch 17/40\n",
            "15000/15000 [==============================] - 1s 41us/step - loss: 0.2551 - acc: 0.9141 - val_loss: 0.3166 - val_acc: 0.8769\n",
            "Epoch 18/40\n",
            "15000/15000 [==============================] - 1s 40us/step - loss: 0.2447 - acc: 0.9183 - val_loss: 0.3115 - val_acc: 0.8773\n",
            "Epoch 19/40\n",
            "15000/15000 [==============================] - 1s 41us/step - loss: 0.2352 - acc: 0.9219 - val_loss: 0.3063 - val_acc: 0.8796\n",
            "Epoch 20/40\n",
            "15000/15000 [==============================] - 1s 41us/step - loss: 0.2258 - acc: 0.9259 - val_loss: 0.3025 - val_acc: 0.8802\n",
            "Epoch 21/40\n",
            "15000/15000 [==============================] - 1s 40us/step - loss: 0.2170 - acc: 0.9290 - val_loss: 0.3002 - val_acc: 0.8803\n",
            "Epoch 22/40\n",
            "15000/15000 [==============================] - 1s 41us/step - loss: 0.2097 - acc: 0.9329 - val_loss: 0.2971 - val_acc: 0.8815\n",
            "Epoch 23/40\n",
            "15000/15000 [==============================] - 1s 41us/step - loss: 0.2015 - acc: 0.9355 - val_loss: 0.2942 - val_acc: 0.8831\n",
            "Epoch 24/40\n",
            "15000/15000 [==============================] - 1s 41us/step - loss: 0.1949 - acc: 0.9386 - val_loss: 0.2922 - val_acc: 0.8832\n",
            "Epoch 25/40\n",
            "15000/15000 [==============================] - 1s 41us/step - loss: 0.1882 - acc: 0.9417 - val_loss: 0.2909 - val_acc: 0.8826\n",
            "Epoch 26/40\n",
            "15000/15000 [==============================] - 1s 40us/step - loss: 0.1818 - acc: 0.9447 - val_loss: 0.2892 - val_acc: 0.8838\n",
            "Epoch 27/40\n",
            "15000/15000 [==============================] - 1s 41us/step - loss: 0.1757 - acc: 0.9475 - val_loss: 0.2883 - val_acc: 0.8841\n",
            "Epoch 28/40\n",
            "15000/15000 [==============================] - 1s 41us/step - loss: 0.1707 - acc: 0.9492 - val_loss: 0.2875 - val_acc: 0.8848\n",
            "Epoch 29/40\n",
            "15000/15000 [==============================] - 1s 40us/step - loss: 0.1649 - acc: 0.9524 - val_loss: 0.2872 - val_acc: 0.8853\n",
            "Epoch 30/40\n",
            "15000/15000 [==============================] - 1s 40us/step - loss: 0.1595 - acc: 0.9540 - val_loss: 0.2871 - val_acc: 0.8840\n",
            "Epoch 31/40\n",
            "15000/15000 [==============================] - 1s 41us/step - loss: 0.1547 - acc: 0.9553 - val_loss: 0.2891 - val_acc: 0.8817\n",
            "Epoch 32/40\n",
            "15000/15000 [==============================] - 1s 41us/step - loss: 0.1503 - acc: 0.9576 - val_loss: 0.2872 - val_acc: 0.8854\n",
            "Epoch 33/40\n",
            "15000/15000 [==============================] - 1s 41us/step - loss: 0.1458 - acc: 0.9590 - val_loss: 0.2877 - val_acc: 0.8848\n",
            "Epoch 34/40\n",
            "15000/15000 [==============================] - 1s 40us/step - loss: 0.1415 - acc: 0.9601 - val_loss: 0.2880 - val_acc: 0.8851\n",
            "Epoch 35/40\n",
            "15000/15000 [==============================] - 1s 41us/step - loss: 0.1370 - acc: 0.9631 - val_loss: 0.2888 - val_acc: 0.8865\n",
            "Epoch 36/40\n",
            "15000/15000 [==============================] - 1s 40us/step - loss: 0.1328 - acc: 0.9649 - val_loss: 0.2901 - val_acc: 0.8854\n",
            "Epoch 37/40\n",
            "15000/15000 [==============================] - 1s 41us/step - loss: 0.1291 - acc: 0.9657 - val_loss: 0.2907 - val_acc: 0.8854\n",
            "Epoch 38/40\n",
            "15000/15000 [==============================] - 1s 41us/step - loss: 0.1257 - acc: 0.9670 - val_loss: 0.2931 - val_acc: 0.8828\n",
            "Epoch 39/40\n",
            "15000/15000 [==============================] - 1s 41us/step - loss: 0.1218 - acc: 0.9686 - val_loss: 0.2926 - val_acc: 0.8835\n",
            "Epoch 40/40\n",
            "15000/15000 [==============================] - 1s 41us/step - loss: 0.1184 - acc: 0.9695 - val_loss: 0.2938 - val_acc: 0.8840\n",
            "25000/25000 [==============================] - 1s 39us/step\n",
            "[0.31058598096847534, 0.8742]\n"
          ],
          "name": "stdout"
        }
      ]
    },
    {
      "cell_type": "code",
      "metadata": {
        "colab_type": "code",
        "id": "I4zIPJDcTPq3",
        "colab": {
          "base_uri": "https://localhost:8080/",
          "height": 34
        },
        "outputId": "567df019-00e4-4590-c2bd-a4aa330e27df"
      },
      "source": [
        "results = model2.evaluate(X_test_enc, y_test)"
      ],
      "execution_count": 73,
      "outputs": [
        {
          "output_type": "stream",
          "text": [
            "25000/25000 [==============================] - 1s 39us/step\n"
          ],
          "name": "stdout"
        }
      ]
    },
    {
      "cell_type": "code",
      "metadata": {
        "colab_type": "code",
        "id": "waS96edDTRyL",
        "colab": {
          "base_uri": "https://localhost:8080/",
          "height": 34
        },
        "outputId": "9a7f14f4-3cb2-48c8-fb7d-16556038b50b"
      },
      "source": [
        "print (results)"
      ],
      "execution_count": 74,
      "outputs": [
        {
          "output_type": "stream",
          "text": [
            "[0.31058598096847534, 0.8742]\n"
          ],
          "name": "stdout"
        }
      ]
    },
    {
      "cell_type": "code",
      "metadata": {
        "colab_type": "code",
        "id": "XB7aveVzTC5a",
        "colab": {
          "base_uri": "https://localhost:8080/",
          "height": 295
        },
        "outputId": "227502c2-5e91-4379-dbac-82214e9cbe4d"
      },
      "source": [
        "import matplotlib.pyplot as plt\n",
        "\n",
        "history_dict = history2.history\n",
        "\n",
        "acc = history_dict['acc']\n",
        "val_acc = history_dict['val_acc']\n",
        "loss = history_dict['loss']\n",
        "val_loss = history_dict['val_loss']\n",
        "\n",
        "epochs = range(1, len(acc) + 1)\n",
        "\n",
        "plt.plot(epochs, acc, 'bo', label='Training acc')\n",
        "plt.plot(epochs, val_acc, 'b', label='Validation acc')\n",
        "plt.title('Training and validation accuracy')\n",
        "plt.xlabel('Epochs')\n",
        "plt.ylabel('Accuracy')\n",
        "plt.legend()\n",
        "\n",
        "plt.show()"
      ],
      "execution_count": 75,
      "outputs": [
        {
          "output_type": "display_data",
          "data": {
            "image/png": "[encoded data removed]",
            "text/plain": [
              "<Figure size 432x288 with 1 Axes>"
            ]
          },
          "metadata": {
            "tags": []
          }
        }
      ]
    },
    {
      "cell_type": "markdown",
      "metadata": {
        "colab_type": "text",
        "id": "7FBpTc_rXGvQ"
      },
      "source": [
        "The accuracy of model2 is 87%. Using Embedding layer instead of one-hot layer improved the performance."
      ]
    },
    {
      "cell_type": "markdown",
      "metadata": {
        "colab_type": "text",
        "id": "--020hfG6rN2"
      },
      "source": [
        "### Using pre-trained word embeddings"
      ]
    },
    {
      "cell_type": "markdown",
      "metadata": {
        "colab_type": "text",
        "id": "J4gBeOyi4gkM"
      },
      "source": [
        "The Embedding layer can be used to load a pre-trained word embedding model. We are going to use GloVe embeddings, which you can read about it here (https://nlp.stanford.edu/projects/glove/). GloVe stands for \"Global Vectors for Word Representation\". It's a somewhat popular embedding technique based on factorizing a matrix of word co-occurence statistics. You can download GloVe and we can seed the Keras Embedding layer with weights from the pre-trained embedding for the words in your dataset.\n",
        "First, we need to read GloVe and map words to GloVe:\n"
      ]
    },
    {
      "cell_type": "code",
      "metadata": {
        "colab_type": "code",
        "id": "f_PypdqG9Iis",
        "colab": {}
      },
      "source": [
        "from keras.initializers import Constant\n",
        "\n",
        "def readGloveFile(gloveFile):\n",
        "    with open(gloveFile, 'r') as f:\n",
        "        wordToGlove = {}  \n",
        "        wordToIndex = {}  \n",
        "        indexToWord = {}  \n",
        "\n",
        "        for line in f:\n",
        "            record = line.strip().split()\n",
        "            token = record[0] \n",
        "            wordToGlove[token] = np.array(record[1:], dtype=np.float64) \n",
        "            \n",
        "        tokens = sorted(wordToGlove.keys())\n",
        "        for idx, tok in enumerate(tokens):\n",
        "            kerasIdx = idx + 1  \n",
        "            wordToIndex[tok] = kerasIdx \n",
        "            indexToWord[kerasIdx] = tok \n",
        "\n",
        "    return wordToIndex, indexToWord, wordToGlove"
      ],
      "execution_count": 0,
      "outputs": []
    },
    {
      "cell_type": "markdown",
      "metadata": {
        "colab_type": "text",
        "id": "ZcIZ3dq59bCh"
      },
      "source": [
        "Now, we create our pre-trained Embedding layer:"
      ]
    },
    {
      "cell_type": "code",
      "metadata": {
        "colab_type": "code",
        "id": "gembn7VM3ex8",
        "colab": {}
      },
      "source": [
        "def createPretrainedEmbeddingLayer(wordToGlove, wordToIndex, isTrainable):\n",
        "    vocabLen = len(wordToIndex) + 1  \n",
        "    embDim = next(iter(wordToGlove.values())).shape[0]  \n",
        "   \n",
        "    embeddingMatrix = np.zeros((vocabLen, embDim))  \n",
        "    for word, index in wordToIndex.items():\n",
        "        embeddingMatrix[index, :] = wordToGlove[word] \n",
        "\n",
        "    embeddingLayer = Embedding(vocabLen, embDim, embeddings_initializer=Constant(embeddingMatrix), trainable=isTrainable)\n",
        "    return embeddingLayer"
      ],
      "execution_count": 0,
      "outputs": []
    },
    {
      "cell_type": "markdown",
      "metadata": {
        "colab_type": "text",
        "id": "HGxciLK4-xOr"
      },
      "source": [
        "We freeze the weights. To create the model:"
      ]
    },
    {
      "cell_type": "code",
      "metadata": {
        "colab_type": "code",
        "id": "PZCPUM0W_Drc",
        "colab": {
          "base_uri": "https://localhost:8080/",
          "height": 252
        },
        "outputId": "3ed86b4b-8d98-4429-ad4d-5d3beec83e5a"
      },
      "source": [
        "# put the code here\n",
        "\n",
        "wordToIndex, indexToWord, wordToGlove = readGloveFile('./glove.6B.50d.txt')\n",
        "model3 = Sequential()\n",
        "model3.add(createPretrainedEmbeddingLayer(wordToGlove, wordToIndex, False))\n",
        "model3.add(GlobalAveragePooling1DMasked())\n",
        "model3.add(Dense(1, activation='sigmoid'))\n",
        "\n",
        "model3.compile(optimizer='adam',\n",
        "              loss='binary_crossentropy',\n",
        "              metrics=['accuracy'])\n",
        "# model3 summary\n",
        "model3.summary()\n"
      ],
      "execution_count": 80,
      "outputs": [
        {
          "output_type": "stream",
          "text": [
            "Model: \"sequential_9\"\n",
            "_________________________________________________________________\n",
            "Layer (type)                 Output Shape              Param #   \n",
            "=================================================================\n",
            "embedding_3 (Embedding)      (None, None, 50)          20000050  \n",
            "_________________________________________________________________\n",
            "global_average_pooling1d_mas (None, 50)                0         \n",
            "_________________________________________________________________\n",
            "dense_7 (Dense)              (None, 1)                 51        \n",
            "=================================================================\n",
            "Total params: 20,000,101\n",
            "Trainable params: 51\n",
            "Non-trainable params: 20,000,050\n",
            "_________________________________________________________________\n"
          ],
          "name": "stdout"
        }
      ]
    },
    {
      "cell_type": "code",
      "metadata": {
        "id": "aWKAivATYT90",
        "colab_type": "code",
        "colab": {
          "base_uri": "https://localhost:8080/",
          "height": 1000
        },
        "outputId": "bf681f31-29dc-461e-e01d-ffcc20a2b7ff"
      },
      "source": [
        "X_val = np.array(X_train_enc[:10000])\n",
        "partial_X_train = np.array(X_train_enc[10000:])\n",
        "\n",
        "y_val = np.array(y_train[:10000])\n",
        "partial_y_train = np.array(y_train[10000:])\n",
        "\n",
        "history = model3.fit(partial_X_train,\n",
        "                    partial_y_train,\n",
        "                    epochs=40,\n",
        "                    batch_size=512,\n",
        "                    validation_data=(X_val, y_val),\n",
        "                    verbose=1)\n"
      ],
      "execution_count": 81,
      "outputs": [
        {
          "output_type": "stream",
          "text": [
            "Train on 15000 samples, validate on 10000 samples\n",
            "Epoch 1/40\n",
            "15000/15000 [==============================] - 1s 86us/step - loss: 0.6969 - acc: 0.5049 - val_loss: 0.6946 - val_acc: 0.4996\n",
            "Epoch 2/40\n",
            "15000/15000 [==============================] - 0s 11us/step - loss: 0.6938 - acc: 0.5003 - val_loss: 0.6935 - val_acc: 0.5047\n",
            "Epoch 3/40\n",
            "15000/15000 [==============================] - 0s 10us/step - loss: 0.6930 - acc: 0.5130 - val_loss: 0.6928 - val_acc: 0.5144\n",
            "Epoch 4/40\n",
            "15000/15000 [==============================] - 0s 11us/step - loss: 0.6922 - acc: 0.5223 - val_loss: 0.6921 - val_acc: 0.5241\n",
            "Epoch 5/40\n",
            "15000/15000 [==============================] - 0s 10us/step - loss: 0.6914 - acc: 0.5336 - val_loss: 0.6913 - val_acc: 0.5358\n",
            "Epoch 6/40\n",
            "15000/15000 [==============================] - 0s 10us/step - loss: 0.6906 - acc: 0.5427 - val_loss: 0.6906 - val_acc: 0.5428\n",
            "Epoch 7/40\n",
            "15000/15000 [==============================] - 0s 10us/step - loss: 0.6898 - acc: 0.5533 - val_loss: 0.6901 - val_acc: 0.5446\n",
            "Epoch 8/40\n",
            "15000/15000 [==============================] - 0s 11us/step - loss: 0.6892 - acc: 0.5563 - val_loss: 0.6895 - val_acc: 0.5467\n",
            "Epoch 9/40\n",
            "15000/15000 [==============================] - 0s 10us/step - loss: 0.6885 - acc: 0.5609 - val_loss: 0.6889 - val_acc: 0.5508\n",
            "Epoch 10/40\n",
            "15000/15000 [==============================] - 0s 10us/step - loss: 0.6879 - acc: 0.5630 - val_loss: 0.6883 - val_acc: 0.5565\n",
            "Epoch 11/40\n",
            "15000/15000 [==============================] - 0s 11us/step - loss: 0.6872 - acc: 0.5697 - val_loss: 0.6877 - val_acc: 0.5611\n",
            "Epoch 12/40\n",
            "15000/15000 [==============================] - 0s 10us/step - loss: 0.6866 - acc: 0.5736 - val_loss: 0.6872 - val_acc: 0.5631\n",
            "Epoch 13/40\n",
            "15000/15000 [==============================] - 0s 10us/step - loss: 0.6860 - acc: 0.5728 - val_loss: 0.6869 - val_acc: 0.5603\n",
            "Epoch 14/40\n",
            "15000/15000 [==============================] - 0s 10us/step - loss: 0.6855 - acc: 0.5749 - val_loss: 0.6863 - val_acc: 0.5646\n",
            "Epoch 15/40\n",
            "15000/15000 [==============================] - 0s 10us/step - loss: 0.6851 - acc: 0.5719 - val_loss: 0.6859 - val_acc: 0.5656\n",
            "Epoch 16/40\n",
            "15000/15000 [==============================] - 0s 10us/step - loss: 0.6845 - acc: 0.5754 - val_loss: 0.6854 - val_acc: 0.5685\n",
            "Epoch 17/40\n",
            "15000/15000 [==============================] - 0s 10us/step - loss: 0.6840 - acc: 0.5771 - val_loss: 0.6851 - val_acc: 0.5678\n",
            "Epoch 18/40\n",
            "15000/15000 [==============================] - 0s 11us/step - loss: 0.6836 - acc: 0.5751 - val_loss: 0.6846 - val_acc: 0.5715\n",
            "Epoch 19/40\n",
            "15000/15000 [==============================] - 0s 10us/step - loss: 0.6831 - acc: 0.5777 - val_loss: 0.6842 - val_acc: 0.5727\n",
            "Epoch 20/40\n",
            "15000/15000 [==============================] - 0s 10us/step - loss: 0.6827 - acc: 0.5793 - val_loss: 0.6840 - val_acc: 0.5707\n",
            "Epoch 21/40\n",
            "15000/15000 [==============================] - 0s 10us/step - loss: 0.6823 - acc: 0.5777 - val_loss: 0.6836 - val_acc: 0.5712\n",
            "Epoch 22/40\n",
            "15000/15000 [==============================] - 0s 12us/step - loss: 0.6819 - acc: 0.5783 - val_loss: 0.6832 - val_acc: 0.5737\n",
            "Epoch 23/40\n",
            "15000/15000 [==============================] - 0s 10us/step - loss: 0.6815 - acc: 0.5781 - val_loss: 0.6830 - val_acc: 0.5721\n",
            "Epoch 24/40\n",
            "15000/15000 [==============================] - 0s 10us/step - loss: 0.6811 - acc: 0.5793 - val_loss: 0.6826 - val_acc: 0.5741\n",
            "Epoch 25/40\n",
            "15000/15000 [==============================] - 0s 10us/step - loss: 0.6808 - acc: 0.5801 - val_loss: 0.6823 - val_acc: 0.5735\n",
            "Epoch 26/40\n",
            "15000/15000 [==============================] - 0s 10us/step - loss: 0.6804 - acc: 0.5803 - val_loss: 0.6820 - val_acc: 0.5746\n",
            "Epoch 27/40\n",
            "15000/15000 [==============================] - 0s 10us/step - loss: 0.6801 - acc: 0.5811 - val_loss: 0.6817 - val_acc: 0.5755\n",
            "Epoch 28/40\n",
            "15000/15000 [==============================] - 0s 11us/step - loss: 0.6797 - acc: 0.5809 - val_loss: 0.6814 - val_acc: 0.5764\n",
            "Epoch 29/40\n",
            "15000/15000 [==============================] - 0s 11us/step - loss: 0.6794 - acc: 0.5827 - val_loss: 0.6811 - val_acc: 0.5769\n",
            "Epoch 30/40\n",
            "15000/15000 [==============================] - 0s 10us/step - loss: 0.6792 - acc: 0.5814 - val_loss: 0.6808 - val_acc: 0.5787\n",
            "Epoch 31/40\n",
            "15000/15000 [==============================] - 0s 11us/step - loss: 0.6788 - acc: 0.5841 - val_loss: 0.6806 - val_acc: 0.5780\n",
            "Epoch 32/40\n",
            "15000/15000 [==============================] - 0s 10us/step - loss: 0.6784 - acc: 0.5835 - val_loss: 0.6804 - val_acc: 0.5777\n",
            "Epoch 33/40\n",
            "15000/15000 [==============================] - 0s 10us/step - loss: 0.6783 - acc: 0.5840 - val_loss: 0.6800 - val_acc: 0.5804\n",
            "Epoch 34/40\n",
            "15000/15000 [==============================] - 0s 10us/step - loss: 0.6778 - acc: 0.5835 - val_loss: 0.6799 - val_acc: 0.5769\n",
            "Epoch 35/40\n",
            "15000/15000 [==============================] - 0s 10us/step - loss: 0.6775 - acc: 0.5854 - val_loss: 0.6796 - val_acc: 0.5802\n",
            "Epoch 36/40\n",
            "15000/15000 [==============================] - 0s 10us/step - loss: 0.6773 - acc: 0.5857 - val_loss: 0.6793 - val_acc: 0.5804\n",
            "Epoch 37/40\n",
            "15000/15000 [==============================] - 0s 10us/step - loss: 0.6770 - acc: 0.5862 - val_loss: 0.6791 - val_acc: 0.5817\n",
            "Epoch 38/40\n",
            "15000/15000 [==============================] - 0s 10us/step - loss: 0.6767 - acc: 0.5874 - val_loss: 0.6788 - val_acc: 0.5817\n",
            "Epoch 39/40\n",
            "15000/15000 [==============================] - 0s 10us/step - loss: 0.6764 - acc: 0.5880 - val_loss: 0.6786 - val_acc: 0.5823\n",
            "Epoch 40/40\n",
            "15000/15000 [==============================] - 0s 10us/step - loss: 0.6762 - acc: 0.5879 - val_loss: 0.6784 - val_acc: 0.5832\n"
          ],
          "name": "stdout"
        }
      ]
    },
    {
      "cell_type": "code",
      "metadata": {
        "id": "lQRPtY0AZ9Kl",
        "colab_type": "code",
        "colab": {
          "base_uri": "https://localhost:8080/",
          "height": 295
        },
        "outputId": "ac45222f-b911-4dd6-bdbc-b433337006f4"
      },
      "source": [
        "import matplotlib.pyplot as plt\n",
        "\n",
        "history_dict = history.history\n",
        "\n",
        "acc = history_dict['acc']\n",
        "val_acc = history_dict['val_acc']\n",
        "loss = history_dict['loss']\n",
        "val_loss = history_dict['val_loss']\n",
        "\n",
        "epochs = range(1, len(acc) + 1)\n",
        "\n",
        "plt.plot(epochs, acc, 'bo', label='Training acc')\n",
        "plt.plot(epochs, val_acc, 'b', label='Validation acc')\n",
        "plt.title('Training and validation accuracy')\n",
        "plt.xlabel('Epochs')\n",
        "plt.ylabel('Accuracy')\n",
        "plt.legend()\n",
        "\n",
        "plt.show()"
      ],
      "execution_count": 83,
      "outputs": [
        {
          "output_type": "display_data",
          "data": {
            "image/png": "[encoded data removed]",
            "text/plain": [
              "<Figure size 432x288 with 1 Axes>"
            ]
          },
          "metadata": {
            "tags": []
          }
        }
      ]
    },
    {
      "cell_type": "markdown",
      "metadata": {
        "colab_type": "text",
        "id": "M-bZ5SCHiIMl"
      },
      "source": [
        "### Adding another hidden layer to the network"
      ]
    },
    {
      "cell_type": "markdown",
      "metadata": {
        "colab_type": "text",
        "id": "ZbZ6UBDfbjea"
      },
      "source": [
        "In model3, we only add another dense layer to see if that improves the performance."
      ]
    },
    {
      "cell_type": "code",
      "metadata": {
        "colab_type": "code",
        "id": "Vw0le1YjDdCa",
        "colab": {
          "base_uri": "https://localhost:8080/",
          "height": 286
        },
        "outputId": "4315b21f-5a92-4974-e9ce-d482220b17bb"
      },
      "source": [
        "# put your code here\n",
        "wordToIndex, indexToWord, wordToGlove = readGloveFile('./glove.6B.50d.txt')\n",
        "model3 = Sequential()\n",
        "model3.add(createPretrainedEmbeddingLayer(wordToGlove, wordToIndex, False))\n",
        "model3.add(GlobalAveragePooling1DMasked())\n",
        "model3.add(Dense(50, activation='relu'))\n",
        "model3.add(Dense(1, activation='sigmoid'))\n",
        "\n",
        "model3.compile(optimizer='adam',\n",
        "              loss='binary_crossentropy',\n",
        "              metrics=['accuracy'])\n",
        "# model3 summary\n",
        "model3.summary()"
      ],
      "execution_count": 87,
      "outputs": [
        {
          "output_type": "stream",
          "text": [
            "Model: \"sequential_12\"\n",
            "_________________________________________________________________\n",
            "Layer (type)                 Output Shape              Param #   \n",
            "=================================================================\n",
            "embedding_6 (Embedding)      (None, None, 50)          20000050  \n",
            "_________________________________________________________________\n",
            "global_average_pooling1d_mas (None, 50)                0         \n",
            "_________________________________________________________________\n",
            "dense_12 (Dense)             (None, 50)                2550      \n",
            "_________________________________________________________________\n",
            "dense_13 (Dense)             (None, 1)                 51        \n",
            "=================================================================\n",
            "Total params: 20,002,651\n",
            "Trainable params: 2,601\n",
            "Non-trainable params: 20,000,050\n",
            "_________________________________________________________________\n"
          ],
          "name": "stdout"
        }
      ]
    },
    {
      "cell_type": "code",
      "metadata": {
        "id": "SSWNXdHRaOuI",
        "colab_type": "code",
        "colab": {
          "base_uri": "https://localhost:8080/",
          "height": 1000
        },
        "outputId": "0549cf32-60b0-4af7-cc35-e963e3880576"
      },
      "source": [
        "X_val = np.array(X_train_enc[:10000])\n",
        "partial_X_train = np.array(X_train_enc[10000:])\n",
        "\n",
        "y_val = np.array(y_train[:10000])\n",
        "partial_y_train = np.array(y_train[10000:])\n",
        "\n",
        "history3 = model3.fit(partial_X_train,\n",
        "                    partial_y_train,\n",
        "                    epochs=40,\n",
        "                    batch_size=512,\n",
        "                    validation_data=(X_val, y_val),\n",
        "                    verbose=1)\n"
      ],
      "execution_count": 88,
      "outputs": [
        {
          "output_type": "stream",
          "text": [
            "Train on 15000 samples, validate on 10000 samples\n",
            "Epoch 1/40\n",
            "15000/15000 [==============================] - 1s 67us/step - loss: 0.6921 - acc: 0.5213 - val_loss: 0.6891 - val_acc: 0.5684\n",
            "Epoch 2/40\n",
            "15000/15000 [==============================] - 0s 11us/step - loss: 0.6867 - acc: 0.5699 - val_loss: 0.6857 - val_acc: 0.5704\n",
            "Epoch 3/40\n",
            "15000/15000 [==============================] - 0s 11us/step - loss: 0.6830 - acc: 0.5722 - val_loss: 0.6825 - val_acc: 0.5739\n",
            "Epoch 4/40\n",
            "15000/15000 [==============================] - 0s 11us/step - loss: 0.6799 - acc: 0.5769 - val_loss: 0.6799 - val_acc: 0.5769\n",
            "Epoch 5/40\n",
            "15000/15000 [==============================] - 0s 11us/step - loss: 0.6768 - acc: 0.5848 - val_loss: 0.6778 - val_acc: 0.5817\n",
            "Epoch 6/40\n",
            "15000/15000 [==============================] - 0s 11us/step - loss: 0.6742 - acc: 0.5881 - val_loss: 0.6759 - val_acc: 0.5851\n",
            "Epoch 7/40\n",
            "15000/15000 [==============================] - 0s 10us/step - loss: 0.6721 - acc: 0.5940 - val_loss: 0.6739 - val_acc: 0.5909\n",
            "Epoch 8/40\n",
            "15000/15000 [==============================] - 0s 12us/step - loss: 0.6699 - acc: 0.5959 - val_loss: 0.6731 - val_acc: 0.5827\n",
            "Epoch 9/40\n",
            "15000/15000 [==============================] - 0s 11us/step - loss: 0.6684 - acc: 0.5979 - val_loss: 0.6703 - val_acc: 0.5964\n",
            "Epoch 10/40\n",
            "15000/15000 [==============================] - 0s 11us/step - loss: 0.6661 - acc: 0.6013 - val_loss: 0.6694 - val_acc: 0.5935\n",
            "Epoch 11/40\n",
            "15000/15000 [==============================] - 0s 10us/step - loss: 0.6641 - acc: 0.6031 - val_loss: 0.6675 - val_acc: 0.5996\n",
            "Epoch 12/40\n",
            "15000/15000 [==============================] - 0s 10us/step - loss: 0.6632 - acc: 0.6023 - val_loss: 0.6664 - val_acc: 0.5995\n",
            "Epoch 13/40\n",
            "15000/15000 [==============================] - 0s 10us/step - loss: 0.6615 - acc: 0.6082 - val_loss: 0.6653 - val_acc: 0.6011\n",
            "Epoch 14/40\n",
            "15000/15000 [==============================] - 0s 11us/step - loss: 0.6602 - acc: 0.6102 - val_loss: 0.6640 - val_acc: 0.6015\n",
            "Epoch 15/40\n",
            "15000/15000 [==============================] - 0s 12us/step - loss: 0.6586 - acc: 0.6069 - val_loss: 0.6637 - val_acc: 0.6019\n",
            "Epoch 16/40\n",
            "15000/15000 [==============================] - 0s 11us/step - loss: 0.6579 - acc: 0.6130 - val_loss: 0.6624 - val_acc: 0.6018\n",
            "Epoch 17/40\n",
            "15000/15000 [==============================] - 0s 10us/step - loss: 0.6567 - acc: 0.6135 - val_loss: 0.6621 - val_acc: 0.6033\n",
            "Epoch 18/40\n",
            "15000/15000 [==============================] - 0s 11us/step - loss: 0.6554 - acc: 0.6181 - val_loss: 0.6624 - val_acc: 0.6007\n",
            "Epoch 19/40\n",
            "15000/15000 [==============================] - 0s 11us/step - loss: 0.6568 - acc: 0.6123 - val_loss: 0.6634 - val_acc: 0.6002\n",
            "Epoch 20/40\n",
            "15000/15000 [==============================] - 0s 10us/step - loss: 0.6545 - acc: 0.6180 - val_loss: 0.6615 - val_acc: 0.6010\n",
            "Epoch 21/40\n",
            "15000/15000 [==============================] - 0s 12us/step - loss: 0.6536 - acc: 0.6192 - val_loss: 0.6600 - val_acc: 0.6044\n",
            "Epoch 22/40\n",
            "15000/15000 [==============================] - 0s 11us/step - loss: 0.6534 - acc: 0.6198 - val_loss: 0.6621 - val_acc: 0.6003\n",
            "Epoch 23/40\n",
            "15000/15000 [==============================] - 0s 12us/step - loss: 0.6523 - acc: 0.6193 - val_loss: 0.6590 - val_acc: 0.6046\n",
            "Epoch 24/40\n",
            "15000/15000 [==============================] - 0s 11us/step - loss: 0.6513 - acc: 0.6233 - val_loss: 0.6607 - val_acc: 0.6014\n",
            "Epoch 25/40\n",
            "15000/15000 [==============================] - 0s 10us/step - loss: 0.6514 - acc: 0.6226 - val_loss: 0.6584 - val_acc: 0.6039\n",
            "Epoch 26/40\n",
            "15000/15000 [==============================] - 0s 11us/step - loss: 0.6504 - acc: 0.6235 - val_loss: 0.6582 - val_acc: 0.6043\n",
            "Epoch 27/40\n",
            "15000/15000 [==============================] - 0s 11us/step - loss: 0.6503 - acc: 0.6201 - val_loss: 0.6581 - val_acc: 0.6069\n",
            "Epoch 28/40\n",
            "15000/15000 [==============================] - 0s 11us/step - loss: 0.6499 - acc: 0.6239 - val_loss: 0.6581 - val_acc: 0.6067\n",
            "Epoch 29/40\n",
            "15000/15000 [==============================] - 0s 11us/step - loss: 0.6504 - acc: 0.6218 - val_loss: 0.6591 - val_acc: 0.6059\n",
            "Epoch 30/40\n",
            "15000/15000 [==============================] - 0s 10us/step - loss: 0.6494 - acc: 0.6235 - val_loss: 0.6584 - val_acc: 0.6058\n",
            "Epoch 31/40\n",
            "15000/15000 [==============================] - 0s 10us/step - loss: 0.6488 - acc: 0.6225 - val_loss: 0.6567 - val_acc: 0.6070\n",
            "Epoch 32/40\n",
            "15000/15000 [==============================] - 0s 10us/step - loss: 0.6482 - acc: 0.6251 - val_loss: 0.6565 - val_acc: 0.6095\n",
            "Epoch 33/40\n",
            "15000/15000 [==============================] - 0s 10us/step - loss: 0.6476 - acc: 0.6264 - val_loss: 0.6573 - val_acc: 0.6069\n",
            "Epoch 34/40\n",
            "15000/15000 [==============================] - 0s 11us/step - loss: 0.6479 - acc: 0.6273 - val_loss: 0.6562 - val_acc: 0.6076\n",
            "Epoch 35/40\n",
            "15000/15000 [==============================] - 0s 12us/step - loss: 0.6472 - acc: 0.6258 - val_loss: 0.6557 - val_acc: 0.6075\n",
            "Epoch 36/40\n",
            "15000/15000 [==============================] - 0s 11us/step - loss: 0.6469 - acc: 0.6275 - val_loss: 0.6560 - val_acc: 0.6085\n",
            "Epoch 37/40\n",
            "15000/15000 [==============================] - 0s 11us/step - loss: 0.6468 - acc: 0.6278 - val_loss: 0.6555 - val_acc: 0.6104\n",
            "Epoch 38/40\n",
            "15000/15000 [==============================] - 0s 11us/step - loss: 0.6465 - acc: 0.6267 - val_loss: 0.6559 - val_acc: 0.6108\n",
            "Epoch 39/40\n",
            "15000/15000 [==============================] - 0s 11us/step - loss: 0.6463 - acc: 0.6268 - val_loss: 0.6561 - val_acc: 0.6099\n",
            "Epoch 40/40\n",
            "15000/15000 [==============================] - 0s 11us/step - loss: 0.6454 - acc: 0.6300 - val_loss: 0.6547 - val_acc: 0.6109\n"
          ],
          "name": "stdout"
        }
      ]
    },
    {
      "cell_type": "code",
      "metadata": {
        "colab_type": "code",
        "id": "QtsdVeW7UgCu",
        "colab": {
          "base_uri": "https://localhost:8080/",
          "height": 295
        },
        "outputId": "3ba0a7c1-d89b-47bf-e5aa-8c56f264e38e"
      },
      "source": [
        "import matplotlib.pyplot as plt\n",
        "\n",
        "history_dict = history3.history\n",
        "\n",
        "acc = history_dict['acc']\n",
        "val_acc = history_dict['val_acc']\n",
        "loss = history_dict['loss']\n",
        "val_loss = history_dict['val_loss']\n",
        "\n",
        "epochs = range(1, len(acc) + 1)\n",
        "\n",
        "plt.plot(epochs, acc, 'bo', label='Training acc')\n",
        "plt.plot(epochs, val_acc, 'b', label='Validation acc')\n",
        "plt.title('Training and validation accuracy')\n",
        "plt.xlabel('Epochs')\n",
        "plt.ylabel('Accuracy')\n",
        "plt.legend()\n",
        "\n",
        "plt.show()"
      ],
      "execution_count": 89,
      "outputs": [
        {
          "output_type": "display_data",
          "data": {
            "image/png": "[encoded data removed]",
            "text/plain": [
              "<Figure size 432x288 with 1 Axes>"
            ]
          },
          "metadata": {
            "tags": []
          }
        }
      ]
    },
    {
      "cell_type": "markdown",
      "metadata": {
        "colab_type": "text",
        "id": "Kx--Ytk3ZbLo"
      },
      "source": [
        "The accuracy of model3 with an additional layer is 85%. Adding more layers can help you to extract more features. But we can do that upto a certain extent. After some point, instead of extracting features, we tend to overfit the data. Overfitting can lead to errors in some or the other form like false positives. It is not easy to choose the number of units in a hidden layer or the number of hidden layers in a neural network. For many applications, one hidden layer is enough. As a general rule, the number of units in that hidden layer is between the number of inputs and the number of outputs.\n",
        " The best way to decide on the number of units and hidden layers is to try various parameters. Train several neural networks with different numbers of hidden layers and neurons, and monitor the performance of them. You will have to experiment using a series of different architectures. \n",
        "\n",
        "\n",
        "\n"
      ]
    },
    {
      "cell_type": "markdown",
      "metadata": {
        "colab_type": "text",
        "id": "gn2GSV4ioyO2"
      },
      "source": [
        "\n",
        "\n",
        "---\n",
        "\n"
      ]
    },
    {
      "cell_type": "code",
      "metadata": {
        "colab_type": "code",
        "id": "XYC6DykEox2w",
        "colab": {}
      },
      "source": [
        ""
      ],
      "execution_count": 0,
      "outputs": []
    },
    {
      "cell_type": "markdown",
      "metadata": {
        "colab_type": "text",
        "id": "GsCJ01StlgCx"
      },
      "source": [
        "This tutorial is substantially based on this document:\n",
        "https://www.tensorflow.org/tutorials/keras/basic_text_classification\n",
        "\n",
        "To read more about Sequential APIs you can go to: https://keras.io/getting-started/sequential-model-guide/\n",
        "\n",
        "The one-hot word vector layer is taken from:\n",
        "https://fdalvi.github.io/blog/2018-04-07-keras-sequential-onehot/\n"
      ]
    },
    {
      "cell_type": "code",
      "metadata": {
        "colab_type": "code",
        "id": "jL0UovfaE9GE",
        "colab": {}
      },
      "source": [
        ""
      ],
      "execution_count": 0,
      "outputs": []
    }
  ]
}