{
  "nbformat": 4,
  "nbformat_minor": 0,
  "metadata": {
    "colab": {
      "name": "Untitled2.ipynb",
      "provenance": [],
      "collapsed_sections": []
    },
    "kernelspec": {
      "name": "python3",
      "display_name": "Python 3"
    }
  },
  "cells": [
    {
      "cell_type": "code",
      "metadata": {
        "id": "CDIIysB--Kec",
        "colab_type": "code",
        "outputId": "e51a85bd-c82c-40e2-81e1-8ca8d6187902",
        "colab": {
          "base_uri": "https://localhost:8080/",
          "height": 84
        }
      },
      "source": [
        "import nltk\n",
        "nltk.download('punkt')\n",
        "nltk.download('gutenberg')\n",
        "from nltk.corpus import gutenberg\n",
        "austen = gutenberg.sents('austen-sense.txt') + gutenberg.sents('austen-emma.txt') + gutenberg.sents('austen-persuasion.txt')"
      ],
      "execution_count": 1,
      "outputs": [
        {
          "output_type": "stream",
          "text": [
            "[nltk_data] Downloading package punkt to /root/nltk_data...\n",
            "[nltk_data]   Unzipping tokenizers/punkt.zip.\n",
            "[nltk_data] Downloading package gutenberg to /root/nltk_data...\n",
            "[nltk_data]   Unzipping corpora/gutenberg.zip.\n"
          ],
          "name": "stdout"
        }
      ]
    },
    {
      "cell_type": "markdown",
      "metadata": {
        "id": "TOdjw5zg-gkM",
        "colab_type": "text"
      },
      "source": [
        "Sanity check:\n",
        "This training corpus contains 16498 sentences. Use the line that follows to ensure that your code\n",
        "has the same number of lines.\n"
      ]
    },
    {
      "cell_type": "code",
      "metadata": {
        "id": "k4nmmE32-k31",
        "colab_type": "code",
        "outputId": "1ad24ea8-2feb-4486-f3df-fa492ec6d077",
        "colab": {
          "base_uri": "https://localhost:8080/",
          "height": 34
        }
      },
      "source": [
        "print(len(austen))"
      ],
      "execution_count": 2,
      "outputs": [
        {
          "output_type": "stream",
          "text": [
            "16498\n"
          ],
          "name": "stdout"
        }
      ]
    },
    {
      "cell_type": "markdown",
      "metadata": {
        "id": "G5Mj2Kft-vla",
        "colab_type": "text"
      },
      "source": [
        "2. Preprocessing the Training Corpus"
      ]
    },
    {
      "cell_type": "code",
      "metadata": {
        "id": "-3onbM3t-utR",
        "colab_type": "code",
        "outputId": "6c4145af-64a9-4f09-a2d3-6f7b8e067f68",
        "colab": {
          "base_uri": "https://localhost:8080/",
          "height": 54
        }
      },
      "source": [
        "print(austen)"
      ],
      "execution_count": 3,
      "outputs": [
        {
          "output_type": "stream",
          "text": [
            "[['[', 'Sense', 'and', 'Sensibility', 'by', 'Jane', 'Austen', '1811', ']'], ['CHAPTER', '1'], ...]\n"
          ],
          "name": "stdout"
        }
      ]
    },
    {
      "cell_type": "code",
      "metadata": {
        "id": "UFHrxW_zAJQ3",
        "colab_type": "code",
        "outputId": "0e56e097-0df3-4a4e-aa0d-670d6de123ab",
        "colab": {
          "base_uri": "https://localhost:8080/",
          "height": 34
        }
      },
      "source": [
        "austen[0]"
      ],
      "execution_count": 4,
      "outputs": [
        {
          "output_type": "execute_result",
          "data": {
            "text/plain": [
              "['[', 'Sense', 'and', 'Sensibility', 'by', 'Jane', 'Austen', '1811', ']']"
            ]
          },
          "metadata": {
            "tags": []
          },
          "execution_count": 4
        }
      ]
    },
    {
      "cell_type": "markdown",
      "metadata": {
        "id": "qHk6P0j-Z7SY",
        "colab_type": "text"
      },
      "source": [
        "TASK: Write code to remove special characters, empty strings, digits and\n",
        "stopwords from the sentences and put all the words into lower cases."
      ]
    },
    {
      "cell_type": "code",
      "metadata": {
        "id": "8F_nKmnWCpp_",
        "colab_type": "code",
        "outputId": "d4cabb77-3271-4681-e37b-d0cdf155d060",
        "colab": {
          "base_uri": "https://localhost:8080/",
          "height": 50
        }
      },
      "source": [
        "import string\n",
        "import re\n",
        "from nltk.corpus import stopwords\n",
        "nltk.download('stopwords')\n",
        "\n",
        "def corpus(austen):\n",
        "  # empty list\n",
        "  austen2 = []\n",
        "  for a in austen:\n",
        "    # Remove special char, empty string, digits and stopwords\n",
        "    # all words in lowercase\n",
        "    \n",
        "    #join and Lowercase\n",
        "    a = ' '.join(a).lower()\n",
        "\n",
        "    #Special char  \n",
        "    exclude = set(string.punctuation)\n",
        "    a = ''.join(i for i in a if i not in exclude)\n",
        "    # Digits\n",
        "    a = re.sub(r'\\d+', '', a)\n",
        "    # Stopwords\n",
        "    stop_words = set(stopwords.words('english'))\n",
        "    from nltk.tokenize import word_tokenize\n",
        "    tokens = word_tokenize(a)\n",
        "    a = [i for i in tokens if (not i in stop_words) and (not i == '')]\n",
        "\n",
        "    if a != []:\n",
        "      austen2.append(' '.join(a))\n",
        "      #print(a)\n",
        "\n",
        "  #print(len(austen2))\n",
        "  return austen2\n",
        "\n"
      ],
      "execution_count": 5,
      "outputs": [
        {
          "output_type": "stream",
          "text": [
            "[nltk_data] Downloading package stopwords to /root/nltk_data...\n",
            "[nltk_data]   Unzipping corpora/stopwords.zip.\n"
          ],
          "name": "stdout"
        }
      ]
    },
    {
      "cell_type": "code",
      "metadata": {
        "id": "w_JBQh58Epl6",
        "colab_type": "code",
        "outputId": "1008fc60-55a1-4177-f12d-3bb5e9d1a06d",
        "colab": {
          "base_uri": "https://localhost:8080/",
          "height": 1000
        }
      },
      "source": [
        "corpus(austen)"
      ],
      "execution_count": 6,
      "outputs": [
        {
          "output_type": "execute_result",
          "data": {
            "text/plain": [
              "['sense sensibility jane austen',\n",
              " 'chapter',\n",
              " 'family dashwood long settled sussex',\n",
              " 'estate large residence norland park centre property many generations lived respectable manner engage general good opinion surrounding acquaintance',\n",
              " 'late owner estate single man lived advanced age many years life constant companion housekeeper sister',\n",
              " 'death happened ten years produced great alteration home supply loss invited received house family nephew mr henry dashwood legal inheritor norland estate person intended bequeath',\n",
              " 'society nephew niece children old gentleman days comfortably spent',\n",
              " 'attachment increased',\n",
              " 'constant attention mr mrs henry dashwood wishes proceeded merely interest goodness heart gave every degree solid comfort age could receive cheerfulness children added relish existence',\n",
              " 'former marriage mr henry dashwood one son present lady three daughters',\n",
              " 'son steady respectable young man amply provided fortune mother large half devolved coming age',\n",
              " 'marriage likewise happened soon afterwards added wealth',\n",
              " 'therefore succession norland estate really important sisters fortune independent might arise father inheriting property could small',\n",
              " 'mother nothing father seven thousand pounds disposal remaining moiety first wife fortune also secured child life interest',\n",
              " 'old gentleman died read like almost every gave much disappointment pleasure',\n",
              " 'neither unjust ungrateful leave estate nephew left terms destroyed half value bequest',\n",
              " 'mr dashwood wished sake wife daughters son son son son child four years old secured way leave power providing dear needed provision charge estate sale valuable woods',\n",
              " 'whole tied benefit child occasional visits father mother norland far gained affections uncle attractions means unusual children two three years old imperfect articulation earnest desire way many cunning tricks great deal noise outweigh value attention years received niece daughters',\n",
              " 'meant unkind however mark affection three girls left thousand pounds piece',\n",
              " 'mr dashwood disappointment first severe temper cheerful sanguine might reasonably hope live many years living economically lay considerable sum produce estate already large capable almost immediate improvement',\n",
              " 'fortune tardy coming one twelvemonth',\n",
              " 'survived uncle longer ten thousand pounds including late legacies remained widow daughters',\n",
              " 'son sent soon danger known mr dashwood recommended strength urgency illness could command interest mother law sisters',\n",
              " 'mr john dashwood strong feelings rest family affected recommendation nature time promised every thing power make comfortable',\n",
              " 'father rendered easy assurance mr john dashwood leisure consider much might prudently power',\n",
              " 'ill disposed young man unless rather cold hearted rather selfish ill disposed general well respected conducted propriety discharge ordinary duties',\n",
              " 'married amiable woman might made still respectable might even made amiable young married fond wife',\n",
              " 'mrs john dashwood strong caricature narrow minded selfish',\n",
              " 'gave promise father meditated within increase fortunes sisters present thousand pounds piece',\n",
              " 'really thought equal',\n",
              " 'prospect four thousand year addition present income besides remaining half mother fortune warmed heart made feel capable generosity yes would give three thousand pounds would liberal handsome',\n",
              " 'would enough make completely easy',\n",
              " 'three thousand pounds',\n",
              " 'could spare considerable sum little inconvenience',\n",
              " 'thought day long many days successively repent',\n",
              " 'sooner father funeral mrs john dashwood without sending notice intention mother law arrived child attendants',\n",
              " 'one could dispute right come house husband moment father decease indelicacy conduct much greater woman mrs dashwood situation common feelings must highly unpleasing mind sense honor keen generosity romantic offence kind whomsoever given received source immoveable disgust',\n",
              " 'mrs john dashwood never favourite husband family opportunity till present shewing little attention comfort people could act occasion required',\n",
              " 'acutely mrs dashwood feel ungracious behaviour earnestly despise daughter law arrival latter would quitted house ever entreaty eldest girl induced first reflect propriety going tender love three children determined afterwards stay sakes avoid breach brother',\n",
              " 'elinor eldest daughter whose advice effectual possessed strength understanding coolness judgment qualified though nineteen counsellor mother enabled frequently counteract advantage eagerness mind mrs dashwood must generally led imprudence',\n",
              " 'excellent heart disposition affectionate feelings strong knew govern knowledge mother yet learn one sisters resolved never taught',\n",
              " 'marianne abilities many respects quite equal elinor',\n",
              " 'sensible clever eager everything sorrows joys could moderation',\n",
              " 'generous amiable interesting everything prudent',\n",
              " 'resemblance mother strikingly great',\n",
              " 'elinor saw concern excess sister sensibility mrs dashwood valued cherished',\n",
              " 'encouraged violence affliction',\n",
              " 'agony grief overpowered first voluntarily renewed sought created',\n",
              " 'gave wholly sorrow seeking increase wretchedness every reflection could afford resolved ever admitting consolation future',\n",
              " 'elinor deeply afflicted still could struggle could exert',\n",
              " 'could consult brother could receive sister law arrival treat proper attention could strive rouse mother similar exertion encourage similar forbearance',\n",
              " 'margaret sister good humored well disposed girl already imbibed good deal marianne romance without much sense thirteen bid fair equal sisters advanced period life',\n",
              " 'chapter',\n",
              " 'mrs john dashwood installed mistress norland mother sisters law degraded condition visitors',\n",
              " 'however treated quiet civility husband much kindness could feel towards anybody beyond wife child',\n",
              " 'really pressed earnestness consider norland home plan appeared eligible mrs dashwood remaining till could accommodate house neighbourhood invitation accepted',\n",
              " 'continuance place everything reminded former delight exactly suited mind',\n",
              " 'seasons cheerfulness temper could cheerful possess greater degree sanguine expectation happiness happiness',\n",
              " 'sorrow must equally carried away fancy far beyond consolation pleasure beyond alloy',\n",
              " 'mrs john dashwood approve husband intended sisters',\n",
              " 'take three thousand pounds fortune dear little boy would impoverishing dreadful degree',\n",
              " 'begged think subject',\n",
              " 'could answer rob child child large sum',\n",
              " 'possible claim could miss dashwoods related half blood considered relationship generosity large amount',\n",
              " 'well known affection ever supposed exist children man different marriages ruin poor little harry giving away money half sisters',\n",
              " 'father last request replied husband assist widow daughters',\n",
              " 'know talking dare say ten one light headed time',\n",
              " 'right senses could thought thing begging give away half fortune child',\n",
              " 'stipulate particular sum dear fanny requested general terms assist make situation comfortable power',\n",
              " 'perhaps would well left wholly',\n",
              " 'could hardly suppose neglect',\n",
              " 'required promise could less give least thought time',\n",
              " 'promise therefore given must performed',\n",
              " 'something must done whenever leave norland settle new home',\n",
              " 'well let something done something need three thousand pounds',\n",
              " 'consider added money parted never return',\n",
              " 'sisters marry gone ever',\n",
              " 'indeed could restored poor little boy',\n",
              " 'sure said husband gravely would make great difference',\n",
              " 'time may come harry regret large sum parted',\n",
              " 'numerous family instance would convenient addition',\n",
              " 'sure would',\n",
              " 'perhaps would better parties sum diminished one half five hundred pounds would prodigious increase fortunes',\n",
              " 'oh',\n",
              " 'beyond anything great',\n",
              " 'brother earth would half much sisters even really sisters',\n",
              " 'half blood generous spirit',\n",
              " 'would wish thing mean replied',\n",
              " 'one rather occasions much little',\n",
              " 'one least think done enough even hardly expect',\n",
              " 'knowing may expect said lady think expectations question afford',\n",
              " 'certainly think may afford give five hundred pounds piece',\n",
              " 'without addition mine three thousand pounds mother death comfortable fortune young woman',\n",
              " 'sure indeed strikes want addition',\n",
              " 'ten thousand pounds divided amongst',\n",
              " 'marry sure well may live comfortably together interest ten thousand pounds',\n",
              " 'true therefore know whether upon whole would advisable something mother lives rather something annuity kind mean sisters would feel good effects well',\n",
              " 'hundred year would make perfectly comfortable',\n",
              " 'wife hesitated little however giving consent plan',\n",
              " 'sure said better parting fifteen hundred pounds',\n",
              " 'mrs dashwood live fifteen years shall completely taken',\n",
              " 'fifteen years',\n",
              " 'dear fanny life worth half purchase',\n",
              " 'certainly observe people always live ever annuity paid stout healthy hardly forty',\n",
              " 'annuity serious business comes every year getting rid',\n",
              " 'aware',\n",
              " 'known great deal trouble annuities mother clogged payment three old superannuated servants father amazing disagreeable found',\n",
              " 'twice every year annuities paid trouble getting one said died afterwards turned thing',\n",
              " 'mother quite sick',\n",
              " 'income said perpetual claims unkind father otherwise money would entirely mother disposal without restriction whatever',\n",
              " 'given abhorrence annuities sure would pin payment one world',\n",
              " 'certainly unpleasant thing replied mr dashwood kind yearly drains one income',\n",
              " 'one fortune mother justly says one',\n",
              " 'tied regular payment sum every rent day means desirable takes away one independence',\n",
              " 'undoubtedly thanks',\n",
              " 'think secure expected raises gratitude',\n",
              " 'whatever done discretion entirely',\n",
              " 'would bind allow thing yearly',\n",
              " 'may inconvenient years spare hundred even fifty pounds expenses',\n",
              " 'believe right love better annuity case whatever may give occasionally far greater assistance yearly allowance would enlarge style living felt sure larger income would sixpence richer end year',\n",
              " 'certainly much best way',\n",
              " 'present fifty pounds prevent ever distressed money think amply discharging promise father',\n",
              " 'sure',\n",
              " 'indeed say truth convinced within father idea giving money',\n",
              " 'assistance thought dare say might reasonably expected instance looking comfortable small house helping move things sending presents fish game forth whenever season',\n",
              " 'lay life meant nothing farther indeed would strange unreasonable',\n",
              " 'consider dear mr dashwood excessively comfortable mother law daughters may live interest seven thousand pounds besides thousand pounds belonging girls brings fifty pounds year piece course pay mother board',\n",
              " 'altogether five hundred year amongst earth four women want live cheap',\n",
              " 'housekeeping nothing',\n",
              " 'carriage horses hardly servants keep company expenses kind',\n",
              " 'conceive comfortable',\n",
              " 'five hundred year',\n",
              " 'sure imagine spend half giving quite absurd think',\n",
              " 'much able give something',\n",
              " 'upon word said mr dashwood believe perfectly right',\n",
              " 'father certainly could mean nothing request say',\n",
              " 'clearly understand strictly fulfil engagement acts assistance kindness described',\n",
              " 'mother removes another house services shall readily given accommodate far',\n",
              " 'little present furniture may acceptable',\n",
              " 'certainly returned mrs john dashwood',\n",
              " 'however one thing must considered',\n",
              " 'father mother moved norland though furniture stanhill sold china plate linen saved left mother',\n",
              " 'house therefore almost completely fitted soon takes',\n",
              " 'material consideration undoubtedly',\n",
              " 'valuable legacy indeed',\n",
              " 'yet plate would pleasant addition stock',\n",
              " 'yes set breakfast china twice handsome belongs house',\n",
              " 'great deal handsome opinion place ever afford live',\n",
              " 'however',\n",
              " 'father thought',\n",
              " 'must say owe particular gratitude attention wishes well know could would left almost everything world',\n",
              " 'argument irresistible',\n",
              " 'gave intentions whatever decision wanting finally resolved would absolutely unnecessary highly indecorous widow children father kind neighbourly acts wife pointed',\n",
              " 'chapter',\n",
              " 'mrs dashwood remained norland several months disinclination move sight every well known spot ceased raise violent emotion produced spirits began revive mind became capable exertion heightening affliction melancholy remembrances impatient gone indefatigable inquiries suitable dwelling neighbourhood norland remove far beloved spot impossible',\n",
              " 'could hear situation answered notions comfort ease suited prudence eldest daughter whose steadier judgment rejected several houses large income mother would approved',\n",
              " 'mrs dashwood informed husband solemn promise part son favour gave comfort last earthly reflections',\n",
              " 'doubted sincerity assurance doubted thought daughters sake satisfaction though persuaded much smaller provision l would support affluence',\n",
              " 'brother sake sake heart rejoiced reproached unjust merit believing incapable generosity',\n",
              " 'attentive behaviour sisters convinced welfare dear long time firmly relied liberality intentions',\n",
              " 'contempt early acquaintance felt daughter law much increased farther knowledge character half year residence family afforded perhaps spite every consideration politeness maternal affection side former two ladies might found impossible lived together long particular circumstance occurred give still greater eligibility according opinions mrs dashwood daughters continuance norland',\n",
              " 'circumstance growing attachment eldest girl brother mrs john dashwood gentleman like pleasing young man introduced acquaintance soon sister establishment norland since spent greatest part time',\n",
              " 'mothers might encouraged intimacy motives interest edward ferrars eldest son man died rich might repressed motives prudence except trifling sum whole fortune depended mother',\n",
              " 'mrs dashwood alike uninfluenced either consideration',\n",
              " 'enough appeared amiable loved daughter elinor returned partiality',\n",
              " 'contrary every doctrine difference fortune keep couple asunder attracted resemblance disposition elinor merit acknowledged every one knew comprehension impossible',\n",
              " 'edward ferrars recommended good opinion peculiar graces person address',\n",
              " 'handsome manners required intimacy make pleasing',\n",
              " 'diffident justice natural shyness overcome behaviour gave every indication open affectionate heart',\n",
              " 'understanding good education given solid improvement',\n",
              " 'neither fitted abilities disposition answer wishes mother sister longed see distinguished hardly knew',\n",
              " 'wanted make fine figure world manner',\n",
              " 'mother wished interest political concerns get parliament see connected great men day',\n",
              " 'mrs john dashwood wished likewise mean till one superior blessings could attained would quieted ambition see driving barouche',\n",
              " 'edward turn great men barouches',\n",
              " 'wishes centered domestic comfort quiet private life',\n",
              " 'fortunately younger brother promising',\n",
              " 'edward staying several weeks house engaged much mrs dashwood attention time affliction rendered careless surrounding objects',\n",
              " 'saw quiet unobtrusive liked',\n",
              " 'disturb wretchedness mind ill timed conversation',\n",
              " 'first called observe approve farther reflection elinor chanced one day make difference sister',\n",
              " 'contrast recommended forcibly mother',\n",
              " 'enough said say unlike fanny enough',\n",
              " 'implies everything amiable',\n",
              " 'love already',\n",
              " 'think like said elinor know',\n",
              " 'like',\n",
              " 'replied mother smile',\n",
              " 'feel sentiment approbation inferior love',\n",
              " 'may esteem',\n",
              " 'never yet known separate esteem love',\n",
              " 'mrs dashwood took pains get acquainted',\n",
              " 'manners attaching soon banished reserve',\n",
              " 'speedily comprehended merits persuasion regard elinor perhaps assisted penetration really felt assured worth even quietness manner militated established ideas young man address ought longer uninteresting knew heart warm temper affectionate',\n",
              " 'sooner perceive symptom love behaviour elinor considered serious attachment certain looked forward marriage rapidly approaching',\n",
              " 'months dear marianne',\n",
              " 'said elinor probability settled life',\n",
              " 'shall miss happy',\n",
              " 'oh',\n",
              " 'mamma shall without',\n",
              " 'love scarcely separation',\n",
              " 'shall live within miles shall meet every day lives',\n",
              " 'gain brother real affectionate brother',\n",
              " 'highest opinion world edward heart',\n",
              " 'look grave marianne disapprove sister choice',\n",
              " 'perhaps said marianne may consider surprise',\n",
              " 'edward amiable love tenderly',\n",
              " 'yet kind young man something wanting figure striking none grace expect man could seriously attach sister',\n",
              " 'eyes want spirit fire announce virtue intelligence',\n",
              " 'besides afraid mamma real taste',\n",
              " 'music seems scarcely attract though admires elinor drawings much admiration person understand worth',\n",
              " 'evident spite frequent attention draws fact knows nothing matter',\n",
              " 'admires lover connoisseur',\n",
              " 'satisfy characters must united',\n",
              " 'could happy man whose taste every point coincide',\n",
              " 'must enter feelings books music must charm us',\n",
              " 'oh',\n",
              " 'mama spiritless tame edward manner reading us last night',\n",
              " 'felt sister severely',\n",
              " 'yet bore much composure seemed scarcely notice',\n",
              " 'could hardly keep seat',\n",
              " 'hear beautiful lines frequently almost driven wild pronounced impenetrable calmness dreadful indifference',\n",
              " 'would certainly done justice simple elegant prose',\n",
              " 'thought time would give cowper',\n",
              " 'nay mamma animated cowper must allow difference taste',\n",
              " 'elinor feelings therefore may overlook happy',\n",
              " 'would broke heart loved hear read little sensibility',\n",
              " 'mama know world convinced shall never see man really love',\n",
              " 'require much',\n",
              " 'must edward virtues person manners must ornament goodness every possible charm',\n",
              " 'remember love seventeen',\n",
              " 'yet early life despair happiness',\n",
              " 'less fortunate mother',\n",
              " 'one circumstance marianne may destiny different',\n",
              " 'chapter',\n",
              " 'pity elinor said marianne edward taste drawing',\n",
              " 'taste drawing',\n",
              " 'replied elinor think',\n",
              " 'draw indeed great pleasure seeing performances people assure means deficient natural taste though opportunities improving',\n",
              " 'ever way learning think would drawn well',\n",
              " 'distrusts judgment matters much always unwilling give opinion picture innate propriety simplicity taste general direct perfectly right',\n",
              " 'marianne afraid offending said subject kind approbation elinor described excited drawings people far rapturous delight opinion could alone called taste',\n",
              " 'yet though smiling within mistake honoured sister blind partiality edward produced',\n",
              " 'hope marianne continued elinor consider deficient general taste',\n",
              " 'indeed think may say behaviour perfectly cordial opinion sure could never civil',\n",
              " 'marianne hardly knew say',\n",
              " 'would wound feelings sister account yet say believe impossible',\n",
              " 'length replied',\n",
              " 'offended elinor praise every thing equal sense merits',\n",
              " 'many opportunities estimating minuter propensities mind inclinations tastes highest opinion world goodness sense',\n",
              " 'think every thing worthy amiable',\n",
              " 'sure replied elinor smile dearest friends could dissatisfied commendation',\n",
              " 'perceive could express warmly',\n",
              " 'marianne rejoiced find sister easily pleased',\n",
              " 'sense goodness continued elinor one think doubt seen often enough engage unreserved conversation',\n",
              " 'excellence understanding principles concealed shyness often keeps silent',\n",
              " 'know enough justice solid worth',\n",
              " 'minuter propensities call peculiar circumstances kept ignorant',\n",
              " 'times thrown good deal together wholly engrossed affectionate principle mother',\n",
              " 'seen great deal studied sentiments heard opinion subjects literature taste upon whole venture pronounce mind well informed enjoyment books exceedingly great imagination lively observation correct taste delicate pure',\n",
              " 'abilities every respect improve much upon acquaintance manners person',\n",
              " 'first sight address certainly striking person hardly called handsome till expression eyes uncommonly good general sweetness countenance perceived',\n",
              " 'present know well think really handsome least almost',\n",
              " 'say marianne',\n",
              " 'shall soon think handsome elinor',\n",
              " 'tell love brother shall see imperfection face heart',\n",
              " 'elinor started declaration sorry warmth betrayed speaking',\n",
              " 'felt edward stood high opinion',\n",
              " 'believed regard mutual required greater certainty make marianne conviction attachment agreeable',\n",
              " 'knew marianne mother conjectured one moment believed next wish hope hope expect',\n",
              " 'tried explain real state case sister',\n",
              " 'attempt deny said think highly greatly esteem like',\n",
              " 'marianne burst forth indignation',\n",
              " 'esteem',\n",
              " 'like',\n",
              " 'cold hearted elinor',\n",
              " 'oh',\n",
              " 'worse cold hearted',\n",
              " 'ashamed otherwise',\n",
              " 'use words leave room moment',\n",
              " 'elinor could help laughing',\n",
              " 'excuse said assured meant offence speaking quiet way feelings',\n",
              " 'believe stronger declared believe short merit suspicion hope affection may warrant without imprudence folly',\n",
              " 'farther must believe',\n",
              " 'means assured regard',\n",
              " 'moments extent seems doubtful till sentiments fully known wonder wishing avoid encouragement partiality believing calling',\n",
              " 'heart feel little scarcely doubt preference',\n",
              " 'points considered besides inclination',\n",
              " 'far independent',\n",
              " 'mother really know fanny occasional mention conduct opinions never disposed think amiable much mistaken edward aware would many difficulties way wish marry woman either great fortune high rank',\n",
              " 'marianne astonished find much imagination mother outstripped truth',\n",
              " 'really engaged',\n",
              " 'said',\n",
              " 'yet certainly soon happen',\n",
              " 'two advantages proceed delay',\n",
              " 'shall lose soon edward greater opportunity improving natural taste favourite pursuit must indispensably necessary future felicity',\n",
              " 'oh',\n",
              " 'far stimulated genius learn draw delightful would',\n",
              " 'elinor given real opinion sister',\n",
              " 'could consider partiality edward prosperous state marianne believed',\n",
              " 'times want spirits denote indifference spoke something almost unpromising',\n",
              " 'doubt regard supposing feel need give inquietude',\n",
              " 'would likely produce dejection mind frequently attended',\n",
              " 'reasonable cause might found dependent situation forbade indulgence affection',\n",
              " 'knew mother neither behaved make home comfortable present give assurance might form home without strictly attending views aggrandizement',\n",
              " 'knowledge impossible elinor feel easy subject',\n",
              " 'far depending result preference mother sister still considered certain',\n",
              " 'nay longer together doubtful seemed nature regard sometimes painful minutes believed friendship',\n",
              " 'whatever might really limits enough perceived sister make uneasy time still common make uncivil',\n",
              " 'took first opportunity affronting mother law occasion talking expressively brother great expectations mrs ferrars resolution sons marry well danger attending young woman attempted draw mrs dashwood could neither pretend unconscious endeavor calm',\n",
              " 'gave answer marked contempt instantly left room resolving whatever might inconvenience expense sudden removal beloved elinor exposed another week insinuations',\n",
              " 'state spirits letter delivered post contained proposal particularly well timed',\n",
              " 'offer small house easy terms belonging relation gentleman consequence property devonshire',\n",
              " 'letter gentleman written true spirit friendly accommodation',\n",
              " 'understood need dwelling though house offered merely cottage assured everything done might think necessary situation pleased',\n",
              " 'earnestly pressed giving particulars house garden come daughters barton park place residence whence might judge whether barton cottage houses parish could alteration made comfortable',\n",
              " 'seemed really anxious accommodate whole letter written friendly style could fail giving pleasure cousin especially moment suffering cold unfeeling behaviour nearer connections',\n",
              " 'needed time deliberation inquiry',\n",
              " 'resolution formed read',\n",
              " 'situation barton county far distant sussex devonshire hours would sufficient objection outweigh every possible advantage belonging place first recommendation',\n",
              " 'quit neighbourhood norland longer evil object desire blessing comparison misery continuing daughter law guest remove ever beloved place would less painful inhabit visit woman mistress',\n",
              " 'instantly wrote sir john middleton acknowledgment kindness acceptance proposal hastened shew letters daughters might secure approbation answer sent',\n",
              " 'elinor always thought would prudent settle distance norland immediately amongst present acquaintance',\n",
              " 'head therefore oppose mother intention removing devonshire',\n",
              " 'house described sir john simple scale rent uncommonly moderate leave right objection either point therefore though plan brought charm fancy though removal vicinity norland beyond wishes made attempt dissuade mother sending letter acquiescence',\n",
              " 'chapter',\n",
              " 'sooner answer dispatched mrs dashwood indulged pleasure announcing son law wife provided house incommode longer till every thing ready inhabiting',\n",
              " 'heard surprise',\n",
              " 'mrs john dashwood said nothing husband civilly hoped would settled far norland',\n",
              " 'great satisfaction replying going devonshire edward turned hastily towards hearing voice surprise concern required explanation repeated devonshire',\n",
              " 'indeed going',\n",
              " 'far hence',\n",
              " 'part',\n",
              " 'explained situation',\n",
              " 'within four miles northward exeter',\n",
              " 'cottage continued hope see many friends',\n",
              " 'room two easily added friends find difficulty travelling far see sure find none accommodating',\n",
              " 'concluded kind invitation mr mrs john dashwood visit barton edward gave one still greater affection',\n",
              " 'though late conversation daughter law made resolve remaining norland longer unavoidable produced smallest effect point principally tended',\n",
              " 'separate edward elinor far object ever wished show mrs john dashwood pointed invitation brother totally disregarded disapprobation match',\n",
              " 'mr john dashwood told mother exceedingly sorry taken house distance norland prevent service removing furniture',\n",
              " 'really felt conscientiously vexed occasion exertion limited performance promise father arrangement rendered impracticable furniture sent around water',\n",
              " 'chiefly consisted household linen plate china books handsome pianoforte marianne',\n",
              " 'mrs john dashwood saw packages depart sigh could help feeling hard mrs dashwood income would trifling comparison handsome article furniture',\n",
              " 'mrs dashwood took house twelvemonth ready furnished might immediate possession',\n",
              " 'difficulty arose either side agreement waited disposal effects norland determine future household set west exceedingly rapid performance everything interested soon done horses left husband sold soon death opportunity offering disposing carriage agreed sell likewise earnest advice eldest daughter',\n",
              " 'comfort children consulted wishes would kept discretion elinor prevailed',\n",
              " 'wisdom limited number servants three two maids man speedily provided amongst formed establishment norland',\n",
              " 'man one maids sent immediately devonshire prepare house mistress arrival lady middleton entirely unknown mrs dashwood preferred going directly cottage visitor barton park relied undoubtingly sir john description house feel curiosity examine till entered',\n",
              " 'eagerness gone norland preserved diminution evident satisfaction daughter law prospect removal satisfaction feebly attempted concealed cold invitation defer departure',\n",
              " 'time son law promise father might particular propriety fulfilled',\n",
              " 'since neglected first coming estate quitting house might looked suitable period accomplishment',\n",
              " 'mrs dashwood began shortly give every hope kind convinced general drift discourse assistance extended farther maintenance six months norland',\n",
              " 'frequently talked increasing expenses housekeeping perpetual demands upon purse man consequence world beyond calculation exposed seemed rather stand need money design giving money away',\n",
              " 'weeks day brought sir john middleton first letter norland every thing far settled future abode enable mrs dashwood daughters begin journey',\n",
              " 'many tears shed last adieus place much beloved',\n",
              " 'dear dear norland',\n",
              " 'said marianne wandered alone house last evening shall cease regret learn feel home elsewhere oh',\n",
              " 'happy house could know suffer viewing spot whence perhaps may view ye well known trees continue leaf decay removed branch become motionless although observe longer continue unconscious pleasure regret occasion insensible change walk shade remain enjoy',\n",
              " 'chapter',\n",
              " 'first part journey performed melancholy disposition otherwise tedious unpleasant',\n",
              " 'drew towards end interest appearance country inhabit overcame dejection view barton valley entered gave cheerfulness',\n",
              " 'pleasant fertile spot well wooded rich pasture',\n",
              " 'winding along mile reached house',\n",
              " 'small green court whole demesne front neat wicket gate admitted',\n",
              " 'house barton cottage though small comfortable compact cottage defective building regular roof tiled window shutters painted green walls covered honeysuckles',\n",
              " 'narrow passage led directly house garden behind',\n",
              " 'side entrance sitting room sixteen feet square beyond offices stairs',\n",
              " 'four bed rooms two garrets formed rest house',\n",
              " 'built many years good repair',\n",
              " 'comparison norland poor small indeed tears recollection called forth entered house soon dried away',\n",
              " 'cheered joy servants arrival sake others resolved appear happy',\n",
              " 'early september season fine first seeing place advantage good weather received impression favour material service recommending lasting approbation',\n",
              " 'situation house good',\n",
              " 'high hills rose immediately behind great distance side open downs others cultivated woody',\n",
              " 'village barton chiefly one hills formed pleasant view cottage windows',\n",
              " 'prospect front extensive commanded whole valley reached country beyond',\n",
              " 'hills surrounded cottage terminated valley direction another name another course branched two steepest',\n",
              " 'size furniture house mrs dashwood upon whole well satisfied though former style life rendered many additions latter indispensable yet add improve delight time ready money enough supply wanted greater elegance apartments',\n",
              " 'house sure said small family make tolerably comfortable present late year improvements',\n",
              " 'perhaps spring plenty money dare say shall may think building',\n",
              " 'parlors small parties friends hope see often collected thoughts throwing passage one perhaps part leave remainder entrance new drawing room may easily added bed chamber garret make snug little cottage',\n",
              " 'could wish stairs handsome',\n",
              " 'one must expect every thing though suppose would difficult matter widen',\n",
              " 'shall see much hand world spring plan improvements accordingly',\n",
              " 'mean time till alterations could made savings income five hundred year woman never saved life wise enough contented house busy arranging particular concerns endeavoring placing around books possessions form home',\n",
              " 'marianne pianoforte unpacked properly disposed elinor drawings affixed walls sitting room',\n",
              " 'employments interrupted soon breakfast next day entrance landlord called welcome barton offer every accommodation house garden might present deficient',\n",
              " 'sir john middleton good looking man forty',\n",
              " 'formerly visited stanhill long young cousins remember',\n",
              " 'countenance thoroughly good humoured manners friendly style letter',\n",
              " 'arrival seemed afford real satisfaction comfort object real solicitude',\n",
              " 'said much earnest desire living sociable terms family pressed cordially dine barton park every day till better settled home though entreaties carried point perseverance beyond civility could give offence',\n",
              " 'kindness confined words within hour left large basket full garden stuff fruit arrived park followed end day present game',\n",
              " 'insisted moreover conveying letters post would denied satisfaction sending newspaper every day',\n",
              " 'lady middleton sent civil message denoting intention waiting mrs dashwood soon could assured visit would inconvenience message answered invitation equally polite ladyship introduced next day',\n",
              " 'course anxious see person much comfort barton must depend elegance appearance favourable wishes',\n",
              " 'lady middleton six seven twenty face handsome figure tall striking address graceful',\n",
              " 'manners elegance husband wanted',\n",
              " 'would improved share frankness warmth visit long enough detract something first admiration shewing though perfectly well bred reserved cold nothing say beyond common place inquiry remark',\n",
              " 'conversation however wanted sir john chatty lady middleton taken wise precaution bringing eldest child fine little boy six years old means one subject always recurred ladies case extremity enquire name age admire beauty ask questions mother answered hung held head great surprise ladyship wondered shy company could make noise enough home',\n",
              " 'every formal visit child ought party way provision discourse',\n",
              " 'present case took ten minutes determine whether boy like father mother particular resembled either course every body differed every body astonished opinion others',\n",
              " 'opportunity soon given dashwoods debating rest children sir john would leave house without securing promise dining park next day',\n",
              " 'chapter',\n",
              " 'barton park half mile cottage',\n",
              " 'ladies passed near way along valley screened view home projection hill',\n",
              " 'house large handsome middletons lived style equal hospitality elegance',\n",
              " 'former sir john gratification latter lady',\n",
              " 'scarcely ever without friends staying house kept company every kind family neighbourhood',\n",
              " 'necessary happiness however dissimilar temper outward behaviour strongly resembled total want talent taste confined employments unconnected society produced within narrow compass',\n",
              " 'sir john sportsman lady middleton mother',\n",
              " 'hunted shot humoured children resources',\n",
              " 'lady middleton advantage able spoil children year round sir john independent employments existence half time',\n",
              " 'continual engagements home abroad however supplied deficiencies nature education supported good spirits sir john gave exercise good breeding wife',\n",
              " 'lady middleton piqued upon elegance table domestic arrangements kind vanity greatest enjoyment parties',\n",
              " 'sir john satisfaction society much real delighted collecting young people house would hold noisier better pleased',\n",
              " 'blessing juvenile part neighbourhood summer ever forming parties eat cold ham chicken doors winter private balls numerous enough young lady suffering unsatiable appetite fifteen',\n",
              " 'arrival new family country always matter joy every point view charmed inhabitants procured cottage barton',\n",
              " 'miss dashwoods young pretty unaffected',\n",
              " 'enough secure good opinion unaffected pretty girl could want make mind captivating person',\n",
              " 'friendliness disposition made happy accommodating whose situation might considered comparison past unfortunate',\n",
              " 'showing kindness cousins therefore real satisfaction good heart settling family females cottage satisfaction sportsman sportsman though esteems sex sportsmen likewise often desirous encouraging taste admitting residence within manor',\n",
              " 'mrs dashwood daughters met door house sir john welcomed barton park unaffected sincerity attended drawing room repeated young ladies concern subject drawn day unable get smart young men meet',\n",
              " 'would see said one gentleman besides particular friend staying park neither young gay',\n",
              " 'hoped would excuse smallness party could assure never happen',\n",
              " 'several families morning hopes procuring addition number moonlight every body full engagements',\n",
              " 'luckily lady middleton mother arrived barton within last hour cheerful agreeable woman hoped young ladies would find dull might imagine',\n",
              " 'young ladies well mother perfectly satisfied two entire strangers party wished',\n",
              " 'mrs jennings lady middleton mother good humoured merry fat elderly woman talked great deal seemed happy rather vulgar',\n",
              " 'full jokes laughter dinner said many witty things subject lovers husbands hoped left hearts behind sussex pretended see blush whether',\n",
              " 'marianne vexed sister sake turned eyes towards elinor see bore attacks earnestness gave elinor far pain could arise common place raillery mrs jennings',\n",
              " 'colonel brandon friend sir john seemed adapted resemblance manner friend lady middleton wife mrs jennings lady middleton mother',\n",
              " 'silent grave',\n",
              " 'appearance however unpleasing spite opinion marianne margaret absolute old bachelor wrong side five thirty though face handsome countenance sensible address particularly gentlemanlike',\n",
              " 'nothing party could recommend companions dashwoods cold insipidity lady middleton particularly repulsive comparison gravity colonel brandon even boisterous mirth sir john mother law interesting',\n",
              " 'lady middleton seemed roused enjoyment entrance four noisy children dinner pulled tore clothes put end every kind discourse except related',\n",
              " 'evening marianne discovered musical invited play',\n",
              " 'instrument unlocked every body prepared charmed marianne sang well request went chief songs lady middleton brought family marriage perhaps lain ever since position pianoforte ladyship celebrated event giving music although mother account played extremely well fond',\n",
              " 'marianne performance highly applauded',\n",
              " 'sir john loud admiration end every song loud conversation others every song lasted',\n",
              " 'lady middleton frequently called order wondered one attention could diverted music moment asked marianne sing particular song marianne finished',\n",
              " 'colonel brandon alone party heard without raptures',\n",
              " 'paid compliment attention felt respect occasion others reasonably forfeited shameless want taste',\n",
              " 'pleasure music though amounted ecstatic delight alone could sympathize estimable contrasted horrible insensibility others reasonable enough allow man five thirty might well outlived acuteness feeling every exquisite power enjoyment',\n",
              " 'perfectly disposed make every allowance colonel advanced state life humanity required',\n",
              " 'chapter',\n",
              " 'mrs jennings widow ample jointure',\n",
              " 'two daughters lived see respectably married therefore nothing marry rest world',\n",
              " 'promotion object zealously active far ability reached missed opportunity projecting weddings among young people acquaintance',\n",
              " 'remarkably quick discovery attachments enjoyed advantage raising blushes vanity many young lady insinuations power young man kind discernment enabled soon arrival barton decisively pronounce colonel brandon much love marianne dashwood',\n",
              " 'rather suspected first evening together listening attentively sang visit returned middletons dining cottage fact ascertained listening',\n",
              " 'must',\n",
              " 'perfectly convinced',\n",
              " 'would excellent match rich handsome',\n",
              " 'mrs jennings anxious see colonel brandon well married ever since connection sir john first brought knowledge always anxious get good husband every pretty girl',\n",
              " 'immediate advantage means inconsiderable supplied endless jokes',\n",
              " 'park laughed colonel cottage marianne',\n",
              " 'former raillery probably far regarded perfectly indifferent latter first incomprehensible object understood hardly knew whether laugh absurdity censure impertinence considered unfeeling reflection colonel advanced years forlorn condition old bachelor',\n",
              " 'mrs dashwood could think man five years younger exceedingly ancient appeared youthful fancy daughter ventured clear mrs jennings probability wishing throw ridicule age',\n",
              " 'least mamma deny absurdity accusation though may think intentionally ill natured',\n",
              " 'colonel brandon certainly younger mrs jennings old enough father ever animated enough love must long outlived every sensation kind',\n",
              " 'ridiculous',\n",
              " 'man safe wit age infirmity protect',\n",
              " 'infirmity',\n",
              " 'said elinor call colonel brandon infirm',\n",
              " 'easily suppose age may appear much greater mother hardly deceive use limbs',\n",
              " 'hear complain rheumatism',\n",
              " 'commonest infirmity declining life',\n",
              " 'dearest child said mother laughing rate must continual terror decay must seem miracle life extended advanced age forty',\n",
              " 'mamma justice',\n",
              " 'know well colonel brandon old enough make friends yet apprehensive losing course nature',\n",
              " 'may live twenty years longer',\n",
              " 'thirty five nothing matrimony',\n",
              " 'perhaps said elinor thirty five seventeen better thing matrimony together',\n",
              " 'chance happen woman single seven twenty think colonel brandon thirty five objection marrying',\n",
              " 'woman seven twenty said marianne pausing moment never hope feel inspire affection home uncomfortable fortune small suppose might bring submit offices nurse sake provision security wife',\n",
              " 'marrying woman therefore would nothing unsuitable',\n",
              " 'would compact convenience world would satisfied',\n",
              " 'eyes would marriage would nothing',\n",
              " 'would seem commercial exchange wished benefited expense',\n",
              " 'would impossible know replied elinor convince woman seven twenty could feel man thirty five anything near enough love make desirable companion',\n",
              " 'must object dooming colonel brandon wife constant confinement sick chamber merely chanced complain yesterday cold damp day slight rheumatic feel one shoulders',\n",
              " 'talked flannel waistcoats said marianne flannel waistcoat invariably connected aches cramps rheumatisms every species ailment afflict old feeble',\n",
              " 'violent fever would despised half much',\n",
              " 'confess marianne something interesting flushed cheek hollow eye quick pulse fever',\n",
              " 'soon upon elinor leaving room mamma said marianne alarm subject illness conceal',\n",
              " 'sure edward ferrars well',\n",
              " 'almost fortnight yet come',\n",
              " 'nothing real indisposition could occasion extraordinary delay',\n",
              " 'else detain norland',\n",
              " 'idea coming soon',\n",
              " 'said mrs dashwood',\n",
              " 'none',\n",
              " 'contrary felt anxiety subject recollecting sometimes showed want pleasure readiness accepting invitation talked coming barton',\n",
              " 'elinor expect already',\n",
              " 'never mentioned course must',\n",
              " 'rather think mistaken talking yesterday getting new grate spare bedchamber observed immediate hurry likely room would wanted time',\n",
              " 'strange',\n",
              " 'meaning',\n",
              " 'whole behaviour unaccountable',\n",
              " 'cold composed last adieus',\n",
              " 'languid conversation last evening together',\n",
              " 'edward farewell distinction elinor good wishes affectionate brother',\n",
              " 'twice leave purposely together course last morning time unaccountably follow room',\n",
              " 'elinor quitting norland edward cried',\n",
              " 'even self command invariable',\n",
              " 'dejected melancholy',\n",
              " 'try avoid society appear restless dissatisfied',\n",
              " 'chapter',\n",
              " 'dashwoods settled barton tolerable comfort',\n",
              " 'house garden objects surrounding become familiar ordinary pursuits given norland half charms engaged far greater enjoyment norland able afford since loss father',\n",
              " 'sir john middleton called every day first fortnight habit seeing much occupation home could conceal amazement finding always employed',\n",
              " 'visitors except barton park many spite sir john urgent entreaties would mix neighbourhood repeated assurances carriage always service independence mrs dashwood spirit overcame wish society children resolute declining visit family beyond distance walk',\n",
              " 'could classed attainable',\n",
              " 'mile half cottage along narrow winding valley allenham issued barton formerly described girls one earliest walks discovered ancient respectable looking mansion reminding little norland interested imagination made wish better acquainted',\n",
              " 'learnt enquiry possessor elderly lady good character unfortunately infirm mix world never stirred home',\n",
              " 'whole country abounded beautiful walks',\n",
              " 'high downs invited almost every window cottage seek exquisite enjoyment air summits happy alternative dirt valleys beneath shut superior beauties towards one hills marianne margaret one memorable morning direct steps attracted partial sunshine showery sky unable longer bear confinement settled rain two preceding days occasioned',\n",
              " 'weather tempting enough draw two others pencil book spite marianne declaration day would lastingly fair every threatening cloud would drawn hills two girls set together',\n",
              " 'gaily ascended downs rejoicing penetration every glimpse blue sky caught faces animating gales high south westerly wind pitied fears prevented mother elinor sharing delightful sensations',\n",
              " 'felicity world said marianne superior margaret walk least two hours',\n",
              " 'margaret agreed pursued way wind resisting laughing delight twenty minutes longer suddenly clouds united heads driving rain set full face chagrined surprised obliged though unwillingly turn back shelter nearer house',\n",
              " 'one consolation however remained exigence moment gave usual propriety running possible speed steep side hill led immediately garden gate',\n",
              " 'set',\n",
              " 'marianne first advantage false step brought suddenly ground margaret unable stop assist involuntarily hurried along reached bottom safety',\n",
              " 'gentleman carrying gun two pointers playing round passing hill within yards marianne accident happened',\n",
              " 'put gun ran assistance',\n",
              " 'raised ground foot twisted fall scarcely able stand',\n",
              " 'gentleman offered services perceiving modesty declined situation rendered necessary took arms without farther delay carried hill',\n",
              " 'passing garden gate left open margaret bore directly house whither margaret arrived quitted hold till seated chair parlour',\n",
              " 'elinor mother rose amazement entrance eyes fixed evident wonder secret admiration equally sprung appearance apologized intrusion relating cause manner frank graceful person uncommonly handsome received additional charms voice expression',\n",
              " 'even old ugly vulgar gratitude kindness mrs dashwood would secured act attention child influence youth beauty elegance gave interest action came home feelings',\n",
              " 'thanked sweetness address always attended invited seated',\n",
              " 'declined dirty wet',\n",
              " 'mrs dashwood begged know obliged',\n",
              " 'name replied willoughby present home allenham whence hoped would allow honour calling tomorrow enquire miss dashwood',\n",
              " 'honour readily granted departed make still interesting midst heavy rain',\n",
              " 'manly beauty common gracefulness instantly theme general admiration laugh gallantry raised marianne received particular spirit exterior attractions marianne seen less person rest confusion crimsoned face lifting robbed power regarding entering house',\n",
              " 'seen enough join admiration others energy always adorned praise',\n",
              " 'person air equal fancy ever drawn hero favourite story carrying house little previous formality rapidity thought particularly recommended action',\n",
              " 'every circumstance belonging interesting',\n",
              " 'name good residence favourite village soon found manly dresses shooting jacket becoming',\n",
              " 'imagination busy reflections pleasant pain sprained ankle disregarded',\n",
              " 'sir john called soon next interval fair weather morning allowed get doors marianne accident related eagerly asked whether knew gentleman name willoughby allenham',\n",
              " 'willoughby',\n",
              " 'cried sir john country',\n",
              " 'good news however ride tomorrow ask dinner thursday',\n",
              " 'know said mrs dashwood',\n",
              " 'know',\n",
              " 'sure',\n",
              " 'every year',\n",
              " 'sort young man',\n",
              " 'good kind fellow ever lived assure',\n",
              " 'decent shot bolder rider england',\n",
              " 'say',\n",
              " 'cried marianne indignantly',\n",
              " 'manners intimate acquaintance',\n",
              " 'pursuits talents genius',\n",
              " 'sir john rather puzzled',\n",
              " 'upon soul said know much',\n",
              " 'pleasant good humoured fellow got nicest little black bitch pointer ever saw',\n",
              " 'today',\n",
              " 'marianne could satisfy colour mr willoughby pointer could describe shades mind',\n",
              " 'said elinor',\n",
              " 'come',\n",
              " 'house allenham',\n",
              " 'point sir john could give certain intelligence told mr willoughby property country resided visiting old lady allenham court related whose possessions inherit adding yes yes well worth catching tell miss dashwood pretty little estate somersetshire besides would give younger sister spite tumbling hills',\n",
              " 'miss marianne must expect men',\n",
              " 'brandon jealous take care',\n",
              " 'believe said mrs dashwood good humoured smile mr willoughby incommoded attempts either daughters towards call catching',\n",
              " 'employment brought',\n",
              " 'men safe us let ever rich',\n",
              " 'glad find however say respectable young man one whose acquaintance ineligible',\n",
              " 'good sort fellow believe ever lived repeated sir john',\n",
              " 'remember last christmas little hop park danced eight clock till four without sitting',\n",
              " 'indeed',\n",
              " 'cried marianne sparkling eyes elegance spirit',\n",
              " 'yes eight ride covert',\n",
              " 'like young man ought',\n",
              " 'whatever pursuits eagerness know moderation leave sense fatigue',\n",
              " 'aye aye see said sir john see',\n",
              " 'setting cap never think poor brandon',\n",
              " 'expression sir john said marianne warmly particularly dislike',\n",
              " 'abhor every common place phrase wit intended setting one cap man making conquest odious',\n",
              " 'tendency gross illiberal construction could ever deemed clever time long ago destroyed ingenuity',\n",
              " 'sir john much understand reproof laughed heartily replied',\n",
              " 'ay make conquests enough dare say one way',\n",
              " 'poor brandon',\n",
              " 'quite smitten already well worth setting cap tell spite tumbling spraining ankles',\n",
              " 'chapter',\n",
              " 'marianne preserver margaret elegance precision styled willoughby called cottage early next morning make personal enquiries',\n",
              " 'received mrs dashwood politeness kindness sir john account gratitude prompted every thing passed visit tended assure sense elegance mutual affection domestic comfort family accident introduced',\n",
              " 'personal charms required second interview convinced',\n",
              " 'miss dashwood delicate complexion regular features remarkably pretty figure',\n",
              " 'marianne still handsomer',\n",
              " 'form though correct sister advantage height striking face lovely common cant praise called beautiful girl truth less violently outraged usually happens',\n",
              " 'skin brown transparency complexion uncommonly brilliant features good smile sweet attractive eyes dark life spirit eagerness could hardily seen without delight',\n",
              " 'willoughby expression first held back embarrassment remembrance assistance created',\n",
              " 'passed away spirits became collected saw perfect good breeding gentleman united frankness vivacity heard declare music dancing passionately fond gave look approbation secured largest share discourse rest stay',\n",
              " 'necessary mention favourite amusement engage talk',\n",
              " 'could silent points introduced neither shyness reserve discussion',\n",
              " 'speedily discovered enjoyment dancing music mutual arose general conformity judgment related either',\n",
              " 'encouraged examination opinions proceeded question subject books favourite authors brought forward dwelt upon rapturous delight young man five twenty must insensible indeed become immediate convert excellence works however disregarded',\n",
              " 'taste strikingly alike',\n",
              " 'books passages idolized difference appeared objection arose lasted longer till force arguments brightness eyes could displayed',\n",
              " 'acquiesced decisions caught enthusiasm long visit concluded conversed familiarity long established acquaintance',\n",
              " 'well marianne said elinor soon left one morning think done pretty well',\n",
              " 'already ascertained mr willoughby opinion almost every matter importance',\n",
              " 'know thinks cowper scott certain estimating beauties ought received every assurance admiring pope proper',\n",
              " 'acquaintance long supported extraordinary despatch every subject discourse',\n",
              " 'soon exhausted favourite topic',\n",
              " 'another meeting suffice explain sentiments picturesque beauty second marriages nothing farther ask',\n",
              " 'elinor cried marianne fair',\n",
              " 'ideas scanty',\n",
              " 'see mean',\n",
              " 'much ease happy frank',\n",
              " 'erred every common place notion decorum open sincere ought reserved spiritless dull deceitful talked weather roads spoken ten minutes reproach would spared',\n",
              " 'love said mother must offended elinor jest',\n",
              " 'scold capable wishing check delight conversation new friend',\n",
              " 'marianne softened moment',\n",
              " 'willoughby side gave every proof pleasure acquaintance evident wish improving could offer',\n",
              " 'came every day',\n",
              " 'enquire marianne first excuse encouragement reception every day gave greater kindness made excuse unnecessary ceased possible marianne perfect recovery',\n",
              " 'confined days house never confinement less irksome',\n",
              " 'willoughby young man good abilities quick imagination lively spirits open affectionate manners',\n",
              " 'exactly formed engage marianne heart joined captivating person natural ardour mind roused increased example recommended affection beyond every thing else',\n",
              " 'society became gradually exquisite enjoyment',\n",
              " 'read talked sang together musical talents considerable read sensibility spirit edward unfortunately wanted',\n",
              " 'mrs dashwood estimation faultless marianne elinor saw nothing censure propensity strongly resembled peculiarly delighted sister saying much thought every occasion without attention persons circumstances',\n",
              " 'hastily forming giving opinion people sacrificing general politeness enjoyment undivided attention heart engaged slighting easily forms worldly propriety displayed want caution elinor could approve spite marianne could say support',\n",
              " 'marianne began perceive desperation seized sixteen half ever seeing man could satisfy ideas perfection rash unjustifiable',\n",
              " 'willoughby fancy delineated unhappy hour every brighter period capable attaching behaviour declared wishes respect earnest abilities strong',\n",
              " 'mother whose mind one speculative thought marriage raised prospect riches led end week hope expect secretly congratulate gained two sons law edward willoughby',\n",
              " 'colonel brandon partiality marianne early discovered friends first became perceptible elinor ceased noticed',\n",
              " 'attention wit drawn fortunate rival raillery incurred partiality arose removed feelings began really call ridicule justly annexed sensibility',\n",
              " 'elinor obliged though unwillingly believe sentiments mrs jennings assigned satisfaction actually excited sister however general resemblance disposition parties might forward affection mr willoughby equally striking opposition character hindrance regard colonel brandon',\n",
              " 'saw concern could silent man five thirty hope opposed lively one five twenty',\n",
              " 'could even wish successful heartily wished indifferent',\n",
              " 'liked spite gravity reserve beheld object interest',\n",
              " 'manners though serious mild reserve appeared rather result oppression spirits natural gloominess temper',\n",
              " 'sir john dropped hints past injuries disappointments justified belief unfortunate man regarded respect compassion',\n",
              " 'perhaps pitied esteemed slighted willoughby marianne prejudiced neither lively young seemed resolved undervalue merits',\n",
              " 'brandon kind man said willoughby one day talking together every body speaks well nobody cares delighted see nobody remembers talk',\n",
              " 'exactly think cried marianne',\n",
              " 'boast however said elinor injustice',\n",
              " 'highly esteemed family park never see without taking pains converse',\n",
              " 'patronised replied willoughby certainly favour esteem others reproach',\n",
              " 'would submit indignity approved woman lady middleton mrs jennings could command indifference body else',\n",
              " 'perhaps abuse people marianne make amends regard lady middleton mother',\n",
              " 'praise censure censure may praise undiscerning prejudiced unjust',\n",
              " 'defence protege even saucy',\n",
              " 'protege call sensible man sense always attractions',\n",
              " 'yes marianne even man thirty forty',\n",
              " 'seen great deal world abroad read thinking mind',\n",
              " 'found capable giving much information various subjects always answered inquiries readiness good breeding good nature',\n",
              " 'say cried marianne contemptuously told east indies climate hot mosquitoes troublesome',\n",
              " 'would told doubt made inquiries happened points previously informed',\n",
              " 'perhaps said willoughby observations may extended existence nabobs gold mohrs palanquins',\n",
              " 'may venture say observations stretched much candour',\n",
              " 'dislike',\n",
              " 'dislike',\n",
              " 'consider contrary respectable man every body good word nobody notice money spend time knows employ two new coats every year',\n",
              " 'add cried marianne neither genius taste spirit',\n",
              " 'understanding brilliancy feelings ardour voice expression',\n",
              " 'decide imperfections much mass replied elinor much strength imagination commendation able give comparatively cold insipid',\n",
              " 'pronounce sensible man well bred well informed gentle address believe possessing amiable heart',\n",
              " 'miss dashwood cried willoughby using unkindly',\n",
              " 'endeavouring disarm reason convince',\n",
              " 'shall find stubborn artful',\n",
              " 'three unanswerable reasons disliking colonel brandon threatened rain wanted fine found fault hanging curricle persuade buy brown mare',\n",
              " 'satisfaction however told believe character respects irreproachable ready confess',\n",
              " 'return acknowledgment must give pain deny privilege disliking much ever',\n",
              " 'chapter',\n",
              " 'little mrs dashwood daughters imagined first came devonshire many engagements would arise occupy time shortly presented frequent invitations constant visitors leave little leisure serious employment',\n",
              " 'yet case',\n",
              " 'marianne recovered schemes amusement home abroad sir john previously forming put execution',\n",
              " 'private balls park began parties water made accomplished often showery october would allow',\n",
              " 'every meeting kind willoughby included ease familiarity naturally attended parties exactly calculated give increasing intimacy acquaintance dashwoods afford opportunity witnessing excellencies marianne marking animated admiration receiving behaviour pointed assurance affection',\n",
              " 'elinor could surprised attachment',\n",
              " 'wished less openly shewn twice venture suggest propriety self command marianne',\n",
              " 'marianne abhorred concealment real disgrace could attend unreserve aim restraint sentiments illaudable appeared merely unnecessary effort disgraceful subjection reason common place mistaken notions',\n",
              " 'willoughby thought behaviour times illustration opinions',\n",
              " 'present eyes one else',\n",
              " 'every thing right',\n",
              " 'every thing said clever',\n",
              " 'evenings park concluded cards cheated rest party get good hand',\n",
              " 'dancing formed amusement night partners half time obliged separate couple dances careful stand together scarcely spoke word body else',\n",
              " 'conduct made course exceedingly laughed ridicule could shame seemed hardly provoke',\n",
              " 'mrs dashwood entered feelings warmth left inclination checking excessive display',\n",
              " 'natural consequence strong affection young ardent mind',\n",
              " 'season happiness marianne',\n",
              " 'heart devoted willoughby fond attachment norland brought sussex likely softened thought possible charms society bestowed present home',\n",
              " 'elinor happiness great',\n",
              " 'heart much ease satisfaction amusements pure',\n",
              " 'afforded companion could make amends left behind could teach think norland less regret ever',\n",
              " 'neither lady middleton mrs jennings could supply conversation missed although latter everlasting talker first regarded kindness ensured large share discourse',\n",
              " 'already repeated history elinor three four times elinor memory equal means improvement might known early acquaintance particulars mr jenning last illness said wife minutes died',\n",
              " 'lady middleton agreeable mother silent',\n",
              " 'elinor needed little observation perceive reserve mere calmness manner sense nothing',\n",
              " 'towards husband mother intimacy therefore neither looked desired',\n",
              " 'nothing say one day said day',\n",
              " 'insipidity invariable even spirits always though oppose parties arranged husband provided every thing conducted style two eldest children attended never appeared receive enjoyment might experienced sitting home little presence add pleasure others share conversation sometimes reminded amongst solicitude troublesome boys',\n",
              " 'colonel brandon alone new acquaintance elinor find person could degree claim respect abilities excite interest friendship give pleasure companion',\n",
              " 'willoughby question',\n",
              " 'admiration regard even sisterly regard lover attentions wholly marianne far less agreeable man might generally pleasing',\n",
              " 'colonel brandon unfortunately encouragement think marianne conversing elinor found greatest consolation indifference sister',\n",
              " 'elinor compassion increased reason suspect misery disappointed love already known',\n",
              " 'suspicion given words accidently dropped one evening park sitting together mutual consent others dancing',\n",
              " 'eyes fixed marianne silence minutes said faint smile sister understand approve second attachments',\n",
              " 'replied elinor opinions romantic',\n",
              " 'rather believe considers impossible exist',\n",
              " 'believe',\n",
              " 'contrives without reflecting character father two wives know',\n",
              " 'years however settle opinions reasonable basis common sense observation may easy define justify body',\n",
              " 'probably case replied yet something amiable prejudices young mind one sorry see give way reception general opinions',\n",
              " 'agree said elinor',\n",
              " 'inconveniences attending feelings marianne charms enthusiasm ignorance world atone',\n",
              " 'systems unfortunate tendency setting propriety nought better acquaintance world look forward greatest possible advantage',\n",
              " 'short pause resumed conversation saying',\n",
              " 'sister make distinction objections second attachment',\n",
              " 'equally criminal every body',\n",
              " 'disappointed first choice whether inconstancy object perverseness circumstances equally indifferent rest lives',\n",
              " 'upon word acquainted minutiae principles',\n",
              " 'know never yet heard admit instance second attachment pardonable',\n",
              " 'said hold change total change sentiments desire romantic refinements young mind obliged give way frequently succeeded opinions common dangerous',\n",
              " 'speak experience',\n",
              " 'knew lady temper mind greatly resembled sister thought judged like inforced change series unfortunate circumstances stopt suddenly appeared think said much countenance gave rise conjectures might otherwise entered elinor head',\n",
              " 'lady would probably passed without suspicion convinced miss dashwood concerned ought escape lips',\n",
              " 'required slight effort fancy connect emotion tender recollection past regard',\n",
              " 'elinor attempted',\n",
              " 'marianne place would done little',\n",
              " 'whole story would speedily formed active imagination every thing established melancholy order disastrous love',\n",
              " 'chapter',\n",
              " 'elinor marianne walking together next morning latter communicated piece news sister spite knew marianne imprudence want thought surprised extravagant testimony',\n",
              " 'marianne told greatest delight willoughby given horse one bred estate somersetshire exactly calculated carry woman',\n",
              " 'without considering mother plan keep horse alter resolution favour gift must buy another servant keep servant ride build stable receive accepted present without hesitation told sister raptures',\n",
              " 'intends send groom somersetshire immediately added arrives ride every day',\n",
              " 'shall share use',\n",
              " 'imagine dear elinor delight gallop downs',\n",
              " 'unwilling awaken dream felicity comprehend unhappy truths attended affair time refused submit',\n",
              " 'additional servant expense would trifle mamma sure would never object horse would might always get one park stable merest shed would sufficient',\n",
              " 'elinor ventured doubt propriety receiving present man little least lately known',\n",
              " 'much',\n",
              " 'mistaken elinor said warmly supposing know little willoughby',\n",
              " 'known long indeed much better acquainted creature world except mama',\n",
              " 'time opportunity determine intimacy disposition alone',\n",
              " 'seven years would insufficient make people acquainted seven days enough others',\n",
              " 'hold guilty greater impropriety accepting horse brother willoughby',\n",
              " 'john know little though lived together years willoughby judgment long formed',\n",
              " 'elinor thought wisest touch point',\n",
              " 'knew sister temper',\n",
              " 'opposition tender subject would attach opinion',\n",
              " 'appeal affection mother representing inconveniences indulgent mother must draw would probably case consented increase establishment marianne shortly subdued promised tempt mother imprudent kindness mentioning offer tell willoughby saw next must declined',\n",
              " 'faithful word willoughby called cottage day elinor heard express disappointment low voice obliged forego acceptance present',\n",
              " 'reasons alteration time related make entreaty side impossible',\n",
              " 'concern however apparent expressing earnestness added low voice marianne horse still though use',\n",
              " 'shall keep till claim',\n",
              " 'leave barton form establishment lasting home queen mab shall receive',\n",
              " 'overheard miss dashwood whole sentence manner pronouncing addressing sister christian name alone instantly saw intimacy decided meaning direct marked perfect agreement',\n",
              " 'moment doubted engaged belief created surprise friends left tempers frank discover accident',\n",
              " 'margaret related something next day placed matter still clearer light',\n",
              " 'willoughby spent preceding evening margaret left time parlour marianne opportunity observations important face communicated eldest sister next',\n",
              " 'oh elinor',\n",
              " 'cried secret tell marianne',\n",
              " 'sure married mr willoughby soon',\n",
              " 'said replied elinor almost every day since first met high church known week believe certain marianne wore picture round neck turned miniature great uncle',\n",
              " 'indeed quite another thing',\n",
              " 'sure married soon got lock hair',\n",
              " 'take care margaret',\n",
              " 'may hair great uncle',\n",
              " 'indeed elinor marianne',\n",
              " 'almost sure saw cut',\n",
              " 'last night tea mama went room whispering talking together fast could seemed begging something presently took scissors cut long lock hair tumbled back kissed folded piece white paper put pocket book',\n",
              " 'particulars stated authority elinor could withhold credit disposed circumstance perfect unison heard seen',\n",
              " 'margaret sagacity always displayed way satisfactory sister',\n",
              " 'mrs jennings attacked one evening park give name young man elinor particular favourite long matter great curiosity margaret answered looking sister saying must tell may elinor',\n",
              " 'course made every body laugh elinor tried laugh',\n",
              " 'effort painful',\n",
              " 'convinced margaret fixed person whose name could bear composure become standing joke mrs jennings',\n",
              " 'marianne felt sincerely harm good cause turning red saying angry manner margaret',\n",
              " 'remember whatever conjectures may right repeat',\n",
              " 'never conjectures replied margaret told',\n",
              " 'increased mirth company margaret eagerly pressed say something',\n",
              " 'oh',\n",
              " 'pray miss margaret let us know said mrs jennings',\n",
              " 'gentleman name',\n",
              " 'must tell',\n",
              " 'know well know',\n",
              " 'yes yes guess house norland sure',\n",
              " 'curate parish dare say',\n",
              " 'profession',\n",
              " 'margaret said marianne great warmth know invention person existence',\n",
              " 'well lately dead marianne sure man name begins f',\n",
              " 'grateful elinor feel lady middleton observing moment rained hard though believed interruption proceed less attention ladyship great dislike inelegant subjects raillery delighted husband mother',\n",
              " 'idea however started immediately pursued colonel brandon every occasion mindful feelings others much said subject rain',\n",
              " 'willoughby opened piano forte asked marianne sit thus amidst various endeavours different people quit topic fell ground',\n",
              " 'easily elinor recover alarm thrown',\n",
              " 'party formed evening going following day see fine place twelve miles barton belonging brother law colonel brandon without whose interest could seen proprietor abroad left strict orders head',\n",
              " 'grounds declared highly beautiful sir john particularly warm praise might allowed tolerable judge formed parties visit least twice every summer last ten years',\n",
              " 'contained noble piece water sail form great part morning amusement cold provisions taken open carriages employed every thing conducted usual style complete party pleasure',\n",
              " 'company appeared rather bold undertaking considering time year rained every day last fortnight mrs dashwood already cold persuaded elinor stay home',\n",
              " 'chapter',\n",
              " 'intended excursion whitwell turned different elinor expected',\n",
              " 'prepared wet fatigued frightened event still unfortunate go',\n",
              " 'ten clock whole party assembled park breakfast',\n",
              " 'morning rather favourable though rained night clouds dispersing across sky sun frequently appeared',\n",
              " 'high spirits good humour eager happy determined submit greatest inconveniences hardships rather otherwise',\n",
              " 'breakfast letters brought',\n",
              " 'among rest one colonel brandon took looked direction changed colour immediately left room',\n",
              " 'matter brandon',\n",
              " 'said sir john',\n",
              " 'nobody could tell',\n",
              " 'hope bad news said lady middleton',\n",
              " 'must something extraordinary could make colonel brandon leave breakfast table suddenly',\n",
              " 'five minutes returned',\n",
              " 'bad news colonel hope said mrs jennings soon entered room',\n",
              " 'none thank',\n",
              " 'avignon',\n",
              " 'hope say sister worse',\n",
              " 'came town merely letter business',\n",
              " 'came hand discompose much letter business',\n",
              " 'come come colonel let us hear truth',\n",
              " 'dear madam said lady middleton recollect saying',\n",
              " 'perhaps tell cousin fanny married',\n",
              " 'said mrs jennings without attending daughter reproof',\n",
              " 'indeed',\n",
              " 'well know colonel',\n",
              " 'hope well',\n",
              " 'mean',\n",
              " 'said colouring little',\n",
              " 'oh',\n",
              " 'know mean',\n",
              " 'particularly sorry said addressing lady middleton receive letter today business requires immediate attendance town',\n",
              " 'town',\n",
              " 'cried mrs jennings',\n",
              " 'town time year',\n",
              " 'loss great continued obliged leave agreeable party concerned fear presence necessary gain admittance whitwell',\n",
              " 'blow upon',\n",
              " 'write note housekeeper mr brandon said marianne eagerly sufficient',\n",
              " 'shook head',\n",
              " 'must go said sir john shall put near',\n",
              " 'go town till tomorrow brandon',\n",
              " 'wish could easily settled',\n",
              " 'power delay journey one day',\n",
              " 'would let us know business said mrs jennings might see whether could put',\n",
              " 'would six hours later said willoughby defer journey till return',\n",
              " 'afford lose one hour',\n",
              " 'elinor heard willoughby say low voice marianne people bear party pleasure',\n",
              " 'brandon one',\n",
              " 'afraid catching cold dare say invented trick getting',\n",
              " 'would lay fifty guineas letter writing',\n",
              " 'doubt replied marianne',\n",
              " 'persuading change mind brandon know old said sir john determined anything',\n",
              " 'however hope think better',\n",
              " 'consider two miss careys come newton three miss dashwoods walked cottage mr willoughby got two hours usual time purpose go whitwell',\n",
              " 'colonel brandon repeated sorrow cause disappointing party time declared unavoidable',\n",
              " 'well come back',\n",
              " 'hope shall see barton added ladyship soon conveniently leave town must put party whitwell till return',\n",
              " 'obliging',\n",
              " 'uncertain may power return dare engage',\n",
              " 'oh',\n",
              " 'must shall come back cried sir john',\n",
              " 'end week shall go',\n",
              " 'ay sir john cried mrs jennings perhaps may find business',\n",
              " 'want pry men concerns',\n",
              " 'suppose something ashamed',\n",
              " 'colonel brandon horses announced',\n",
              " 'go town horseback',\n",
              " 'added sir john',\n",
              " 'honiton',\n",
              " 'shall go post',\n",
              " 'well resolved go wish good journey',\n",
              " 'better change mind',\n",
              " 'assure power',\n",
              " 'took leave whole party',\n",
              " 'chance seeing sisters town winter miss dashwood',\n",
              " 'afraid none',\n",
              " 'must bid farewell longer time wish',\n",
              " 'marianne merely bowed said nothing',\n",
              " 'come colonel said mrs jennings go let us know going',\n",
              " 'wished good morning attended sir john left room',\n",
              " 'complaints lamentations politeness hitherto restrained burst forth universally agreed provoking disappointed',\n",
              " 'guess business however said mrs jennings exultingly',\n",
              " 'said almost every body',\n",
              " 'yes miss williams sure',\n",
              " 'miss williams',\n",
              " 'asked marianne',\n",
              " 'know miss williams',\n",
              " 'sure must heard',\n",
              " 'relation colonel dear near relation',\n",
              " 'say near fear shocking young ladies',\n",
              " 'lowering voice little said elinor natural daughter',\n",
              " 'indeed',\n",
              " 'oh yes like stare',\n",
              " 'dare say colonel leave fortune',\n",
              " 'sir john returned joined heartily general regret unfortunate event concluding however observing got together must something way happy consultation agreed although happiness could enjoyed whitwell might procure tolerable composure mind driving country',\n",
              " 'carriages ordered willoughby first marianne never looked happier got',\n",
              " 'drove park fast soon sight nothing seen till return happen till return rest',\n",
              " 'seemed delighted drive said general terms kept lanes others went downs',\n",
              " 'settled dance evening every body extremely merry day long',\n",
              " 'careys came dinner pleasure sitting nearly twenty table sir john observed great contentment',\n",
              " 'willoughby took usual place two elder miss dashwoods',\n",
              " 'mrs jennings sat elinor right hand long seated leant behind willoughby said marianne loud enough hear found spite tricks',\n",
              " 'know spent morning',\n",
              " 'marianne coloured replied hastily pray',\n",
              " 'know said willoughby curricle',\n",
              " 'yes yes mr impudence know well determined find hope like house miss marianne',\n",
              " 'large one know come see hope new furnished wanted much six years ago',\n",
              " 'marianne turned away great confusion',\n",
              " 'mrs jennings laughed heartily elinor found resolution know actually made woman enquire mr willoughby groom method informed gone allenham spent considerable time walking garden going house',\n",
              " 'elinor could hardly believe true seemed unlikely willoughby propose marianne consent enter house mrs smith marianne smallest acquaintance',\n",
              " 'soon left dining room elinor enquired great surprise found every circumstance related mrs jennings perfectly true',\n",
              " 'marianne quite angry doubting',\n",
              " 'imagine elinor go see house',\n",
              " 'often wished',\n",
              " 'yes marianne would go mrs smith companion mr',\n",
              " 'willoughby',\n",
              " 'mr willoughby however person right shew house went open carriage impossible companion',\n",
              " 'never spent pleasanter morning life',\n",
              " 'afraid replied elinor pleasantness employment always evince propriety',\n",
              " 'contrary nothing stronger proof elinor real impropriety sensible time always know acting wrong conviction could pleasure',\n",
              " 'dear marianne already exposed impertinent remarks begin doubt discretion conduct',\n",
              " 'impertinent remarks mrs jennings proof impropriety conduct offending every moment lives',\n",
              " 'value censure commendation',\n",
              " 'sensible done anything wrong walking mrs smith grounds seeing house',\n",
              " 'one day mr willoughby',\n",
              " 'one day marianne would justified done',\n",
              " 'blushed hint even visibly gratifying ten minutes interval earnest thought came sister said great good humour perhaps elinor rather ill judged go allenham mr willoughby wanted particularly shew place charming house assure one remarkably pretty sitting room stairs nice comfortable size constant use modern furniture would delightful',\n",
              " 'corner room windows two sides',\n",
              " 'one side look across bowling green behind house beautiful hanging wood view church village beyond fine bold hills often admired',\n",
              " 'see advantage nothing could forlorn furniture newly fitted couple hundred pounds willoughby says would make one pleasantest summer rooms england',\n",
              " 'could elinor listened without interruption others would described every room house equal delight',\n",
              " 'chapter',\n",
              " 'sudden termination colonel brandon visit park steadiness concealing cause filled mind raised wonder mrs jennings two three days great wonderer every one must takes lively interest comings goings acquaintance',\n",
              " 'wondered little intermission could reason sure must bad news thought every kind distress could befallen fixed determination escape',\n",
              " 'something melancholy must matter sure said',\n",
              " 'could see face',\n",
              " 'poor man',\n",
              " 'afraid circumstances may bad',\n",
              " 'estate delaford never reckoned two thousand year brother left everything sadly involved',\n",
              " 'think must sent money matters else',\n",
              " 'wonder whether',\n",
              " 'would give anything know truth',\n",
              " 'perhaps miss williams bye dare say looked conscious mentioned',\n",
              " 'may ill town nothing world likely notion always rather sickly',\n",
              " 'would lay wager miss williams',\n",
              " 'likely distressed circumstances prudent man sure must cleared estate time',\n",
              " 'wonder',\n",
              " 'may sister worse avignon sent',\n",
              " 'setting hurry seems like',\n",
              " 'well wish trouble heart good wife bargain',\n",
              " 'wondered talked mrs jennings',\n",
              " 'opinion varying every fresh conjecture seeming equally probable arose',\n",
              " 'elinor though felt really interested welfare colonel brandon could bestow wonder going suddenly away mrs jennings desirous feeling besides circumstance opinion justify lasting amazement variety speculation wonder otherwise disposed',\n",
              " 'engrossed extraordinary silence sister willoughby subject must know peculiarly interesting',\n",
              " 'silence continued every day made appear strange incompatible disposition',\n",
              " 'openly acknowledge mother constant behaviour declared taken place elinor could imagine',\n",
              " 'could easily conceive marriage might immediately power though willoughby independent reason believe rich',\n",
              " 'estate rated sir john six seven hundred year lived expense income could hardly equal often complained poverty',\n",
              " 'strange kind secrecy maintained relative engagement fact concealed nothing could account wholly contradictory general opinions practice doubt sometimes entered mind really engaged doubt enough prevent making inquiry marianne',\n",
              " 'nothing could expressive attachment willoughby behaviour',\n",
              " 'marianne distinguishing tenderness lover heart could give rest family affectionate attention son brother',\n",
              " 'cottage seemed considered loved home many hours spent allenham general engagement collected park exercise called morning almost certain ending rest day spent side marianne favourite pointer feet',\n",
              " 'one evening particular week colonel brandon left country heart seemed usually open every feeling attachment objects around mrs dashwood happening mention design improving cottage spring warmly opposed every alteration place affection established perfect',\n",
              " 'exclaimed improve dear cottage',\n",
              " 'never consent',\n",
              " 'stone must added walls inch size feelings regarded',\n",
              " 'alarmed said miss dashwood nothing kind done mother never money enough attempt',\n",
              " 'heartily glad cried',\n",
              " 'may always poor employ riches better',\n",
              " 'thank willoughby',\n",
              " 'may assured would sacrifice one sentiment local attachment one loved improvements world',\n",
              " 'depend upon whatever unemployed sum may remain make accounts spring would even rather lay uselessly dispose manner painful',\n",
              " 'really attached place see defect',\n",
              " 'said',\n",
              " 'faultless',\n",
              " 'nay consider form building happiness attainable rich enough would instantly pull combe build exact plan cottage',\n",
              " 'dark narrow stairs kitchen smokes suppose said elinor',\n",
              " 'yes cried eager tone every thing belonging one convenience inconvenience least variation perceptible',\n",
              " 'roof might perhaps happy combe barton',\n",
              " 'flatter replied elinor even disadvantage better rooms broader staircase hereafter find house faultless',\n",
              " 'certainly circumstances said willoughby might greatly endear place always one claim affection possibly share',\n",
              " 'mrs dashwood looked pleasure marianne whose fine eyes fixed expressively willoughby plainly denoted well understood',\n",
              " 'often wish added allenham time twelvemonth barton cottage inhabited',\n",
              " 'never passed within view without admiring situation grieving one live',\n",
              " 'little think first news hear mrs smith next came country would barton cottage taken felt immediate satisfaction interest event nothing kind prescience happiness experience account',\n",
              " 'must marianne',\n",
              " 'speaking lowered voice',\n",
              " 'continuing former tone said yet house would spoil mrs dashwood',\n",
              " 'would rob simplicity imaginary improvement',\n",
              " 'dear parlour acquaintance first began many happy hours since spent us together would degrade condition common entrance every body would eager pass room hitherto contained within real accommodation comfort apartment handsomest dimensions world could possibly afford',\n",
              " 'mrs dashwood assured alteration kind attempted',\n",
              " 'good woman warmly replied',\n",
              " 'promise makes easy',\n",
              " 'extend little farther make happy',\n",
              " 'tell house remain shall ever find unchanged dwelling always consider kindness made everything belonging dear',\n",
              " 'promise readily given willoughby behaviour whole evening declared affection happiness',\n",
              " 'shall see tomorrow dinner',\n",
              " 'said mrs dashwood leaving',\n",
              " ...]"
            ]
          },
          "metadata": {
            "tags": []
          },
          "execution_count": 6
        }
      ]
    },
    {
      "cell_type": "markdown",
      "metadata": {
        "id": "_9ltzxe8bVfT",
        "colab_type": "text"
      },
      "source": [
        "3. Creating the Corpus Vocabulary and Preparing the Dataset."
      ]
    },
    {
      "cell_type": "code",
      "metadata": {
        "id": "3ib_sxsUbWey",
        "colab_type": "code",
        "outputId": "63e1cd51-1976-4a6d-bd12-d19902dae681",
        "colab": {
          "base_uri": "https://localhost:8080/",
          "height": 87
        }
      },
      "source": [
        "from keras.preprocessing.text import Tokenizer\n",
        "a =  corpus(austen)\n",
        "# Create Tokenizer\n",
        "t = Tokenizer()\n",
        "# fit tokenizer on documents\n",
        "t.fit_on_texts(a)\n",
        "\n",
        "#print(t.word_counts)\n",
        "#print(t.document_count)\n",
        "# word2inx\n",
        "#print(t.word_index)\n",
        "#print('Number of unique words:', len(t.word_index))\n",
        "\n",
        "#word2ind\n",
        "word2idx = t.word_index\n",
        "print(list(word2idx.items())[:10])\n",
        "\n",
        "#ind2word\n",
        "idx2word = dict([(value,key) for key, value in t.word_index.items()])\n",
        "print(list(idx2word.items())[:10])\n",
        "\n",
        "# sents_as_ids\n",
        "sents_as_ids = []\n",
        "for i in a:\n",
        "    #print(i)\n",
        "    temp = i.split()\n",
        "    #print(str(temp))\n",
        "    sents_as_ids.append([word2idx[x] for x in temp])\n",
        "    #print(sents_as_ids) \n",
        "\n",
        "\n",
        "print(sents_as_ids[:3])\n",
        "\n",
        "vocab_size = len(word2idx) + 1 # 1 was added for zero padding\n",
        "embed_size = 100"
      ],
      "execution_count": 12,
      "outputs": [
        {
          "output_type": "stream",
          "text": [
            "[('could', 1), ('would', 2), ('mr', 3), ('mrs', 4), ('must', 5), ('said', 6), ('one', 7), ('much', 8), ('miss', 9), ('every', 10)]\n",
            "[(1, 'could'), (2, 'would'), (3, 'mr'), (4, 'mrs'), (5, 'must'), (6, 'said'), (7, 'one'), (8, 'much'), (9, 'miss'), (10, 'every')]\n",
            "[[313, 1398, 76, 4338], [236], [112, 102, 60, 347, 2429]]\n"
          ],
          "name": "stdout"
        }
      ]
    },
    {
      "cell_type": "markdown",
      "metadata": {
        "id": "u_2nLH8lz9M6",
        "colab_type": "text"
      },
      "source": [
        "4. Generating training instances"
      ]
    },
    {
      "cell_type": "code",
      "metadata": {
        "id": "uKShGkeg0AMN",
        "colab_type": "code",
        "colab": {}
      },
      "source": [
        "from keras.preprocessing.sequence import skipgrams\n",
        "skip_grams = [skipgrams(sent, vocabulary_size=vocab_size, window_size=5) for sent in\n",
        "sents_as_ids]"
      ],
      "execution_count": 0,
      "outputs": []
    },
    {
      "cell_type": "code",
      "metadata": {
        "id": "8mXTgPnV1RnM",
        "colab_type": "code",
        "outputId": "cea73b1b-e1bb-4871-f360-d7affad8255f",
        "colab": {
          "base_uri": "https://localhost:8080/",
          "height": 420
        }
      },
      "source": [
        "pairs, labels = skip_grams[0][0], skip_grams[0][1]\n",
        "for i in range(len(pairs)):\n",
        "  print('({:s} ({:d}), {:s} ({:d})) -> {:d}'.format(\n",
        "  # the first word and its index\n",
        "  idx2word[pairs[i][0]], pairs[i][0],\n",
        "  # the second word and its index\n",
        "  idx2word[pairs[i][1]], pairs[i][1],\n",
        "  # the label\n",
        "  labels[i]))"
      ],
      "execution_count": 0,
      "outputs": [
        {
          "output_type": "stream",
          "text": [
            "(sensibility (1398), jane (76)) -> 1\n",
            "(austen (4338), sense (313)) -> 1\n",
            "(austen (4338), lake (9604)) -> 0\n",
            "(sense (313), unanswerable (4454)) -> 0\n",
            "(sensibility (1398), fairest (5923)) -> 0\n",
            "(sense (313), double (3058)) -> 0\n",
            "(jane (76), producing (3325)) -> 0\n",
            "(sense (313), austen (4338)) -> 1\n",
            "(sensibility (1398), sense (313)) -> 1\n",
            "(austen (4338), forenoon (5701)) -> 0\n",
            "(sensibility (1398), shrink (5156)) -> 0\n",
            "(jane (76), sense (313)) -> 1\n",
            "(jane (76), sensibility (1398)) -> 1\n",
            "(austen (4338), jane (76)) -> 1\n",
            "(austen (4338), quieted (4369)) -> 0\n",
            "(sense (313), sensibility (1398)) -> 1\n",
            "(sense (313), jane (76)) -> 1\n",
            "(sense (313), misapplied (7191)) -> 0\n",
            "(austen (4338), sensibility (1398)) -> 1\n",
            "(jane (76), repossessed (9904)) -> 0\n",
            "(sensibility (1398), austen (4338)) -> 1\n",
            "(jane (76), austen (4338)) -> 1\n",
            "(sensibility (1398), betrayed (2045)) -> 0\n",
            "(jane (76), subdued (2686)) -> 0\n"
          ],
          "name": "stdout"
        }
      ]
    },
    {
      "cell_type": "markdown",
      "metadata": {
        "id": "VdasiM9n1dWz",
        "colab_type": "text"
      },
      "source": [
        "5. Building the Skip-gram Neural Network Architecture"
      ]
    },
    {
      "cell_type": "code",
      "metadata": {
        "id": "3_rMIqi-1g0c",
        "colab_type": "code",
        "colab": {}
      },
      "source": [
        "from keras.layers import Dot, Input\n",
        "from keras.layers.core import Dense, Reshape\n",
        "from keras.layers.embeddings import Embedding\n",
        "from keras.models import Model\n",
        "from keras.utils import plot_model"
      ],
      "execution_count": 0,
      "outputs": []
    },
    {
      "cell_type": "markdown",
      "metadata": {
        "id": "61ygyIHN12sF",
        "colab_type": "text"
      },
      "source": [
        "A. The first step is to initialize and transform the first input using the following lines of code:"
      ]
    },
    {
      "cell_type": "code",
      "metadata": {
        "id": "B3jKqHlh15HY",
        "colab_type": "code",
        "outputId": "98cec862-a4c9-4025-e0d2-4862f398cad0",
        "colab": {
          "base_uri": "https://localhost:8080/",
          "height": 138
        }
      },
      "source": [
        "target_word = Input((1,), dtype='int32')\n",
        "target_embedding = Embedding(vocab_size, embed_size, name='target_embed_layer', embeddings_initializer='glorot_uniform', input_length=1)(target_word)\n",
        "target_input = Reshape((embed_size, ))(target_embedding)"
      ],
      "execution_count": 0,
      "outputs": [
        {
          "output_type": "stream",
          "text": [
            "WARNING:tensorflow:From /usr/local/lib/python3.6/dist-packages/keras/backend/tensorflow_backend.py:66: The name tf.get_default_graph is deprecated. Please use tf.compat.v1.get_default_graph instead.\n",
            "\n",
            "WARNING:tensorflow:From /usr/local/lib/python3.6/dist-packages/keras/backend/tensorflow_backend.py:541: The name tf.placeholder is deprecated. Please use tf.compat.v1.placeholder instead.\n",
            "\n",
            "WARNING:tensorflow:From /usr/local/lib/python3.6/dist-packages/keras/backend/tensorflow_backend.py:4432: The name tf.random_uniform is deprecated. Please use tf.random.uniform instead.\n",
            "\n"
          ],
          "name": "stdout"
        }
      ]
    },
    {
      "cell_type": "markdown",
      "metadata": {
        "id": "PtTR42GT2vDy",
        "colab_type": "text"
      },
      "source": [
        "B. Write similar code for the ‘context_word’ input."
      ]
    },
    {
      "cell_type": "code",
      "metadata": {
        "id": "pHsFhJea2xAW",
        "colab_type": "code",
        "colab": {}
      },
      "source": [
        "context_word = Input((1,), dtype='int32')\n",
        "context_embedding = Embedding(vocab_size, embed_size, name='context_embed_layer', embeddings_initializer='glorot_uniform', input_length=1)(context_word)\n",
        "context_input = Reshape((embed_size, ))(context_embedding)"
      ],
      "execution_count": 0,
      "outputs": []
    },
    {
      "cell_type": "markdown",
      "metadata": {
        "id": "7szvJ0l673M4",
        "colab_type": "text"
      },
      "source": [
        "C. Merge the inputs."
      ]
    },
    {
      "cell_type": "code",
      "metadata": {
        "id": "SCA3iVJM75Hd",
        "colab_type": "code",
        "colab": {}
      },
      "source": [
        "merged_inputs = Dot(axes=-1, normalize=False)([target_input, context_input])"
      ],
      "execution_count": 0,
      "outputs": []
    },
    {
      "cell_type": "markdown",
      "metadata": {
        "id": "CnLr6uZm7_hf",
        "colab_type": "text"
      },
      "source": [
        "D. Pass the merged inputs into sigmoid activated layer"
      ]
    },
    {
      "cell_type": "code",
      "metadata": {
        "id": "M53eBvqB8CTC",
        "colab_type": "code",
        "colab": {}
      },
      "source": [
        "label = Dense(1, input_shape=(1,), activation='sigmoid', kernel_initializer='glorot_uniform')(merged_inputs)"
      ],
      "execution_count": 0,
      "outputs": []
    },
    {
      "cell_type": "markdown",
      "metadata": {
        "id": "T2zaeIS9A8Ky",
        "colab_type": "text"
      },
      "source": [
        "E. Initialize the model:"
      ]
    },
    {
      "cell_type": "code",
      "metadata": {
        "id": "_VAu_jagA-nN",
        "colab_type": "code",
        "colab": {}
      },
      "source": [
        "model = Model(inputs=[target_word, context_word], outputs=[label])\n",
        "# label is the output of step D.\n"
      ],
      "execution_count": 0,
      "outputs": []
    },
    {
      "cell_type": "markdown",
      "metadata": {
        "id": "nIf4fF2sGC-q",
        "colab_type": "text"
      },
      "source": [
        "F. Compile the model using the <model.compile> command. Use Loss = ‘mean_squared_error’,\n",
        "optimizer = ‘rmsprop’.\n"
      ]
    },
    {
      "cell_type": "code",
      "metadata": {
        "id": "aBl716a6GDwc",
        "colab_type": "code",
        "outputId": "c8fe8456-496b-485b-acd5-75bb6a54348e",
        "colab": {
          "base_uri": "https://localhost:8080/",
          "height": 490
        }
      },
      "source": [
        "model.compile(loss='mean_squared_error', optimizer='rmsprop')\n",
        "model.summary()"
      ],
      "execution_count": 0,
      "outputs": [
        {
          "output_type": "stream",
          "text": [
            "WARNING:tensorflow:From /usr/local/lib/python3.6/dist-packages/keras/optimizers.py:793: The name tf.train.Optimizer is deprecated. Please use tf.compat.v1.train.Optimizer instead.\n",
            "\n",
            "Model: \"model_1\"\n",
            "__________________________________________________________________________________________________\n",
            "Layer (type)                    Output Shape         Param #     Connected to                     \n",
            "==================================================================================================\n",
            "input_1 (InputLayer)            (None, 1)            0                                            \n",
            "__________________________________________________________________________________________________\n",
            "input_2 (InputLayer)            (None, 1)            0                                            \n",
            "__________________________________________________________________________________________________\n",
            "target_embed_layer (Embedding)  (None, 1, 100)       1017200     input_1[0][0]                    \n",
            "__________________________________________________________________________________________________\n",
            "context_embed_layer (Embedding) (None, 1, 100)       1017200     input_2[0][0]                    \n",
            "__________________________________________________________________________________________________\n",
            "reshape_1 (Reshape)             (None, 100)          0           target_embed_layer[0][0]         \n",
            "__________________________________________________________________________________________________\n",
            "reshape_2 (Reshape)             (None, 100)          0           context_embed_layer[0][0]        \n",
            "__________________________________________________________________________________________________\n",
            "dot_1 (Dot)                     (None, 1)            0           reshape_1[0][0]                  \n",
            "                                                                 reshape_2[0][0]                  \n",
            "__________________________________________________________________________________________________\n",
            "dense_1 (Dense)                 (None, 1)            2           dot_1[0][0]                      \n",
            "==================================================================================================\n",
            "Total params: 2,034,402\n",
            "Trainable params: 2,034,402\n",
            "Non-trainable params: 0\n",
            "__________________________________________________________________________________________________\n"
          ],
          "name": "stdout"
        }
      ]
    },
    {
      "cell_type": "markdown",
      "metadata": {
        "id": "ViBMMQBbH6Yt",
        "colab_type": "text"
      },
      "source": [
        "You can also visualize the model architecture"
      ]
    },
    {
      "cell_type": "code",
      "metadata": {
        "id": "fJIJLRsEH8uB",
        "colab_type": "code",
        "outputId": "faf9f839-2847-4eee-876a-49ec72a4d56c",
        "colab": {
          "base_uri": "https://localhost:8080/",
          "height": 729
        }
      },
      "source": [
        "from IPython.display import SVG\n",
        "from keras.utils import vis_utils\n",
        "SVG(vis_utils.model_to_dot(model, show_shapes=True,\n",
        "show_layer_names=True).create(prog='dot', format='svg'))"
      ],
      "execution_count": 0,
      "outputs": [
        {
          "output_type": "execute_result",
          "data": {
            "text/plain": [
              "<IPython.core.display.SVG object>"
            ],
            "image/svg+xml": "<svg height=\"516pt\" viewBox=\"0.00 0.00 765.50 387.00\" width=\"1021pt\" xmlns=\"http://www.w3.org/2000/svg\" xmlns:xlink=\"http://www.w3.org/1999/xlink\">\n<g class=\"graph\" id=\"graph0\" transform=\"scale(1.3333 1.3333) rotate(0) translate(4 383)\">\n<title>G</title>\n<polygon fill=\"#ffffff\" points=\"-4,4 -4,-383 761.5,-383 761.5,4 -4,4\" stroke=\"transparent\"/>\n<!-- 139804570261264 -->\n<g class=\"node\" id=\"node1\">\n<title>139804570261264</title>\n<polygon fill=\"none\" points=\"50.5,-332.5 50.5,-378.5 313.5,-378.5 313.5,-332.5 50.5,-332.5\" stroke=\"#000000\"/>\n<text fill=\"#000000\" font-family=\"Times,serif\" font-size=\"14.00\" text-anchor=\"middle\" x=\"117\" y=\"-351.8\">input_1: InputLayer</text>\n<polyline fill=\"none\" points=\"183.5,-332.5 183.5,-378.5 \" stroke=\"#000000\"/>\n<text fill=\"#000000\" font-family=\"Times,serif\" font-size=\"14.00\" text-anchor=\"middle\" x=\"212.5\" y=\"-363.3\">input:</text>\n<polyline fill=\"none\" points=\"183.5,-355.5 241.5,-355.5 \" stroke=\"#000000\"/>\n<text fill=\"#000000\" font-family=\"Times,serif\" font-size=\"14.00\" text-anchor=\"middle\" x=\"212.5\" y=\"-340.3\">output:</text>\n<polyline fill=\"none\" points=\"241.5,-332.5 241.5,-378.5 \" stroke=\"#000000\"/>\n<text fill=\"#000000\" font-family=\"Times,serif\" font-size=\"14.00\" text-anchor=\"middle\" x=\"277.5\" y=\"-363.3\">(None, 1)</text>\n<polyline fill=\"none\" points=\"241.5,-355.5 313.5,-355.5 \" stroke=\"#000000\"/>\n<text fill=\"#000000\" font-family=\"Times,serif\" font-size=\"14.00\" text-anchor=\"middle\" x=\"277.5\" y=\"-340.3\">(None, 1)</text>\n</g>\n<!-- 139805526906304 -->\n<g class=\"node\" id=\"node3\">\n<title>139805526906304</title>\n<polygon fill=\"none\" points=\"0,-249.5 0,-295.5 364,-295.5 364,-249.5 0,-249.5\" stroke=\"#000000\"/>\n<text fill=\"#000000\" font-family=\"Times,serif\" font-size=\"14.00\" text-anchor=\"middle\" x=\"102\" y=\"-268.8\">target_embed_layer: Embedding</text>\n<polyline fill=\"none\" points=\"204,-249.5 204,-295.5 \" stroke=\"#000000\"/>\n<text fill=\"#000000\" font-family=\"Times,serif\" font-size=\"14.00\" text-anchor=\"middle\" x=\"233\" y=\"-280.3\">input:</text>\n<polyline fill=\"none\" points=\"204,-272.5 262,-272.5 \" stroke=\"#000000\"/>\n<text fill=\"#000000\" font-family=\"Times,serif\" font-size=\"14.00\" text-anchor=\"middle\" x=\"233\" y=\"-257.3\">output:</text>\n<polyline fill=\"none\" points=\"262,-249.5 262,-295.5 \" stroke=\"#000000\"/>\n<text fill=\"#000000\" font-family=\"Times,serif\" font-size=\"14.00\" text-anchor=\"middle\" x=\"313\" y=\"-280.3\">(None, 1)</text>\n<polyline fill=\"none\" points=\"262,-272.5 364,-272.5 \" stroke=\"#000000\"/>\n<text fill=\"#000000\" font-family=\"Times,serif\" font-size=\"14.00\" text-anchor=\"middle\" x=\"313\" y=\"-257.3\">(None, 1, 100)</text>\n</g>\n<!-- 139804570261264&#45;&gt;139805526906304 -->\n<g class=\"edge\" id=\"edge1\">\n<title>139804570261264-&gt;139805526906304</title>\n<path d=\"M182,-332.3799C182,-324.1745 182,-314.7679 182,-305.8786\" fill=\"none\" stroke=\"#000000\"/>\n<polygon fill=\"#000000\" points=\"185.5001,-305.784 182,-295.784 178.5001,-305.784 185.5001,-305.784\" stroke=\"#000000\"/>\n</g>\n<!-- 139804584576056 -->\n<g class=\"node\" id=\"node2\">\n<title>139804584576056</title>\n<polygon fill=\"none\" points=\"438.5,-332.5 438.5,-378.5 701.5,-378.5 701.5,-332.5 438.5,-332.5\" stroke=\"#000000\"/>\n<text fill=\"#000000\" font-family=\"Times,serif\" font-size=\"14.00\" text-anchor=\"middle\" x=\"505\" y=\"-351.8\">input_2: InputLayer</text>\n<polyline fill=\"none\" points=\"571.5,-332.5 571.5,-378.5 \" stroke=\"#000000\"/>\n<text fill=\"#000000\" font-family=\"Times,serif\" font-size=\"14.00\" text-anchor=\"middle\" x=\"600.5\" y=\"-363.3\">input:</text>\n<polyline fill=\"none\" points=\"571.5,-355.5 629.5,-355.5 \" stroke=\"#000000\"/>\n<text fill=\"#000000\" font-family=\"Times,serif\" font-size=\"14.00\" text-anchor=\"middle\" x=\"600.5\" y=\"-340.3\">output:</text>\n<polyline fill=\"none\" points=\"629.5,-332.5 629.5,-378.5 \" stroke=\"#000000\"/>\n<text fill=\"#000000\" font-family=\"Times,serif\" font-size=\"14.00\" text-anchor=\"middle\" x=\"665.5\" y=\"-363.3\">(None, 1)</text>\n<polyline fill=\"none\" points=\"629.5,-355.5 701.5,-355.5 \" stroke=\"#000000\"/>\n<text fill=\"#000000\" font-family=\"Times,serif\" font-size=\"14.00\" text-anchor=\"middle\" x=\"665.5\" y=\"-340.3\">(None, 1)</text>\n</g>\n<!-- 139805526449792 -->\n<g class=\"node\" id=\"node4\">\n<title>139805526449792</title>\n<polygon fill=\"none\" points=\"382.5,-249.5 382.5,-295.5 757.5,-295.5 757.5,-249.5 382.5,-249.5\" stroke=\"#000000\"/>\n<text fill=\"#000000\" font-family=\"Times,serif\" font-size=\"14.00\" text-anchor=\"middle\" x=\"490\" y=\"-268.8\">context_embed_layer: Embedding</text>\n<polyline fill=\"none\" points=\"597.5,-249.5 597.5,-295.5 \" stroke=\"#000000\"/>\n<text fill=\"#000000\" font-family=\"Times,serif\" font-size=\"14.00\" text-anchor=\"middle\" x=\"626.5\" y=\"-280.3\">input:</text>\n<polyline fill=\"none\" points=\"597.5,-272.5 655.5,-272.5 \" stroke=\"#000000\"/>\n<text fill=\"#000000\" font-family=\"Times,serif\" font-size=\"14.00\" text-anchor=\"middle\" x=\"626.5\" y=\"-257.3\">output:</text>\n<polyline fill=\"none\" points=\"655.5,-249.5 655.5,-295.5 \" stroke=\"#000000\"/>\n<text fill=\"#000000\" font-family=\"Times,serif\" font-size=\"14.00\" text-anchor=\"middle\" x=\"706.5\" y=\"-280.3\">(None, 1)</text>\n<polyline fill=\"none\" points=\"655.5,-272.5 757.5,-272.5 \" stroke=\"#000000\"/>\n<text fill=\"#000000\" font-family=\"Times,serif\" font-size=\"14.00\" text-anchor=\"middle\" x=\"706.5\" y=\"-257.3\">(None, 1, 100)</text>\n</g>\n<!-- 139804584576056&#45;&gt;139805526449792 -->\n<g class=\"edge\" id=\"edge2\">\n<title>139804584576056-&gt;139805526449792</title>\n<path d=\"M570,-332.3799C570,-324.1745 570,-314.7679 570,-305.8786\" fill=\"none\" stroke=\"#000000\"/>\n<polygon fill=\"#000000\" points=\"573.5001,-305.784 570,-295.784 566.5001,-305.784 573.5001,-305.784\" stroke=\"#000000\"/>\n</g>\n<!-- 139805526907536 -->\n<g class=\"node\" id=\"node5\">\n<title>139805526907536</title>\n<polygon fill=\"none\" points=\"77,-166.5 77,-212.5 367,-212.5 367,-166.5 77,-166.5\" stroke=\"#000000\"/>\n<text fill=\"#000000\" font-family=\"Times,serif\" font-size=\"14.00\" text-anchor=\"middle\" x=\"142\" y=\"-185.8\">reshape_1: Reshape</text>\n<polyline fill=\"none\" points=\"207,-166.5 207,-212.5 \" stroke=\"#000000\"/>\n<text fill=\"#000000\" font-family=\"Times,serif\" font-size=\"14.00\" text-anchor=\"middle\" x=\"236\" y=\"-197.3\">input:</text>\n<polyline fill=\"none\" points=\"207,-189.5 265,-189.5 \" stroke=\"#000000\"/>\n<text fill=\"#000000\" font-family=\"Times,serif\" font-size=\"14.00\" text-anchor=\"middle\" x=\"236\" y=\"-174.3\">output:</text>\n<polyline fill=\"none\" points=\"265,-166.5 265,-212.5 \" stroke=\"#000000\"/>\n<text fill=\"#000000\" font-family=\"Times,serif\" font-size=\"14.00\" text-anchor=\"middle\" x=\"316\" y=\"-197.3\">(None, 1, 100)</text>\n<polyline fill=\"none\" points=\"265,-189.5 367,-189.5 \" stroke=\"#000000\"/>\n<text fill=\"#000000\" font-family=\"Times,serif\" font-size=\"14.00\" text-anchor=\"middle\" x=\"316\" y=\"-174.3\">(None, 100)</text>\n</g>\n<!-- 139805526906304&#45;&gt;139805526907536 -->\n<g class=\"edge\" id=\"edge3\">\n<title>139805526906304-&gt;139805526907536</title>\n<path d=\"M193.1422,-249.3799C197.2256,-240.907 201.9262,-231.1531 206.3322,-222.0107\" fill=\"none\" stroke=\"#000000\"/>\n<polygon fill=\"#000000\" points=\"209.5903,-223.312 210.7788,-212.784 203.2844,-220.2729 209.5903,-223.312\" stroke=\"#000000\"/>\n</g>\n<!-- 139804326427560 -->\n<g class=\"node\" id=\"node6\">\n<title>139804326427560</title>\n<polygon fill=\"none\" points=\"405,-166.5 405,-212.5 695,-212.5 695,-166.5 405,-166.5\" stroke=\"#000000\"/>\n<text fill=\"#000000\" font-family=\"Times,serif\" font-size=\"14.00\" text-anchor=\"middle\" x=\"470\" y=\"-185.8\">reshape_2: Reshape</text>\n<polyline fill=\"none\" points=\"535,-166.5 535,-212.5 \" stroke=\"#000000\"/>\n<text fill=\"#000000\" font-family=\"Times,serif\" font-size=\"14.00\" text-anchor=\"middle\" x=\"564\" y=\"-197.3\">input:</text>\n<polyline fill=\"none\" points=\"535,-189.5 593,-189.5 \" stroke=\"#000000\"/>\n<text fill=\"#000000\" font-family=\"Times,serif\" font-size=\"14.00\" text-anchor=\"middle\" x=\"564\" y=\"-174.3\">output:</text>\n<polyline fill=\"none\" points=\"593,-166.5 593,-212.5 \" stroke=\"#000000\"/>\n<text fill=\"#000000\" font-family=\"Times,serif\" font-size=\"14.00\" text-anchor=\"middle\" x=\"644\" y=\"-197.3\">(None, 1, 100)</text>\n<polyline fill=\"none\" points=\"593,-189.5 695,-189.5 \" stroke=\"#000000\"/>\n<text fill=\"#000000\" font-family=\"Times,serif\" font-size=\"14.00\" text-anchor=\"middle\" x=\"644\" y=\"-174.3\">(None, 100)</text>\n</g>\n<!-- 139805526449792&#45;&gt;139804326427560 -->\n<g class=\"edge\" id=\"edge4\">\n<title>139805526449792-&gt;139804326427560</title>\n<path d=\"M564.4289,-249.3799C562.4302,-241.0854 560.1357,-231.5633 557.9732,-222.5889\" fill=\"none\" stroke=\"#000000\"/>\n<polygon fill=\"#000000\" points=\"561.3559,-221.6858 555.6106,-212.784 554.5507,-223.3257 561.3559,-221.6858\" stroke=\"#000000\"/>\n</g>\n<!-- 139804570263392 -->\n<g class=\"node\" id=\"node7\">\n<title>139804570263392</title>\n<polygon fill=\"none\" points=\"220,-83.5 220,-129.5 532,-129.5 532,-83.5 220,-83.5\" stroke=\"#000000\"/>\n<text fill=\"#000000\" font-family=\"Times,serif\" font-size=\"14.00\" text-anchor=\"middle\" x=\"260\" y=\"-102.8\">dot_1: Dot</text>\n<polyline fill=\"none\" points=\"300,-83.5 300,-129.5 \" stroke=\"#000000\"/>\n<text fill=\"#000000\" font-family=\"Times,serif\" font-size=\"14.00\" text-anchor=\"middle\" x=\"329\" y=\"-114.3\">input:</text>\n<polyline fill=\"none\" points=\"300,-106.5 358,-106.5 \" stroke=\"#000000\"/>\n<text fill=\"#000000\" font-family=\"Times,serif\" font-size=\"14.00\" text-anchor=\"middle\" x=\"329\" y=\"-91.3\">output:</text>\n<polyline fill=\"none\" points=\"358,-83.5 358,-129.5 \" stroke=\"#000000\"/>\n<text fill=\"#000000\" font-family=\"Times,serif\" font-size=\"14.00\" text-anchor=\"middle\" x=\"445\" y=\"-114.3\">[(None, 100), (None, 100)]</text>\n<polyline fill=\"none\" points=\"358,-106.5 532,-106.5 \" stroke=\"#000000\"/>\n<text fill=\"#000000\" font-family=\"Times,serif\" font-size=\"14.00\" text-anchor=\"middle\" x=\"445\" y=\"-91.3\">(None, 1)</text>\n</g>\n<!-- 139805526907536&#45;&gt;139804570263392 -->\n<g class=\"edge\" id=\"edge5\">\n<title>139805526907536-&gt;139804570263392</title>\n<path d=\"M264.8976,-166.3799C283.2602,-156.4832 304.8653,-144.8388 324.1178,-134.4625\" fill=\"none\" stroke=\"#000000\"/>\n<polygon fill=\"#000000\" points=\"325.9233,-137.4654 333.0656,-129.6399 322.6022,-131.3034 325.9233,-137.4654\" stroke=\"#000000\"/>\n</g>\n<!-- 139804326427560&#45;&gt;139804570263392 -->\n<g class=\"edge\" id=\"edge6\">\n<title>139804326427560-&gt;139804570263392</title>\n<path d=\"M501.5313,-166.3799C480.5023,-156.3488 455.7095,-144.5224 433.7358,-134.0406\" fill=\"none\" stroke=\"#000000\"/>\n<polygon fill=\"#000000\" points=\"435.0429,-130.7864 424.5103,-129.6399 432.0291,-137.1044 435.0429,-130.7864\" stroke=\"#000000\"/>\n</g>\n<!-- 139804317626320 -->\n<g class=\"node\" id=\"node8\">\n<title>139804317626320</title>\n<polygon fill=\"none\" points=\"257.5,-.5 257.5,-46.5 494.5,-46.5 494.5,-.5 257.5,-.5\" stroke=\"#000000\"/>\n<text fill=\"#000000\" font-family=\"Times,serif\" font-size=\"14.00\" text-anchor=\"middle\" x=\"311\" y=\"-19.8\">dense_1: Dense</text>\n<polyline fill=\"none\" points=\"364.5,-.5 364.5,-46.5 \" stroke=\"#000000\"/>\n<text fill=\"#000000\" font-family=\"Times,serif\" font-size=\"14.00\" text-anchor=\"middle\" x=\"393.5\" y=\"-31.3\">input:</text>\n<polyline fill=\"none\" points=\"364.5,-23.5 422.5,-23.5 \" stroke=\"#000000\"/>\n<text fill=\"#000000\" font-family=\"Times,serif\" font-size=\"14.00\" text-anchor=\"middle\" x=\"393.5\" y=\"-8.3\">output:</text>\n<polyline fill=\"none\" points=\"422.5,-.5 422.5,-46.5 \" stroke=\"#000000\"/>\n<text fill=\"#000000\" font-family=\"Times,serif\" font-size=\"14.00\" text-anchor=\"middle\" x=\"458.5\" y=\"-31.3\">(None, 1)</text>\n<polyline fill=\"none\" points=\"422.5,-23.5 494.5,-23.5 \" stroke=\"#000000\"/>\n<text fill=\"#000000\" font-family=\"Times,serif\" font-size=\"14.00\" text-anchor=\"middle\" x=\"458.5\" y=\"-8.3\">(None, 1)</text>\n</g>\n<!-- 139804570263392&#45;&gt;139804317626320 -->\n<g class=\"edge\" id=\"edge7\">\n<title>139804570263392-&gt;139804317626320</title>\n<path d=\"M376,-83.3799C376,-75.1745 376,-65.7679 376,-56.8786\" fill=\"none\" stroke=\"#000000\"/>\n<polygon fill=\"#000000\" points=\"379.5001,-56.784 376,-46.784 372.5001,-56.784 379.5001,-56.784\" stroke=\"#000000\"/>\n</g>\n</g>\n</svg>"
          },
          "metadata": {
            "tags": []
          },
          "execution_count": 29
        }
      ]
    },
    {
      "cell_type": "markdown",
      "metadata": {
        "id": "99Q9toCGIyo0",
        "colab_type": "text"
      },
      "source": [
        "6. Training the Model"
      ]
    },
    {
      "cell_type": "code",
      "metadata": {
        "id": "9OSA5qfsI1Cq",
        "colab_type": "code",
        "outputId": "efe97003-9336-4255-e996-77be6d592075",
        "colab": {
          "base_uri": "https://localhost:8080/",
          "height": 894
        }
      },
      "source": [
        "import numpy as np \n",
        "import math\n",
        "\n",
        "for epoch in range(1, 6):\n",
        "  epoch_loss = 0\n",
        "  # in each epoch, train all the sentences, one per iteration=> batch_size = num_sents\n",
        "  for i, sent_examples in enumerate(skip_grams):\n",
        "    target_wds = np.array([pair[0] for pair in sent_examples[0]], dtype='int32')\n",
        "    context_wds = np.array([pair[1] for pair in sent_examples[0]], dtype='int32')\n",
        "    labels = np.array(sent_examples[1], dtype='int32')\n",
        "    X = [target_wds, context_wds]\n",
        "    Y = labels\n",
        "    if i % 5000 == 0: # after 5000 sentences i.e. 5000 iterations\n",
        "      print('Processed %d sentences' %i)\n",
        "    #print(model.train_on_batch(X,Y))\n",
        "    if math.isnan(model.train_on_batch(X,Y)) == False:\n",
        "      epoch_loss += model.train_on_batch(X, Y)\n",
        "  print('Processed all %d sentences' %i)\n",
        "  print('Epoch:', epoch, 'Loss:', epoch_loss, '\\n')\n"
      ],
      "execution_count": 0,
      "outputs": [
        {
          "output_type": "stream",
          "text": [
            "Processed 0 sentences\n",
            "WARNING:tensorflow:From /usr/local/lib/python3.6/dist-packages/keras/backend/tensorflow_backend.py:1033: The name tf.assign_add is deprecated. Please use tf.compat.v1.assign_add instead.\n",
            "\n",
            "WARNING:tensorflow:From /usr/local/lib/python3.6/dist-packages/keras/backend/tensorflow_backend.py:1020: The name tf.assign is deprecated. Please use tf.compat.v1.assign instead.\n",
            "\n",
            "WARNING:tensorflow:From /usr/local/lib/python3.6/dist-packages/keras/backend/tensorflow_backend.py:3005: The name tf.Session is deprecated. Please use tf.compat.v1.Session instead.\n",
            "\n",
            "WARNING:tensorflow:From /usr/local/lib/python3.6/dist-packages/keras/backend/tensorflow_backend.py:190: The name tf.get_default_session is deprecated. Please use tf.compat.v1.get_default_session instead.\n",
            "\n",
            "WARNING:tensorflow:From /usr/local/lib/python3.6/dist-packages/keras/backend/tensorflow_backend.py:197: The name tf.ConfigProto is deprecated. Please use tf.compat.v1.ConfigProto instead.\n",
            "\n",
            "WARNING:tensorflow:From /usr/local/lib/python3.6/dist-packages/keras/backend/tensorflow_backend.py:207: The name tf.global_variables is deprecated. Please use tf.compat.v1.global_variables instead.\n",
            "\n",
            "WARNING:tensorflow:From /usr/local/lib/python3.6/dist-packages/keras/backend/tensorflow_backend.py:216: The name tf.is_variable_initialized is deprecated. Please use tf.compat.v1.is_variable_initialized instead.\n",
            "\n",
            "WARNING:tensorflow:From /usr/local/lib/python3.6/dist-packages/keras/backend/tensorflow_backend.py:223: The name tf.variables_initializer is deprecated. Please use tf.compat.v1.variables_initializer instead.\n",
            "\n",
            "Processed 5000 sentences\n",
            "Processed 10000 sentences\n",
            "Processed 15000 sentences\n",
            "Processed all 16337 sentences\n",
            "Epoch: 1 Loss: 2301.1521145842853 \n",
            "\n",
            "Processed 0 sentences\n",
            "Processed 5000 sentences\n",
            "Processed 10000 sentences\n",
            "Processed 15000 sentences\n",
            "Processed all 16337 sentences\n",
            "Epoch: 2 Loss: 1750.4311990418137 \n",
            "\n",
            "Processed 0 sentences\n",
            "Processed 5000 sentences\n",
            "Processed 10000 sentences\n",
            "Processed 15000 sentences\n",
            "Processed all 16337 sentences\n",
            "Epoch: 3 Loss: 1570.411936851363 \n",
            "\n",
            "Processed 0 sentences\n",
            "Processed 5000 sentences\n",
            "Processed 10000 sentences\n",
            "Processed 15000 sentences\n",
            "Processed all 16337 sentences\n",
            "Epoch: 4 Loss: 1459.2819808660465 \n",
            "\n",
            "Processed 0 sentences\n",
            "Processed 5000 sentences\n",
            "Processed 10000 sentences\n",
            "Processed 15000 sentences\n",
            "Processed all 16337 sentences\n",
            "Epoch: 5 Loss: 1361.2874622983636 \n",
            "\n"
          ],
          "name": "stdout"
        }
      ]
    },
    {
      "cell_type": "markdown",
      "metadata": {
        "id": "-rgF65R4OwAg",
        "colab_type": "text"
      },
      "source": [
        "7. Getting the Word Embeddings"
      ]
    },
    {
      "cell_type": "code",
      "metadata": {
        "id": "Rh0QQJdwOyQN",
        "colab_type": "code",
        "colab": {}
      },
      "source": [
        "word_embeddings = model.get_layer('target_embed_layer').get_weights()[0][1:] # Recall that 0 was left for padding\n"
      ],
      "execution_count": 0,
      "outputs": []
    },
    {
      "cell_type": "markdown",
      "metadata": {
        "id": "s1kZhtGCO9WD",
        "colab_type": "text"
      },
      "source": [
        "Sanity Check"
      ]
    },
    {
      "cell_type": "code",
      "metadata": {
        "id": "p37PNodOO_YU",
        "colab_type": "code",
        "outputId": "44a9b02f-bced-4a2e-8a30-3243d7261e95",
        "colab": {
          "base_uri": "https://localhost:8080/",
          "height": 34
        }
      },
      "source": [
        "print(word_embeddings.shape)"
      ],
      "execution_count": 0,
      "outputs": [
        {
          "output_type": "stream",
          "text": [
            "(10171, 100)\n"
          ],
          "name": "stdout"
        }
      ]
    },
    {
      "cell_type": "code",
      "metadata": {
        "id": "3sZTAaczPAe8",
        "colab_type": "code",
        "outputId": "cd4ab8a3-af6c-459d-f080-36471b04c2c4",
        "colab": {
          "base_uri": "https://localhost:8080/",
          "height": 235
        }
      },
      "source": [
        "from pandas import DataFrame\n",
        "print(DataFrame(word_embeddings, index=idx2word.values()).head(10))"
      ],
      "execution_count": 0,
      "outputs": [
        {
          "output_type": "stream",
          "text": [
            "             0         1         2   ...        97        98        99\n",
            "could -0.057503  0.078258 -0.150479  ... -0.125350 -0.040457  0.058685\n",
            "would -0.072480  0.118796  0.061979  ... -0.228607  0.139279  0.057542\n",
            "mr    -0.083789  0.132328  0.044928  ... -0.303188 -0.072274  0.103361\n",
            "mrs    0.159288 -0.003670 -0.197643  ... -0.334622  0.098793  0.016832\n",
            "must  -0.045403  0.211744  0.069021  ... -0.197327 -0.075032 -0.393683\n",
            "said   0.068981  0.222880  0.094180  ... -0.345576  0.003286  0.088417\n",
            "one   -0.163962  0.091581 -0.293868  ...  0.017417  0.027737  0.012774\n",
            "much  -0.143721  0.106195  0.008758  ... -0.174893 -0.113461 -0.212503\n",
            "miss   0.055836  0.099174  0.018014  ... -0.159134  0.150408  0.021515\n",
            "every  0.253846  0.311054  0.002639  ... -0.196641 -0.143397 -0.012405\n",
            "\n",
            "[10 rows x 100 columns]\n"
          ],
          "name": "stdout"
        }
      ]
    },
    {
      "cell_type": "markdown",
      "metadata": {
        "id": "lfY1TpnSPMG1",
        "colab_type": "text"
      },
      "source": [
        "8. Measuring Similarity Between Word Pairs"
      ]
    },
    {
      "cell_type": "code",
      "metadata": {
        "id": "vcHWv59CPOdP",
        "colab_type": "code",
        "colab": {}
      },
      "source": [
        "from sklearn.metrics.pairwise import cosine_similarity\n",
        "similarity_matrix = cosine_similarity(word_embeddings)"
      ],
      "execution_count": 0,
      "outputs": []
    },
    {
      "cell_type": "code",
      "metadata": {
        "id": "ISl9CJ1SPmx3",
        "colab_type": "code",
        "outputId": "d41f2c81-40d1-48d8-b40c-0d9f6dced815",
        "colab": {
          "base_uri": "https://localhost:8080/",
          "height": 34
        }
      },
      "source": [
        "print(similarity_matrix.shape)\n"
      ],
      "execution_count": 0,
      "outputs": [
        {
          "output_type": "stream",
          "text": [
            "(10171, 10171)\n"
          ],
          "name": "stdout"
        }
      ]
    },
    {
      "cell_type": "markdown",
      "metadata": {
        "id": "1cl0HxO1Pppv",
        "colab_type": "text"
      },
      "source": [
        "9. Exploring and Visualizing your Word Embeddings using t-SNE\n",
        "----A. Get the most similar words to the search items in the list below"
      ]
    },
    {
      "cell_type": "code",
      "metadata": {
        "id": "qXWIpUY9PsFo",
        "colab_type": "code",
        "colab": {}
      },
      "source": [
        "search_terms = ['man', 'love', 'hatred', 'woman', 'wisdom', 'kindness', 'god', 'man', 'folly', 'fool']"
      ],
      "execution_count": 0,
      "outputs": []
    },
    {
      "cell_type": "markdown",
      "metadata": {
        "id": "qLXtWKDYP35C",
        "colab_type": "text"
      },
      "source": [
        "# Get the 5 words most similar to the search terms"
      ]
    },
    {
      "cell_type": "code",
      "metadata": {
        "id": "-Qtl5wyBP51s",
        "colab_type": "code",
        "outputId": "0c989c8d-4d6a-4d34-ffff-835c4bf48e79",
        "colab": {
          "base_uri": "https://localhost:8080/",
          "height": 54
        }
      },
      "source": [
        "similar_words = {term: [idx2word[idx]\n",
        "for idx in (-1 * similarity_matrix[word2idx[term]-1]).argsort()[1:6] + 1]\n",
        "for term in search_terms}\n",
        "\n",
        "\n",
        "print(similar_words)"
      ],
      "execution_count": 0,
      "outputs": [
        {
          "output_type": "stream",
          "text": [
            "{'man': ['pleasing', 'remarkably', 'sacrifice', 'description', 'proved'], 'love': ['prospect', 'imagination', 'liking', 'belong', 'connected'], 'hatred': ['desponding', 'snatched', 'flattery', 'informing', 'creations'], 'woman': ['continuing', 'north', 'proud', 'folding', 'suitable'], 'wisdom': ['neighbourly', 'arbour', 'embitter', 'eyelashes', 'pointer'], 'kindness': ['allowed', 'confinement', 'trivial', 'encouragement', 'park'], 'god': ['story', 'earnest', 'scenes', 'rejoice', 'ended'], 'folly': ['interested', 'testimony', 'announced', 'proofs', 'triumph'], 'fool': ['mixed', 'st', 'indebted', 'soften', 'opposing']}\n"
          ],
          "name": "stdout"
        }
      ]
    },
    {
      "cell_type": "markdown",
      "metadata": {
        "id": "jD9DB4AdQAUq",
        "colab_type": "text"
      },
      "source": [
        "B. Plot the words in the dictionary above using t-SNE https://lvdmaaten.github.io/tsne/\n",
        "Plot 500 of the word embeddings using the code snippets below:"
      ]
    },
    {
      "cell_type": "code",
      "metadata": {
        "id": "Sw9-_LrFQD63",
        "colab_type": "code",
        "outputId": "d089165b-669d-4d0d-f92f-dfe6721869be",
        "colab": {
          "base_uri": "https://localhost:8080/",
          "height": 483
        }
      },
      "source": [
        "from sklearn.manifold import TSNE\n",
        "import matplotlib.pyplot as plt\n",
        "tsne = TSNE(perplexity=3, n_components=2, init='pca', n_iter=5000, method='exact')\n",
        "np.set_printoptions(suppress=True)\n",
        "plot_only = 50\n",
        "T = tsne.fit_transform(word_embeddings[:plot_only, :])\n",
        "labels = [idx2word[i+1] for i in range(plot_only)]\n",
        "plt.figure(figsize=(14, 8))\n",
        "plt.scatter(T[:, 0], T[:, 1])\n",
        "for label, x, y in zip(labels, T[:, 0], T[:, 1]):\n",
        "  plt.annotate(label, xy=(x+1, y+1), xytext=(0, 0), textcoords='offset points', ha='right', va='bottom')\n"
      ],
      "execution_count": 0,
      "outputs": [
        {
          "output_type": "display_data",
          "data": {
            "image/png": "[encoded data removed]",
            "text/plain": [
              "<Figure size 1008x576 with 1 Axes>"
            ]
          },
          "metadata": {
            "tags": []
          }
        }
      ]
    }
  ]
}